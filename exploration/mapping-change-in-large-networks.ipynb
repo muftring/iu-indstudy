{
 "cells": [
  {
   "cell_type": "markdown",
   "metadata": {},
   "source": [
    "# Mapping Change in Large Networks\n",
    "\n",
    "(citiation, and link)\n",
    " "
   ]
  },
  {
   "cell_type": "markdown",
   "metadata": {},
   "source": [
    "## Abstract\n",
    "\n",
    "- change is fundamental\n",
    "- everything changes\n",
    "- networks and clustering methods have become important tools to comprehend structure\n",
    "- need to assign significance to partitioning, in order to distinguish meaningful changes from random fluctuations\n"
   ]
  },
  {
   "cell_type": "markdown",
   "metadata": {},
   "source": [
    "## Proposal / Hypothesis\n",
    "\n",
    "- bootstrap resampling (reference)\n",
    "- significance clustering\n",
    "- alluvial diagrams\n",
    "- realizing de Solla Price's vision of mapping change in science\n"
   ]
  },
  {
   "cell_type": "markdown",
   "metadata": {},
   "source": [
    "# Introduction\n",
    "\n",
    "To quantify change in large networks, we must first identify the important structures, then assess which of these structures are statistically significant, and finally capture how these structures change.\n",
    "\n",
    "clustering rather than stratification must be employed to comprehend the data\n",
    "\n",
    "Using the bootstrap resampling approach, we can assess the significance of clusters and estimate the accuracy of summary statistics based on the proportion of bootstrap networks that support the observation.\n",
    "\n",
    "Use alluvial diagrams to highlight and summarize the significant structural changes."
   ]
  },
  {
   "cell_type": "markdown",
   "metadata": {},
   "source": [
    "# Results"
   ]
  },
  {
   "cell_type": "markdown",
   "metadata": {},
   "source": [
    "## Significance Clustering\n",
    "\n",
    "- information-theoretic clustering method (reference) which can reveal regularities of information flow across directed and weighted networks\n",
    "- "
   ]
  },
  {
   "cell_type": "code",
   "execution_count": null,
   "metadata": {},
   "outputs": [],
   "source": []
  }
 ],
 "metadata": {
  "kernelspec": {
   "display_name": "Python 3",
   "language": "python",
   "name": "python3"
  },
  "language_info": {
   "codemirror_mode": {
    "name": "ipython",
    "version": 3
   },
   "file_extension": ".py",
   "mimetype": "text/x-python",
   "name": "python",
   "nbconvert_exporter": "python",
   "pygments_lexer": "ipython3",
   "version": "3.6.5"
  },
  "toc": {
   "base_numbering": 1,
   "nav_menu": {},
   "number_sections": false,
   "sideBar": false,
   "skip_h1_title": false,
   "title_cell": "Table of Contents",
   "title_sidebar": "Contents",
   "toc_cell": false,
   "toc_position": {},
   "toc_section_display": false,
   "toc_window_display": false
  }
 },
 "nbformat": 4,
 "nbformat_minor": 2
}
