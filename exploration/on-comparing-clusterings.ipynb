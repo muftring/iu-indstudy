{
 "cells": [
  {
   "cell_type": "markdown",
   "metadata": {},
   "source": [
    "# Exploring: *On comparing clusterings...*\n",
    "\n",
    "[On comparing clusterings:\n",
    "an element-centric framework unifies overlaps and hierarchy](../papers/1706.06136.pdf)\n",
    "\n",
    "[CluSim: a package for calculating clustering similarity](https://github.com/ajgates42/clusim)\n",
    "- [docs](https://ajgates42.github.io/clusim/html/clusim.html)"
   ]
  },
  {
   "cell_type": "markdown",
   "metadata": {},
   "source": [
    "# Notes\n",
    "\n",
    "existing clustering comparison measures have critical biases which undermine their usefulness\n",
    "\n",
    "no measure accomodates both overlapping and hierarchical clusterings\n",
    "\n"
   ]
  },
  {
   "cell_type": "markdown",
   "metadata": {},
   "source": [
    "## Measures\n",
    "\n",
    "\n",
    "## Biases\n",
    "\n",
    "What are the critical biases? (see references: [14, 15, 3, 16, 17])\n"
   ]
  },
  {
   "cell_type": "markdown",
   "metadata": {},
   "source": [
    "# Idea\n",
    "\n",
    "unify the comparison of disjoint, overlapping, and hierarchical structued clusterings\n"
   ]
  },
  {
   "cell_type": "markdown",
   "metadata": {},
   "source": [
    "# Approach\n",
    "\n",
    "elements are compared based on the relationships induced by the cluster structure\n",
    "\n",
    "the framework does not suffer from critical biases and naturallyt provides unique insights into how clusterinsg differ\n",
    "\n",
    "element-centric similarity can provide detailed insights into how two clusterings differ because the similarity is calculated at the level of individual elements\n",
    "\n",
    "simply examining individual element-wise scores reveal how consistently each element is grouped across clusterings\n",
    "\n"
   ]
  },
  {
   "cell_type": "markdown",
   "metadata": {},
   "source": [
    "## Concepts\n",
    "\n",
    "### cluster affiliation graph\n",
    "An undirected bipartite graph where one vertex set corresponds to the elements, the other corresponds to the clusters, and a weighted edge exists between a cluster and each of its elements.\n",
    "\n",
    "### cluster-induced element graph\n",
    "Formed by projecting the cluster affiliation graph (with $N \\times K_{c}$ bipartite adjacency matrix $\\mathbb{A}$) onto the element vertices resulting in a directed graph with the edge $w_{ij}$ between elements $v_{i}$ and $v_{j}$ having weight:\n",
    "\n",
    "$$w_{ij} = \\sum_{\\gamma}\\frac{a_{i\\gamma}a_{j\\gamma}}{\\sum_{k}a_{ik} \\sum_{m}a_{m\\gamma}}$$\n",
    "\n",
    "### element affinity matrix\n",
    "\n",
    "### element-wise comparison\n",
    "\n",
    "### clustering similarity\n",
    "\n",
    "### clustering differences\n",
    "\n",
    "### agreement\n",
    "The *average agreement* between a reference clustering and a set of clusterings measures the regular grouping of elements with respect to a reference clustering.\n",
    "\n",
    "### frustration\n",
    "The *frustration* within a set of clusterings reflects the consistency with which elements are grouped by the clustering."
   ]
  },
  {
   "cell_type": "markdown",
   "metadata": {},
   "source": [
    "## Terms\n",
    "\n",
    "### Types of Clusters\n",
    "**partition** - a clustering in which all elemtns are members of one, and only one, cluster<br>\n",
    "**overlapping** - clustering which allows elements to be members of multiple clusters<br>\n",
    "**hierarchical** - clusterings capture the nested organization of clusters at different scales \n"
   ]
  },
  {
   "cell_type": "markdown",
   "metadata": {},
   "source": [
    "## Notation\n",
    "\n",
    "$C$ - clustering<br>\n",
    "$E$ - <br>\n",
    "$K_{c}$ - number of clusters<br>\n",
    "$N$ - number of elements (vertices, nodes)<br>\n",
    "$V$ - elements, vertices (nodes)<br>\n",
    "\n",
    "$c_{\\beta}$ - a cluster in $C$<br>\n",
    "$h(l_{\\beta}) = e^{rl_{\\beta}}$ - hierarchical weighting function<br>\n",
    "$l_{\\beta}$ - hierachical level $\\in [0, 1]$<br>\n",
    "$r$ - scaling parameter<br>\n",
    "$w_{ij}$ - edge weight between elements $v_{i}$ and $v_{j}$<br>"
   ]
  },
  {
   "cell_type": "markdown",
   "metadata": {},
   "source": [
    "# Reproducing Results"
   ]
  },
  {
   "cell_type": "markdown",
   "metadata": {},
   "source": [
    "## The convolution of meta-data in social networks"
   ]
  },
  {
   "cell_type": "markdown",
   "metadata": {},
   "source": [
    "### References\n",
    "\n",
    "[Traud, A. L., Kelsic, E. D., Mucha, P. J. & Porter, M. A. Comparing community\n",
    "structure to characteristics in online collegiate social networks. SIAM Review 53, 526–\n",
    "543 (2011).](https://arxiv.org/abs/0809.0690)\n",
    "\n",
    "[Traud, A. L., Mucha, P. J. & Porter, M. A. Social structure of facebook networks.\n",
    "Physica A: Statistical Mechanics and its Applications 391, 4165–4180 (2012).](https://arxiv.org/abs/1102.2166)\n",
    "\n",
    "[Vincent D. Blondel, Jean-Loup Guillaume, Renaud Lambiotte, Etienne Lefebvre, *Fast unfolding of communities in large networks*, J. Stat. Mech. (2008) P10008](https://arxiv.org/abs/0803.0476)"
   ]
  },
  {
   "cell_type": "markdown",
   "metadata": {},
   "source": [
    "## Faceboook 100 dataset\n",
    "\n",
    "[Porter, M., *Facebook100 Data Set*, Feb. 11, 2011](http://masonporter.blogspot.com/2011/02/facebook100-data-set.html)\n",
    "\n",
    "[Lee, C., *Facebook100 data and a parser for it*, Blogspot, March 5, 2011](http://sociograph.blogspot.com/2011/03/facebook100-data-and-parser-for-it.html)\n",
    "\n",
    "[*Social Structure of Facebook Networks Facebook Data Scrape*, arXiv:1102.2166v1 \\[cs.SI\\]](https://archive.org/details/oxford-2005-facebook-matrix)\n",
    "\n",
    "Note: the Facebook 100 data set has been uploaded to my IU Box account, in the D699 folder.<br>\n",
    "The data files are in MATLAB format (MATLAB 5.0 MAT-file); they should be readable by [Scipy](https://docs.scipy.org/doc/scipy/reference/generated/scipy.io.loadmat.html), [Read .mat files in Python (Stack Overflow)](https://stackoverflow.com/questions/874461/read-mat-files-in-python)"
   ]
  },
  {
   "cell_type": "markdown",
   "metadata": {},
   "source": [
    "## Software and Tools\n",
    "\n",
    "Python<br>\n",
    "NetworkX<br>\n",
    "[Louvain Community Detection](https://github.com/taynaud/python-louvain)<br>\n",
    "Jupyter Notebook<br>\n",
    "Gephi<br>\n",
    "\n",
    "### CluSim\n",
    "```\n",
    "git clone git@github.com:ajgates42/clusim.git\n",
    "python setup.py install\n",
    "```"
   ]
  },
  {
   "cell_type": "code",
   "execution_count": 1,
   "metadata": {},
   "outputs": [
    {
     "name": "stdout",
     "output_type": "stream",
     "text": [
      "DendroPY not supported.\n"
     ]
    }
   ],
   "source": [
    "from clusim.clustering import Clustering, print_clustering"
   ]
  },
  {
   "cell_type": "code",
   "execution_count": 2,
   "metadata": {},
   "outputs": [],
   "source": [
    "elm2clu_dict = {0:[0], 1:[0], 2:[0,1], 3:[1], 4:[2], 5:[2]}"
   ]
  },
  {
   "cell_type": "code",
   "execution_count": 3,
   "metadata": {},
   "outputs": [],
   "source": [
    "clu = Clustering()"
   ]
  },
  {
   "cell_type": "code",
   "execution_count": 4,
   "metadata": {},
   "outputs": [],
   "source": [
    "clu.from_elm2clu_dict(elm2clu_dict)"
   ]
  },
  {
   "cell_type": "code",
   "execution_count": 5,
   "metadata": {},
   "outputs": [
    {
     "name": "stdout",
     "output_type": "stream",
     "text": [
      "012|23|45\n"
     ]
    }
   ],
   "source": [
    "print_clustering(clu)"
   ]
  },
  {
   "cell_type": "code",
   "execution_count": null,
   "metadata": {},
   "outputs": [],
   "source": []
  }
 ],
 "metadata": {
  "kernelspec": {
   "display_name": "Python 3",
   "language": "python",
   "name": "python3"
  },
  "language_info": {
   "codemirror_mode": {
    "name": "ipython",
    "version": 3
   },
   "file_extension": ".py",
   "mimetype": "text/x-python",
   "name": "python",
   "nbconvert_exporter": "python",
   "pygments_lexer": "ipython3",
   "version": "3.6.5"
  },
  "toc": {
   "base_numbering": 1,
   "nav_menu": {},
   "number_sections": false,
   "sideBar": false,
   "skip_h1_title": false,
   "title_cell": "Table of Contents",
   "title_sidebar": "Contents",
   "toc_cell": false,
   "toc_position": {},
   "toc_section_display": false,
   "toc_window_display": false
  }
 },
 "nbformat": 4,
 "nbformat_minor": 2
}
