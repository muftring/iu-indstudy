{
 "cells": [
  {
   "cell_type": "markdown",
   "metadata": {},
   "source": [
    "# Exploring: *On comparing clusterings...*\n",
    "\n",
    "[On comparing clusterings:\n",
    "an element-centric framework unifies overlaps and hierarchy](../papers/1706.06136.pdf)"
   ]
  },
  {
   "cell_type": "markdown",
   "metadata": {},
   "source": [
    "# Notes\n",
    "\n",
    "existing clustering comparison measures have critical biases which undermine their usefulness\n",
    "\n",
    "no measure accomodates both overlapping and hierarchical clusterings\n",
    "\n"
   ]
  },
  {
   "cell_type": "markdown",
   "metadata": {},
   "source": [
    "## Measures\n",
    "\n",
    "\n",
    "## Biases\n",
    "\n",
    "What are the critical biases? (see references: [14, 15, 3, 16, 17]\n"
   ]
  },
  {
   "cell_type": "markdown",
   "metadata": {},
   "source": [
    "# Idea\n",
    "\n",
    "unify the comparison of disjoint, overlapping, and hierarchical structued clusterings\n"
   ]
  },
  {
   "cell_type": "markdown",
   "metadata": {},
   "source": [
    "# Approach\n",
    "\n",
    "elements are compared based on the relationships induced by the cluster structure\n",
    "\n",
    "the framework does not suffer from critical biases and naturallyt provides unique insights into how clusterinsg differ\n",
    "\n",
    "element-centric similarity can provide detailed insights into how two clusterings differ because the similarity is calculated at the level of individual elements\n",
    "\n",
    "simply examining individual element-wise scores reveal how consistently each element is grouped across clusterings\n",
    "\n"
   ]
  },
  {
   "cell_type": "markdown",
   "metadata": {},
   "source": [
    "## Concepts\n",
    "\n",
    "### cluster affiliation graph\n",
    "\n",
    "### cluster-induced element graph\n",
    "\n",
    "### element affinity matrix\n",
    "\n"
   ]
  },
  {
   "cell_type": "code",
   "execution_count": null,
   "metadata": {},
   "outputs": [],
   "source": []
  }
 ],
 "metadata": {
  "kernelspec": {
   "display_name": "Python 3",
   "language": "python",
   "name": "python3"
  },
  "language_info": {
   "codemirror_mode": {
    "name": "ipython",
    "version": 3
   },
   "file_extension": ".py",
   "mimetype": "text/x-python",
   "name": "python",
   "nbconvert_exporter": "python",
   "pygments_lexer": "ipython3",
   "version": "3.6.5"
  },
  "toc": {
   "base_numbering": 1,
   "nav_menu": {},
   "number_sections": false,
   "sideBar": false,
   "skip_h1_title": false,
   "title_cell": "Table of Contents",
   "title_sidebar": "Contents",
   "toc_cell": false,
   "toc_position": {},
   "toc_section_display": false,
   "toc_window_display": false
  }
 },
 "nbformat": 4,
 "nbformat_minor": 2
}
