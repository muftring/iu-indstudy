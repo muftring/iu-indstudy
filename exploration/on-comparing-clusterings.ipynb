{
 "cells": [
  {
   "cell_type": "markdown",
   "metadata": {},
   "source": [
    "# Exploring: *On comparing clusterings...*\n",
    "\n",
    "[On comparing clusterings:\n",
    "an element-centric framework unifies overlaps and hierarchy](../papers/1706.06136.pdf)"
   ]
  },
  {
   "cell_type": "markdown",
   "metadata": {},
   "source": [
    "# Notes\n",
    "\n",
    "existing clustering comparison measures have critical biases which undermine their usefulness\n",
    "\n",
    "no measure accomodates both overlapping and hierarchical clusterings\n",
    "\n"
   ]
  },
  {
   "cell_type": "markdown",
   "metadata": {},
   "source": [
    "## Measures\n",
    "\n",
    "\n",
    "## Biases\n",
    "\n",
    "What are the critical biases? (see references: [14, 15, 3, 16, 17])\n"
   ]
  },
  {
   "cell_type": "markdown",
   "metadata": {},
   "source": [
    "# Idea\n",
    "\n",
    "unify the comparison of disjoint, overlapping, and hierarchical structued clusterings\n"
   ]
  },
  {
   "cell_type": "markdown",
   "metadata": {},
   "source": [
    "# Approach\n",
    "\n",
    "elements are compared based on the relationships induced by the cluster structure\n",
    "\n",
    "the framework does not suffer from critical biases and naturallyt provides unique insights into how clusterinsg differ\n",
    "\n",
    "element-centric similarity can provide detailed insights into how two clusterings differ because the similarity is calculated at the level of individual elements\n",
    "\n",
    "simply examining individual element-wise scores reveal how consistently each element is grouped across clusterings\n",
    "\n"
   ]
  },
  {
   "cell_type": "markdown",
   "metadata": {},
   "source": [
    "## Concepts\n",
    "\n",
    "### cluster affiliation graph\n",
    "An undirected bipartite graph where one vertex set corresponds to the elements, the other corresponds to the clusters, and a weighted edge exists between a cluster and each of its elements.\n",
    "\n",
    "### cluster-induced element graph\n",
    "Formed by projecting the cluster affiliation graph (with $N \\times K_{c}$ bipartite adjacency matrix $\\mathbb{A}$) onto the element vertices resulting in a directed graph with the edge $w_{ij}$ between elements $v_{i}$ and $v_{j}$ having weight:\n",
    "\n",
    "$$w_{ij} = \\sum_{\\gamma}\\frac{a_{i\\gamma}a_{j\\gamma}}{\\sum_{k}a_{ik} \\sum_{m}a_{m\\gamma}}$$\n",
    "\n",
    "### element affinity matrix\n",
    "\n",
    "### element-wise comparison\n",
    "\n",
    "### clustering similarity\n",
    "\n",
    "### clustering differences\n",
    "\n",
    "### agreement\n",
    "The *average agreement* between a reference clustering and a set of clusterings measures the regular grouping of elements with respect to a reference clustering.\n",
    "\n",
    "### frustration\n",
    "The *frustration* within a set of clusterings reflects the consistency with which elements are grouped by the clustering."
   ]
  },
  {
   "cell_type": "markdown",
   "metadata": {},
   "source": [
    "## Terms\n",
    "\n",
    "### Types of Clusters\n",
    "**partition** - a clustering in which all elemtns are members of one, and only one, cluster<br>\n",
    "**overlapping** - clustering which allows elements to be members of multiple clusters<br>\n",
    "**hierarchical** - clusterings capture the nested organization of clusters at different scales \n"
   ]
  },
  {
   "cell_type": "markdown",
   "metadata": {},
   "source": [
    "## Notation\n",
    "\n",
    "$C$ - clustering<br>\n",
    "$E$ - <br>\n",
    "$K_{c}$ - number of clusters<br>\n",
    "$N$ - number of elements (vertices, nodes)<br>\n",
    "$V$ - elements, vertices (nodes)<br>\n",
    "\n",
    "$c_{\\beta}$ - a cluster in $C$<br>\n",
    "$h(l_{\\beta}) = e^{rl_{\\beta}}$ - hierarchical weighting function<br>\n",
    "$l_{\\beta}$ - hierachical level $\\in [0, 1]$<br>\n",
    "$r$ - scaling parameter<br>\n",
    "$w_{ij}$ - edge weight between elements $v_{i}$ and $v_{j}$<br>"
   ]
  },
  {
   "cell_type": "markdown",
   "metadata": {},
   "source": [
    "# Reproducing Results"
   ]
  },
  {
   "cell_type": "markdown",
   "metadata": {},
   "source": [
    "## The convolution of meta-data in social networks"
   ]
  },
  {
   "cell_type": "markdown",
   "metadata": {},
   "source": [
    "### References\n",
    "\n",
    "[Traud, A. L., Kelsic, E. D., Mucha, P. J. & Porter, M. A. Comparing community\n",
    "structure to characteristics in online collegiate social networks. SIAM Review 53, 526–\n",
    "543 (2011).](https://arxiv.org/abs/0809.0690)\n",
    "\n",
    "[Traud, A. L., Mucha, P. J. & Porter, M. A. Social structure of facebook networks.\n",
    "Physica A: Statistical Mechanics and its Applications 391, 4165–4180 (2012).](https://arxiv.org/abs/1102.2166)\n",
    "\n",
    "[Vincent D. Blondel, Jean-Loup Guillaume, Renaud Lambiotte, Etienne Lefebvre, *Fast unfolding of communities in large networks*, J. Stat. Mech. (2008) P10008](https://arxiv.org/abs/0803.0476)"
   ]
  },
  {
   "cell_type": "markdown",
   "metadata": {},
   "source": [
    "## Faceboook 100 dataset\n",
    "\n",
    "[Porter, M., *Facebook100 Data Set*, Feb. 11, 2011](http://masonporter.blogspot.com/2011/02/facebook100-data-set.html)\n",
    "\n",
    "[Lee, C., *Facebook100 data and a parser for it*, Blogspot, March 5, 2011](http://sociograph.blogspot.com/2011/03/facebook100-data-and-parser-for-it.html)\n",
    "\n",
    "[*Social Structure of Facebook Networks Facebook Data Scrape*, arXiv:1102.2166v1 \\[cs.SI\\]](https://archive.org/details/oxford-2005-facebook-matrix)\n",
    "\n",
    "Note: the Facebook 100 data set has been uploaded to my IU Box account, in the D699 folder.<br>\n",
    "The data files are in MATLAB format (MATLAB 5.0 MAT-file); they should be readable by [Scipy](https://docs.scipy.org/doc/scipy/reference/generated/scipy.io.loadmat.html), [Read .mat files in Python (Stack Overflow)](https://stackoverflow.com/questions/874461/read-mat-files-in-python)"
   ]
  },
  {
   "cell_type": "markdown",
   "metadata": {},
   "source": [
    "## Software and Tools\n",
    "\n",
    "Python<br>\n",
    "NetworkX<br>\n",
    "\n",
    "Jupyter Notebook<br>\n",
    "Gephi<br>\n",
    "\n",
    "### CluSim\n",
    "\n",
    "[CluSim: a package for calculating clustering similarity](https://github.com/ajgates42/clusim)\n",
    "- [docs](https://ajgates42.github.io/clusim/html/clusim.html)\n",
    "\n",
    "installation and setup\n",
    "```\n",
    "git clone git@github.com:ajgates42/clusim.git\n",
    "python setup.py install\n",
    "```\n",
    "\n",
    "### python-louvain\n",
    "[Louvain Community Detection](https://github.com/taynaud/python-louvain)\n",
    "- [docs](https://python-louvain.readthedocs.io/en/latest/)\n",
    "\n",
    "### Graphy\n",
    "[graphy: Tools for generating graphs and searching over graph partitions.](https://github.com/artemyk/graphy)\n",
    "- [docs](https://graphy.readthedocs.io)"
   ]
  },
  {
   "cell_type": "code",
   "execution_count": null,
   "metadata": {},
   "outputs": [],
   "source": [
    "from clusim.clustering import Clustering, print_clustering"
   ]
  },
  {
   "cell_type": "code",
   "execution_count": null,
   "metadata": {},
   "outputs": [],
   "source": [
    "elm2clu_dict = {0:[0], 1:[0], 2:[0,1], 3:[1], 4:[2], 5:[2]}"
   ]
  },
  {
   "cell_type": "code",
   "execution_count": null,
   "metadata": {},
   "outputs": [],
   "source": [
    "clu = Clustering()"
   ]
  },
  {
   "cell_type": "code",
   "execution_count": null,
   "metadata": {},
   "outputs": [],
   "source": [
    "clu.from_elm2clu_dict(elm2clu_dict)"
   ]
  },
  {
   "cell_type": "code",
   "execution_count": null,
   "metadata": {},
   "outputs": [],
   "source": [
    "print_clustering(clu)"
   ]
  },
  {
   "cell_type": "markdown",
   "metadata": {},
   "source": [
    "### Exploring the Facebook 100 data"
   ]
  },
  {
   "cell_type": "markdown",
   "metadata": {},
   "source": [
    "Facebook 100 data format ([reference](https://ia800504.us.archive.org/1/items/oxford-2005-facebook-matrix/facebook100_readme_021011.txt))\n",
    "\n",
    "> Each of the school .mat files has an A matrix (sparse) and a\n",
    "\"local_info\" variable, one row per node: a student/faculty status\n",
    "flag, gender, major, second major/minor (if applicable), dorm/house,\n",
    "year, and high school. Missing data is coded 0.\n",
    "\n",
    "Fields:\n",
    "1. a student/faculty status flag (1: student, 2: faculty)\n",
    "2. gender\n",
    "3. major\n",
    "4. second major/minor (if applicable)\n",
    "5. dorm/house\n",
    "6. year\n",
    "7. high school"
   ]
  },
  {
   "cell_type": "markdown",
   "metadata": {},
   "source": [
    "#### use scipy to read the MATLAB formatted files"
   ]
  },
  {
   "cell_type": "code",
   "execution_count": null,
   "metadata": {},
   "outputs": [],
   "source": [
    "import scipy.io\n",
    "mat = scipy.io.loadmat('Yale4.mat')"
   ]
  },
  {
   "cell_type": "code",
   "execution_count": null,
   "metadata": {},
   "outputs": [],
   "source": [
    "mat"
   ]
  },
  {
   "cell_type": "code",
   "execution_count": null,
   "metadata": {},
   "outputs": [],
   "source": [
    "mat['local_info'][0:11]"
   ]
  },
  {
   "cell_type": "code",
   "execution_count": null,
   "metadata": {},
   "outputs": [],
   "source": [
    "len(mat['local_info'])"
   ]
  },
  {
   "cell_type": "code",
   "execution_count": null,
   "metadata": {},
   "outputs": [],
   "source": [
    "mat['A'][2]"
   ]
  },
  {
   "cell_type": "code",
   "execution_count": null,
   "metadata": {},
   "outputs": [],
   "source": [
    "print(mat['A'][0])"
   ]
  },
  {
   "cell_type": "markdown",
   "metadata": {},
   "source": [
    "#### scipy.sparse.find(A)\n",
    "[scipy.sparse.find(A)](https://docs.scipy.org/doc/scipy/reference/generated/scipy.sparse.find.html#scipy.sparse.find)<br>\n",
    "Return the indices and values of the nonzero elements of a matrix\n",
    "\n",
    "Parameters:\n",
    "- A : dense or sparse matrix, <br> Matrix whose nonzero elements are desired.\n",
    "\n",
    "Returns:\t\n",
    "- (I,J,V) : tuple of arrays <br> I,J, and V contain the row indices, column indices, and values of the nonzero matrix entries."
   ]
  },
  {
   "cell_type": "code",
   "execution_count": null,
   "metadata": {},
   "outputs": [],
   "source": [
    "from scipy.sparse import find"
   ]
  },
  {
   "cell_type": "code",
   "execution_count": null,
   "metadata": {},
   "outputs": [],
   "source": [
    "find(mat['A'])"
   ]
  },
  {
   "cell_type": "code",
   "execution_count": null,
   "metadata": {},
   "outputs": [],
   "source": [
    "find(mat['A'][2])"
   ]
  },
  {
   "cell_type": "markdown",
   "metadata": {},
   "source": [
    "#### Summary\n",
    "The Facebook 100 MATLAB formatted data files contain two data elements:\n",
    "\n",
    "`A` is a NxN sparse matrix, which represents the network as an Adjacency Matrix<br>\n",
    "`local_info` is a 2-dimensional array (a table), which are the node attributes (noted above)"
   ]
  },
  {
   "cell_type": "markdown",
   "metadata": {},
   "source": [
    "### Process\n",
    "\n",
    "1. randomly pick two university data sets (paper used: Oberlin, and Rochester)\n",
    "   - (1) reproduce with Oberlin, and Rochester\n",
    "   - (2) random selections (19, 56): Dartmouth, Simmons\n",
    "2. load MATLAB files\n",
    "3. get `A` from MATLAB data\n",
    "4. use `A` (as an Adjacency Matrix) to create a NetworkX graph\n",
    "5. get `local_info` info from MATLAB data\n",
    "6. enrich nodes with `local_info` data"
   ]
  },
  {
   "cell_type": "code",
   "execution_count": null,
   "metadata": {},
   "outputs": [],
   "source": [
    "import random"
   ]
  },
  {
   "cell_type": "code",
   "execution_count": null,
   "metadata": {},
   "outputs": [],
   "source": [
    "a = random.randint(1, 100)\n",
    "b = random.randint(1, 100)"
   ]
  },
  {
   "cell_type": "code",
   "execution_count": null,
   "metadata": {},
   "outputs": [],
   "source": [
    "print(\"random selections: {}, {}\".format(a, b))"
   ]
  },
  {
   "cell_type": "markdown",
   "metadata": {},
   "source": [
    "```\n",
    "$ ls -1 | grep ^[A-Z] | head -19 | tail -1\n",
    "Dartmouth6.mat\n",
    "\n",
    "$ ls -1 | grep ^[A-Z] | head -56 | tail -1\n",
    "Simmons81.mat\n",
    "```"
   ]
  },
  {
   "cell_type": "markdown",
   "metadata": {},
   "source": [
    "#### Reporudce with Oberlin, and Rochester"
   ]
  },
  {
   "cell_type": "code",
   "execution_count": null,
   "metadata": {},
   "outputs": [],
   "source": [
    "import scipy.io\n",
    "import networkx as nx"
   ]
  },
  {
   "cell_type": "code",
   "execution_count": null,
   "metadata": {},
   "outputs": [],
   "source": [
    "A = scipy.io.loadmat('Oberlin44.mat')\n",
    "B = scipy.io.loadmat('Rochester38.mat')"
   ]
  },
  {
   "cell_type": "markdown",
   "metadata": {},
   "source": [
    "#### Reproduce with Dartmouth, Simmons"
   ]
  },
  {
   "cell_type": "code",
   "execution_count": null,
   "metadata": {},
   "outputs": [],
   "source": [
    "A = scipy.io.loadmat('Dartmouth6.mat')\n",
    "B = scipy.io.loadmat('Simmons81.mat')"
   ]
  },
  {
   "cell_type": "markdown",
   "metadata": {},
   "source": [
    "##### create a NetworkX graph from the adjacency matrix"
   ]
  },
  {
   "cell_type": "markdown",
   "metadata": {},
   "source": [
    "`NetworkX.Graph(incoming_graph_data=None, \\*\\*attr)`\n",
    "\n",
    "Parameters:\n",
    "\n",
    "`incoming_graph_data` : input graph (optional, default: None)\n",
    ">    Data to initialize graph. If None (default) an empty\n",
    "    graph is created.  The data can be any format that is supported\n",
    "    by the to_networkx_graph() function, currently including edge list,\n",
    "    dict of dicts, dict of lists, NetworkX graph, NumPy matrix\n",
    "    or 2d ndarray, **SciPy sparse matrix**, or PyGraphviz graph."
   ]
  },
  {
   "cell_type": "code",
   "execution_count": null,
   "metadata": {},
   "outputs": [],
   "source": [
    "Ga = nx.Graph(A['A'])"
   ]
  },
  {
   "cell_type": "code",
   "execution_count": null,
   "metadata": {},
   "outputs": [],
   "source": [
    "Gb = nx.Graph(B['A'])"
   ]
  },
  {
   "cell_type": "markdown",
   "metadata": {},
   "source": [
    "insepct the attributes and properties of the graphs"
   ]
  },
  {
   "cell_type": "code",
   "execution_count": null,
   "metadata": {},
   "outputs": [],
   "source": [
    "print(\"{0:6s} {1:>8s} {2:>8s}\".format(\"Graph\", \"Nodes\", \"Links\"))\n",
    "print(\"------ -------- --------\")\n",
    "print(\"{0:6s} {1:8d} {2:8d}\".format(\"A\", len(Ga.nodes()), len(Ga.edges())))\n",
    "print(\"{0:6s} {1:8d} {2:8d}\".format(\"B\", len(Gb.nodes()), len(Gb.edges())))"
   ]
  },
  {
   "cell_type": "markdown",
   "metadata": {},
   "source": [
    "##### enrich the nodes with the data in `local_info`"
   ]
  },
  {
   "cell_type": "code",
   "execution_count": null,
   "metadata": {},
   "outputs": [],
   "source": [
    "class Counter():\n",
    "    count = 0\n",
    "    \n",
    "    def __init__(self, init=1):\n",
    "        self.count = init-1\n",
    "    \n",
    "    def get(self):\n",
    "        self.count += 1\n",
    "        return self.count"
   ]
  },
  {
   "cell_type": "code",
   "execution_count": null,
   "metadata": {},
   "outputs": [],
   "source": [
    "def setNodeAttributesAll(graph, data):\n",
    "    attributes = {}\n",
    "    counter = Counter(0)\n",
    "    for row in data:\n",
    "        attributes[counter.get()] = {\"status\": int(row[0]),\n",
    "                                     \"gender\": int(row[1]),\n",
    "                                     \"major\":  int(row[2]),\n",
    "                                     \"minor\":  int(row[3]),\n",
    "                                     \"dorm\":   int(row[4]),\n",
    "                                     \"year\":   int(row[5]),\n",
    "                                     \"hs\":     int(row[6])\n",
    "                                     }\n",
    "    nx.set_node_attributes(graph, attributes)"
   ]
  },
  {
   "cell_type": "code",
   "execution_count": null,
   "metadata": {},
   "outputs": [],
   "source": [
    "def setNodeAttributes(graph, data):\n",
    "    attributes = {}\n",
    "    counter = Counter(0)\n",
    "    for row in data:\n",
    "        attributes[counter.get()] = {\"major\":  int(row[2]),\n",
    "                                     \"dorm\":   int(row[4]),\n",
    "                                     \"year\":   int(row[5])\n",
    "                                     }\n",
    "    nx.set_node_attributes(graph, attributes)"
   ]
  },
  {
   "cell_type": "code",
   "execution_count": null,
   "metadata": {},
   "outputs": [],
   "source": [
    "setNodeAttributes(Ga, A['local_info'])\n",
    "setNodeAttributes(Gb, B['local_info'])"
   ]
  },
  {
   "cell_type": "code",
   "execution_count": null,
   "metadata": {},
   "outputs": [],
   "source": [
    "Ga.nodes[0]"
   ]
  },
  {
   "cell_type": "code",
   "execution_count": null,
   "metadata": {},
   "outputs": [],
   "source": [
    "import pandas as pd"
   ]
  },
  {
   "cell_type": "code",
   "execution_count": null,
   "metadata": {},
   "outputs": [],
   "source": [
    "columns=['status','gender','major','minor','dorm','year','hs']\n",
    "\n",
    "dfA = pd.DataFrame(columns=columns, data = A['local_info'])\n",
    "dfB = pd.DataFrame(columns=columns, data = B['local_info'])"
   ]
  },
  {
   "cell_type": "code",
   "execution_count": null,
   "metadata": {},
   "outputs": [],
   "source": [
    "dfA.head(5)"
   ]
  },
  {
   "cell_type": "code",
   "execution_count": null,
   "metadata": {},
   "outputs": [],
   "source": [
    "dfB.head(5)"
   ]
  },
  {
   "cell_type": "code",
   "execution_count": null,
   "metadata": {},
   "outputs": [],
   "source": [
    "plt.hist(dfA['gender'], bins=3, range=[0,3], align='mid')\n",
    "plt.xticks([0.5, 1.5, 2.5], [\"0\", \"1\", \"2\"])"
   ]
  },
  {
   "cell_type": "code",
   "execution_count": null,
   "metadata": {},
   "outputs": [],
   "source": [
    "plt.hist(dfB['gender'], bins=3, range=[0,3], align='mid')\n",
    "plt.xticks([0.5, 1.5, 2.5], [\"0\", \"1\", \"2\"])"
   ]
  },
  {
   "cell_type": "code",
   "execution_count": null,
   "metadata": {},
   "outputs": [],
   "source": [
    "def summary(s):\n",
    "    print(s.groupby(s).count())"
   ]
  },
  {
   "cell_type": "code",
   "execution_count": null,
   "metadata": {},
   "outputs": [],
   "source": [
    "column = 'year'"
   ]
  },
  {
   "cell_type": "code",
   "execution_count": null,
   "metadata": {},
   "outputs": [],
   "source": [
    "summary(dfA[column])"
   ]
  },
  {
   "cell_type": "code",
   "execution_count": null,
   "metadata": {},
   "outputs": [],
   "source": [
    "summary(dfB[column])"
   ]
  },
  {
   "cell_type": "markdown",
   "metadata": {},
   "source": [
    "##### Findings\n",
    "\n",
    "- `year` is mostly >= 2005. But there are a notable number of rows with a value less than 2005, and a large number with `year` = 0 (missing value)."
   ]
  },
  {
   "cell_type": "markdown",
   "metadata": {},
   "source": [
    "##### find the largest connected component\n",
    "\n",
    "[NetworkX: Connected Components](https://networkx.github.io/documentation/stable/reference/algorithms/generated/networkx.algorithms.components.connected_components.html#networkx.algorithms.components.connected_components)\n"
   ]
  },
  {
   "cell_type": "code",
   "execution_count": null,
   "metadata": {},
   "outputs": [],
   "source": [
    "GaLCC = Ga.subgraph(max(nx.connected_components(Ga), key=len))"
   ]
  },
  {
   "cell_type": "code",
   "execution_count": null,
   "metadata": {},
   "outputs": [],
   "source": [
    "GbLCC = Gb.subgraph(max(nx.connected_components(Gb), key=len))"
   ]
  },
  {
   "cell_type": "code",
   "execution_count": null,
   "metadata": {},
   "outputs": [],
   "source": [
    "len(GaLCC)"
   ]
  },
  {
   "cell_type": "code",
   "execution_count": null,
   "metadata": {},
   "outputs": [],
   "source": [
    "len(GbLCC)"
   ]
  },
  {
   "cell_type": "markdown",
   "metadata": {},
   "source": [
    "##### run clustering algorithms...\n",
    "\n",
    "\n",
    "- categorical clusterings:\n",
    "  - by `year` (graduation year)\n",
    "  - by `dorm`\n",
    "  - by `major`\n",
    "\n",
    "- [NetworkX: Communities](https://networkx.github.io/documentation/stable/reference/algorithms/community.html)\n",
    "\n",
    "- [Louvain Community Detection (docs)](https://python-louvain.readthedocs.io/en/latest/)\n",
    "  - [The `community` API](https://python-louvain.readthedocs.io/en/latest/api.html)\n",
    "  - [GitHub: python-louvain (code)](https://github.com/taynaud/python-louvain/tree/master)\n",
    "  \n",
    "- Graphy\n"
   ]
  },
  {
   "cell_type": "code",
   "execution_count": null,
   "metadata": {},
   "outputs": [],
   "source": [
    "clustering = {\"A\":{\n",
    "                \"louvain\":{},\n",
    "                \"year\": {},\n",
    "                \"major\": {},\n",
    "                \"dorm\": {}\n",
    "                },\n",
    "              \"B\":{\n",
    "                \"louvain\":{},\n",
    "                \"year\": {},\n",
    "                \"major\": {},\n",
    "                \"dorm\": {}\n",
    "                }\n",
    "             }"
   ]
  },
  {
   "cell_type": "code",
   "execution_count": null,
   "metadata": {},
   "outputs": [],
   "source": []
  },
  {
   "cell_type": "code",
   "execution_count": null,
   "metadata": {},
   "outputs": [],
   "source": []
  },
  {
   "cell_type": "code",
   "execution_count": null,
   "metadata": {},
   "outputs": [],
   "source": [
    "import networkx as nx\n",
    "from networkx.algorithms import community as nxcomm"
   ]
  },
  {
   "cell_type": "code",
   "execution_count": null,
   "metadata": {},
   "outputs": [],
   "source": []
  },
  {
   "cell_type": "code",
   "execution_count": null,
   "metadata": {},
   "outputs": [],
   "source": []
  },
  {
   "cell_type": "markdown",
   "metadata": {},
   "source": [
    "##### perform Louvain clustering"
   ]
  },
  {
   "cell_type": "code",
   "execution_count": null,
   "metadata": {},
   "outputs": [],
   "source": [
    "import community as louvain"
   ]
  },
  {
   "cell_type": "code",
   "execution_count": null,
   "metadata": {},
   "outputs": [],
   "source": [
    "# this will produce a `dict` which is an element-to-cluster mapping\n",
    "# {e1: c1, e2: c2, e3: c3, ...}\n",
    "Ca = louvain.best_partition(Ga)\n",
    "Cb = louvain.best_partition(Gb)"
   ]
  },
  {
   "cell_type": "code",
   "execution_count": null,
   "metadata": {},
   "outputs": [],
   "source": [
    "for i in range(10):\n",
    "    print(i,Ca[i],Cb[i])"
   ]
  },
  {
   "cell_type": "code",
   "execution_count": null,
   "metadata": {},
   "outputs": [],
   "source": [
    "dfA['community'] = Ca.values()\n",
    "dfB['community'] = Cb.values()"
   ]
  },
  {
   "cell_type": "code",
   "execution_count": null,
   "metadata": {},
   "outputs": [],
   "source": [
    "dfA.head()"
   ]
  },
  {
   "cell_type": "code",
   "execution_count": null,
   "metadata": {},
   "outputs": [],
   "source": [
    "dfB.head()"
   ]
  },
  {
   "cell_type": "code",
   "execution_count": null,
   "metadata": {},
   "outputs": [],
   "source": [
    "summary(dfA['community'])"
   ]
  },
  {
   "cell_type": "code",
   "execution_count": null,
   "metadata": {},
   "outputs": [],
   "source": [
    "summary(dfB['community'])"
   ]
  },
  {
   "cell_type": "markdown",
   "metadata": {},
   "source": [
    "we need to make the value in the dict a list, even though it only holds one element"
   ]
  },
  {
   "cell_type": "code",
   "execution_count": null,
   "metadata": {},
   "outputs": [],
   "source": [
    "def convert(d):\n",
    "    for key in d.keys():\n",
    "        value = d[key]\n",
    "        d[key] = [value]"
   ]
  },
  {
   "cell_type": "code",
   "execution_count": null,
   "metadata": {},
   "outputs": [],
   "source": [
    "convert(Ca)\n",
    "convert(Cb)"
   ]
  },
  {
   "cell_type": "code",
   "execution_count": null,
   "metadata": {},
   "outputs": [],
   "source": []
  },
  {
   "cell_type": "code",
   "execution_count": null,
   "metadata": {},
   "outputs": [],
   "source": []
  },
  {
   "cell_type": "markdown",
   "metadata": {},
   "source": [
    "##### use Graphy to do clustering"
   ]
  },
  {
   "cell_type": "code",
   "execution_count": null,
   "metadata": {},
   "outputs": [],
   "source": [
    "import numpy as np\n",
    "import networkx as nx\n",
    "import graphy\n",
    "\n",
    "%matplotlib inline"
   ]
  },
  {
   "cell_type": "code",
   "execution_count": null,
   "metadata": {},
   "outputs": [],
   "source": [
    "G = Ga"
   ]
  },
  {
   "cell_type": "code",
   "execution_count": null,
   "metadata": {},
   "outputs": [],
   "source": [
    "print(nx.info(G))"
   ]
  },
  {
   "cell_type": "code",
   "execution_count": null,
   "metadata": {},
   "outputs": [],
   "source": [
    "qualityObj = graphy.qualityfuncs.Modularity(nx.to_numpy_matrix(G, dtype=int))\n",
    "best_membership, q = qualityObj.find_optimal()\n",
    "graphy.plotting.plot_graph(G, pos=nx.spring_layout(G), colors=best_membership)"
   ]
  },
  {
   "cell_type": "code",
   "execution_count": null,
   "metadata": {},
   "outputs": [],
   "source": []
  },
  {
   "cell_type": "code",
   "execution_count": null,
   "metadata": {},
   "outputs": [],
   "source": []
  },
  {
   "cell_type": "code",
   "execution_count": null,
   "metadata": {},
   "outputs": [],
   "source": []
  },
  {
   "cell_type": "code",
   "execution_count": null,
   "metadata": {},
   "outputs": [],
   "source": []
  },
  {
   "cell_type": "code",
   "execution_count": null,
   "metadata": {},
   "outputs": [],
   "source": [
    "cluA = Clustering()\n",
    "cluB = Clustering()"
   ]
  },
  {
   "cell_type": "code",
   "execution_count": null,
   "metadata": {},
   "outputs": [],
   "source": [
    "cluA.from_elm2clu_dict(Ca)"
   ]
  },
  {
   "cell_type": "code",
   "execution_count": null,
   "metadata": {},
   "outputs": [],
   "source": [
    "cluB.from_elm2clu_dict(Cb)"
   ]
  },
  {
   "cell_type": "code",
   "execution_count": null,
   "metadata": {},
   "outputs": [],
   "source": [
    "print_clustering(cluA)"
   ]
  },
  {
   "cell_type": "code",
   "execution_count": null,
   "metadata": {},
   "outputs": [],
   "source": []
  },
  {
   "cell_type": "code",
   "execution_count": null,
   "metadata": {},
   "outputs": [],
   "source": []
  },
  {
   "cell_type": "code",
   "execution_count": null,
   "metadata": {},
   "outputs": [],
   "source": []
  },
  {
   "cell_type": "markdown",
   "metadata": {},
   "source": [
    "##### Visualizing the networks"
   ]
  },
  {
   "cell_type": "markdown",
   "metadata": {},
   "source": [
    "Visualize the networks with Matplotlib:\n",
    "- [NetworkX: Drawing](https://networkx.github.io/documentation/stable/reference/drawing.html)"
   ]
  },
  {
   "cell_type": "code",
   "execution_count": null,
   "metadata": {},
   "outputs": [],
   "source": [
    "import matplotlib.pyplot as plt\n",
    "\n",
    "%matplotlib inline"
   ]
  },
  {
   "cell_type": "code",
   "execution_count": null,
   "metadata": {},
   "outputs": [],
   "source": [
    "nx.draw(Ga)"
   ]
  },
  {
   "cell_type": "code",
   "execution_count": null,
   "metadata": {},
   "outputs": [],
   "source": [
    "nx.draw_circular(Ga)"
   ]
  },
  {
   "cell_type": "code",
   "execution_count": null,
   "metadata": {},
   "outputs": [],
   "source": [
    "nx.draw_random(Ga)"
   ]
  },
  {
   "cell_type": "markdown",
   "metadata": {},
   "source": [
    "Visualize the networks with Bokeh: \n",
    "- [Visualizing Network Graphs](https://bokeh.pydata.org/en/latest/docs/user_guide/graph.html), \n",
    "- [Networkx Integration](https://bokeh.pydata.org/en/latest/docs/user_guide/graph.html#networkx-integration)\n",
    "\n",
    "NetworkX: Layouts\n",
    "- [Drawing: Layout](https://networkx.github.io/documentation/stable/reference/drawing.html#module-networkx.drawing.layout)"
   ]
  },
  {
   "cell_type": "code",
   "execution_count": null,
   "metadata": {},
   "outputs": [],
   "source": [
    "from bokeh.io import show, output_file, output_notebook\n",
    "from bokeh.plotting import figure\n",
    "from bokeh.models.graphs import from_networkx"
   ]
  },
  {
   "cell_type": "code",
   "execution_count": null,
   "metadata": {},
   "outputs": [],
   "source": [
    "plot = figure(title=\"Network A\")\n",
    "\n",
    "graph = from_networkx(Ga, nx.random_layout)\n",
    "plot.renderers.append(graph)\n",
    "\n",
    "output_notebook()\n",
    "show(plot)"
   ]
  },
  {
   "cell_type": "markdown",
   "metadata": {},
   "source": [
    "##### 5. save in GEXF format\n",
    "so that we can load into *Gephi*"
   ]
  },
  {
   "cell_type": "code",
   "execution_count": null,
   "metadata": {},
   "outputs": [],
   "source": [
    "nx.write_gexf(Ga, \"A.gexf\")\n",
    "nx.write_gexf(Gb, \"B.gexf\")"
   ]
  },
  {
   "cell_type": "code",
   "execution_count": null,
   "metadata": {},
   "outputs": [],
   "source": []
  }
 ],
 "metadata": {
  "kernelspec": {
   "display_name": "Python 3",
   "language": "python",
   "name": "python3"
  },
  "language_info": {
   "codemirror_mode": {
    "name": "ipython",
    "version": 3
   },
   "file_extension": ".py",
   "mimetype": "text/x-python",
   "name": "python",
   "nbconvert_exporter": "python",
   "pygments_lexer": "ipython3",
   "version": "3.6.5"
  },
  "toc": {
   "base_numbering": 1,
   "nav_menu": {},
   "number_sections": false,
   "sideBar": false,
   "skip_h1_title": false,
   "title_cell": "Table of Contents",
   "title_sidebar": "Contents",
   "toc_cell": false,
   "toc_position": {},
   "toc_section_display": false,
   "toc_window_display": false
  }
 },
 "nbformat": 4,
 "nbformat_minor": 2
}
