{
 "cells": [
  {
   "cell_type": "markdown",
   "metadata": {},
   "source": [
    "# Exploring Point Clusters\n",
    "\n",
    "- [scipy.stats.powerlaw](https://docs.scipy.org/doc/scipy/reference/generated/scipy.stats.powerlaw.html)\n",
    "- [How can I generate numbers that fall into power-law distribution?](https://ask.metafilter.com/88140/How-can-I-generate-numbers-that-fall-into-powerlaw-distribution)\n",
    "- [python scipy.stats.powerlaw negative exponent](https://stackoverflow.com/questions/17882907/python-scipy-stats-powerlaw-negative-exponent/46065079#46065079)\n",
    "- [Fitting a power-law to data with errors](https://scipy-cookbook.readthedocs.io/items/FittingData.html#Fitting-a-power-law-to-data-with-errors)\n"
   ]
  },
  {
   "cell_type": "code",
   "execution_count": null,
   "metadata": {},
   "outputs": [],
   "source": [
    "points = 5000\n",
    "K = 19"
   ]
  },
  {
   "cell_type": "code",
   "execution_count": null,
   "metadata": {},
   "outputs": [],
   "source": []
  },
  {
   "cell_type": "code",
   "execution_count": 6,
   "metadata": {},
   "outputs": [],
   "source": [
    "import numpy as np\n",
    "import matplotlib.pyplot as plt\n",
    "\n",
    "%matplotlib inline"
   ]
  },
  {
   "cell_type": "code",
   "execution_count": 77,
   "metadata": {},
   "outputs": [],
   "source": [
    "a = 5. # shape\n",
    "samples = 5000\n",
    "s = np.random.power(a, samples)"
   ]
  },
  {
   "cell_type": "code",
   "execution_count": 78,
   "metadata": {},
   "outputs": [],
   "source": [
    "def plot(a, samples, s):\n",
    "    count, bins, ignored = plt.hist(1.0 - s, bins=30)\n",
    "    x = np.linspace(0, 1, 100)\n",
    "    y = a*x**(a - 1.0)\n",
    "    normed_y = samples*np.diff(bins)[0]*y\n",
    "    plt.plot(x, sorted(normed_y, reverse=True))\n",
    "    plt.show()"
   ]
  },
  {
   "cell_type": "code",
   "execution_count": 79,
   "metadata": {},
   "outputs": [
    {
     "data": {
      "image/png": "[encoded data removed]",
      "text/plain": [
       "<Figure size 432x288 with 1 Axes>"
      ]
     },
     "metadata": {},
     "output_type": "display_data"
    }
   ],
   "source": [
    "plot(a, samples, s)"
   ]
  },
  {
   "cell_type": "code",
   "execution_count": null,
   "metadata": {},
   "outputs": [],
   "source": []
  },
  {
   "cell_type": "code",
   "execution_count": null,
   "metadata": {},
   "outputs": [],
   "source": []
  },
  {
   "cell_type": "code",
   "execution_count": null,
   "metadata": {},
   "outputs": [],
   "source": []
  },
  {
   "cell_type": "code",
   "execution_count": 80,
   "metadata": {},
   "outputs": [],
   "source": [
    "import scipy.stats as stats"
   ]
  },
  {
   "cell_type": "code",
   "execution_count": 136,
   "metadata": {},
   "outputs": [],
   "source": [
    "a = 5.0\n",
    "samples = 5000\n",
    "s = stats.powerlaw.rvs(a=a, loc=0, scale=1, size=samples)"
   ]
  },
  {
   "cell_type": "code",
   "execution_count": 134,
   "metadata": {},
   "outputs": [
    {
     "data": {
      "image/png": "[encoded data removed]",
      "text/plain": [
       "<Figure size 432x288 with 1 Axes>"
      ]
     },
     "metadata": {},
     "output_type": "display_data"
    }
   ],
   "source": [
    "plot(a, samples, s)"
   ]
  },
  {
   "cell_type": "code",
   "execution_count": 126,
   "metadata": {},
   "outputs": [
    {
     "data": {
      "text/plain": [
       "5000"
      ]
     },
     "execution_count": 126,
     "metadata": {},
     "output_type": "execute_result"
    }
   ],
   "source": [
    "len(s)"
   ]
  },
  {
   "cell_type": "code",
   "execution_count": null,
   "metadata": {},
   "outputs": [],
   "source": []
  },
  {
   "cell_type": "code",
   "execution_count": null,
   "metadata": {},
   "outputs": [],
   "source": []
  },
  {
   "cell_type": "code",
   "execution_count": null,
   "metadata": {},
   "outputs": [],
   "source": []
  },
  {
   "cell_type": "code",
   "execution_count": 114,
   "metadata": {},
   "outputs": [],
   "source": [
    "import numpy as np\n",
    "\n",
    "def power_law(k_min, k_max, y, gamma):\n",
    "    return ((k_max**(-gamma+1) - k_min**(-gamma+1))*y  + k_min**(-gamma+1.0))**1.0/(-gamma + 1.0)"
   ]
  },
  {
   "cell_type": "code",
   "execution_count": 115,
   "metadata": {},
   "outputs": [],
   "source": [
    "nodes = 1000\n",
    "scale_free_distribution = np.zeros(nodes, float)\n",
    "k_min = 1.0\n",
    "k_max = 100*k_min\n",
    "gamma = 3.0\n",
    "\n",
    "for n in range(nodes):\n",
    "    scale_free_distribution[n] = power_law(k_min, k_max,np.random.uniform(0,1), gamma)"
   ]
  },
  {
   "cell_type": "code",
   "execution_count": 116,
   "metadata": {},
   "outputs": [
    {
     "data": {
      "text/plain": [
       "array([-0.16859591, -0.12223265, -0.47019312, -0.11363166, -0.20616731,\n",
       "       -0.27562437, -0.32296263, -0.49043626, -0.2147357 , -0.44656012,\n",
       "       -0.01603252, -0.13933227, -0.13141716, -0.04936107, -0.34420055,\n",
       "       -0.40473735, -0.42044897, -0.44261603, -0.19386201, -0.35923964,\n",
       "       -0.04998104, -0.33439723, -0.23263747, -0.08185514, -0.08892942,\n",
       "       -0.3415745 , -0.08440806, -0.47429561, -0.25945664, -0.04681414,\n",
       "       -0.00059244, -0.29008382, -0.16468583, -0.14362768, -0.42652051,\n",
       "       -0.18268698, -0.13593182, -0.24938706, -0.10418706, -0.11734706,\n",
       "       -0.26127497, -0.44709112, -0.30813978, -0.22864323, -0.13615687,\n",
       "       -0.01914817, -0.47818599, -0.19415773, -0.4734398 , -0.38138931,\n",
       "       -0.37019577, -0.03079153, -0.02228148, -0.07945172, -0.28241153,\n",
       "       -0.06651513, -0.06101848, -0.40165565, -0.35872038, -0.01642498,\n",
       "       -0.31195852, -0.3907153 , -0.054447  , -0.49997833, -0.23649323,\n",
       "       -0.03265303, -0.02276849, -0.44497776, -0.10398661, -0.1840555 ,\n",
       "       -0.14052561, -0.31024452, -0.42058233, -0.29521699, -0.01659189,\n",
       "       -0.02654243, -0.20088548, -0.35170848, -0.31711006, -0.44194551,\n",
       "       -0.21469958, -0.28072896, -0.4731088 , -0.30634068, -0.31061312,\n",
       "       -0.43860731, -0.3849151 , -0.49358472, -0.01855048, -0.37633444,\n",
       "       -0.47608042, -0.34209905, -0.06010548, -0.0281711 , -0.36945515,\n",
       "       -0.21045487, -0.3734506 , -0.24758362, -0.48563354, -0.04214705,\n",
       "       -0.13053369, -0.06047191, -0.11166936, -0.11533268, -0.26859431,\n",
       "       -0.31634975, -0.057996  , -0.4658137 , -0.12201763, -0.23266842,\n",
       "       -0.40426746, -0.12872033, -0.23524772, -0.35626654, -0.34195985,\n",
       "       -0.00332144, -0.08832983, -0.12329186, -0.39344821, -0.02694275,\n",
       "       -0.1855377 , -0.48030184, -0.37643638, -0.33011569, -0.32388724,\n",
       "       -0.40130314, -0.31326779, -0.30229627, -0.03960562, -0.02827381,\n",
       "       -0.06658832, -0.41096446, -0.49241234, -0.19727687, -0.12683983,\n",
       "       -0.19808985, -0.49486103, -0.32961363, -0.30049239, -0.46528024,\n",
       "       -0.10718385, -0.4952815 , -0.15580927, -0.16201929, -0.14900014,\n",
       "       -0.42023633, -0.37221511, -0.29097718, -0.4021987 , -0.11514463,\n",
       "       -0.16366041, -0.16245183, -0.08854195, -0.32146699, -0.0258772 ,\n",
       "       -0.13957789, -0.42938199, -0.48485831, -0.33182066, -0.09956137,\n",
       "       -0.18502027, -0.25775602, -0.04638958, -0.02745987, -0.11005325,\n",
       "       -0.08363267, -0.07289088, -0.42982149, -0.41147642, -0.04655389,\n",
       "       -0.00852949, -0.04064921, -0.13119263, -0.28746937, -0.11286748,\n",
       "       -0.36083432, -0.30334803, -0.22916746, -0.18981099, -0.15293555,\n",
       "       -0.45363062, -0.21798862, -0.4173265 , -0.45904563, -0.39373107,\n",
       "       -0.39425505, -0.03223189, -0.10095133, -0.45916838, -0.13658672,\n",
       "       -0.18271602, -0.29482453, -0.05219368, -0.33866388, -0.01775122,\n",
       "       -0.04466977, -0.33007347, -0.10831241, -0.07358094, -0.0119756 ,\n",
       "       -0.07446463, -0.06507498, -0.23493139, -0.05170131, -0.18519554,\n",
       "       -0.03607011, -0.21204269, -0.45537997, -0.27812202, -0.216328  ,\n",
       "       -0.34951657, -0.36387725, -0.29595891, -0.03260518, -0.37995122,\n",
       "       -0.34038764, -0.02454684, -0.22352339, -0.39451478, -0.09511991,\n",
       "       -0.46027059, -0.14990125, -0.45536558, -0.11660414, -0.14708835,\n",
       "       -0.00903994, -0.11172469, -0.39474798, -0.32316443, -0.35065632,\n",
       "       -0.2632323 , -0.09489038, -0.22799028, -0.10178191, -0.2159723 ,\n",
       "       -0.25928772, -0.12947106, -0.42395012, -0.16188018, -0.37669739,\n",
       "       -0.08922032, -0.41182296, -0.27463896, -0.01205287, -0.0825081 ,\n",
       "       -0.14725645, -0.32584628, -0.42513741, -0.22818115, -0.25605265,\n",
       "       -0.48336241, -0.29316814, -0.47520238, -0.1661158 , -0.10784375,\n",
       "       -0.16119405, -0.44004445, -0.43252221, -0.28600106, -0.07824862,\n",
       "       -0.32380702, -0.48463754, -0.4129707 , -0.43442309, -0.46317769,\n",
       "       -0.2409067 , -0.19342439, -0.26199014, -0.05082437, -0.1896303 ,\n",
       "       -0.06868028, -0.40953375, -0.23719656, -0.47952241, -0.43300571,\n",
       "       -0.25999767, -0.08963521, -0.35843666, -0.45702884, -0.34091458,\n",
       "       -0.34120379, -0.41146099, -0.1098928 , -0.46729194, -0.35567535,\n",
       "       -0.31362727, -0.18851511, -0.08631235, -0.42833837, -0.27193587,\n",
       "       -0.23260914, -0.40814614, -0.02247012, -0.03385287, -0.05208257,\n",
       "       -0.02395326, -0.39295353, -0.47119786, -0.33679345, -0.40361925,\n",
       "       -0.04781516, -0.47503346, -0.46406852, -0.2338974 , -0.29567694,\n",
       "       -0.26825992, -0.07220126, -0.25881275, -0.35429339, -0.48633501,\n",
       "       -0.42880995, -0.19069195, -0.10200614, -0.08177603, -0.35473775,\n",
       "       -0.12584348, -0.26110218, -0.48835635, -0.07231018, -0.4736069 ,\n",
       "       -0.44238408, -0.18902463, -0.32527661, -0.43203086, -0.26905381,\n",
       "       -0.38540791, -0.11507884, -0.03047418, -0.4184334 , -0.17258516,\n",
       "       -0.34147615, -0.2049252 , -0.05678393, -0.46123049, -0.19994097,\n",
       "       -0.02678773, -0.05393873, -0.23554985, -0.34184926, -0.01434772,\n",
       "       -0.48890113, -0.2206483 , -0.33689246, -0.4914048 , -0.07761018,\n",
       "       -0.24870332, -0.36281845, -0.01365548, -0.17501041, -0.42766715,\n",
       "       -0.2252247 , -0.27445525, -0.08510374, -0.4150549 , -0.3604591 ,\n",
       "       -0.07325554, -0.22446703, -0.36295679, -0.41119616, -0.21758416,\n",
       "       -0.16316662, -0.39972823, -0.23368012, -0.47839062, -0.10626838,\n",
       "       -0.24108938, -0.4175634 , -0.2309953 , -0.00582047, -0.14083009,\n",
       "       -0.48200162, -0.14713907, -0.2430437 , -0.38559589, -0.4033352 ,\n",
       "       -0.20488439, -0.34311044, -0.02281562, -0.07685976, -0.31946958,\n",
       "       -0.40089311, -0.33051665, -0.37388005, -0.16739473, -0.0248726 ,\n",
       "       -0.2085282 , -0.33993898, -0.09945509, -0.45971815, -0.0039938 ,\n",
       "       -0.1170988 , -0.06868489, -0.39469427, -0.02618901, -0.39965224,\n",
       "       -0.04400679, -0.14148563, -0.23271608, -0.36013952, -0.46183313,\n",
       "       -0.35698971, -0.18441974, -0.4174396 , -0.47886921, -0.00894637,\n",
       "       -0.01469688, -0.04320862, -0.39536542, -0.01983125, -0.12390151,\n",
       "       -0.46700552, -0.12018521, -0.21212421, -0.07369905, -0.30245932,\n",
       "       -0.34142243, -0.08120499, -0.38794329, -0.49062786, -0.26053641,\n",
       "       -0.45562152, -0.4320517 , -0.42093629, -0.01812602, -0.32909035,\n",
       "       -0.49894557, -0.08467767, -0.03828215, -0.31857419, -0.39489421,\n",
       "       -0.15994868, -0.24468054, -0.10882647, -0.1687373 , -0.02113371,\n",
       "       -0.25905691, -0.33334802, -0.47474872, -0.34954614, -0.22700691,\n",
       "       -0.08493721, -0.30632174, -0.26948165, -0.21274701, -0.01486665,\n",
       "       -0.46371376, -0.12196283, -0.02422127, -0.02146188, -0.0474079 ,\n",
       "       -0.0859833 , -0.38795659, -0.2848851 , -0.15430929, -0.083209  ,\n",
       "       -0.07708494, -0.13558277, -0.19209095, -0.09099777, -0.03307706,\n",
       "       -0.42400385, -0.46991118, -0.21850841, -0.0337887 , -0.44217801,\n",
       "       -0.02567174, -0.05191755, -0.22172913, -0.36296521, -0.35213273,\n",
       "       -0.21009409, -0.03924206, -0.03791208, -0.07325246, -0.10210996,\n",
       "       -0.020599  , -0.46640884, -0.16788406, -0.38419333, -0.44710189,\n",
       "       -0.21163713, -0.00385899, -0.10342063, -0.1889574 , -0.02855215,\n",
       "       -0.42544068, -0.21568996, -0.07800207, -0.37899319, -0.13694819,\n",
       "       -0.23504733, -0.02584001, -0.28984834, -0.28406574, -0.10389116,\n",
       "       -0.34580649, -0.09331269, -0.08822242, -0.31411563, -0.10395505,\n",
       "       -0.20061858, -0.34266439, -0.14743494, -0.48653046, -0.1713642 ,\n",
       "       -0.05459999, -0.16771866, -0.32850106, -0.3330056 , -0.49764491,\n",
       "       -0.47228203, -0.4225225 , -0.02658211, -0.14044174, -0.1691224 ,\n",
       "       -0.13747094, -0.38555345, -0.16947507, -0.4176001 , -0.38201796,\n",
       "       -0.02507351, -0.33644006, -0.17356203, -0.49035469, -0.08994298,\n",
       "       -0.44243478, -0.17791201, -0.0938102 , -0.25215732, -0.11329183,\n",
       "       -0.07561614, -0.15584267, -0.27304242, -0.23314405, -0.28250648,\n",
       "       -0.11448948, -0.25494132, -0.28879739, -0.18050141, -0.16741032,\n",
       "       -0.48754608, -0.01625644, -0.0932237 , -0.13396035, -0.23263658,\n",
       "       -0.25883798, -0.11715677, -0.1548038 , -0.48381733, -0.22393046,\n",
       "       -0.07533454, -0.26180889, -0.35807881, -0.00452912, -0.13603383,\n",
       "       -0.12800669, -0.14096026, -0.32202424, -0.40612268, -0.4522704 ,\n",
       "       -0.1237098 , -0.42346811, -0.39990195, -0.39304634, -0.23647557,\n",
       "       -0.06827901, -0.28229762, -0.25233792, -0.14735068, -0.20340104,\n",
       "       -0.4791006 , -0.471637  , -0.19653345, -0.11044514, -0.02031702,\n",
       "       -0.00134599, -0.42552751, -0.1020574 , -0.20273232, -0.39444739,\n",
       "       -0.01593704, -0.34409189, -0.37554734, -0.20151341, -0.27708676,\n",
       "       -0.02582392, -0.35234255, -0.04128336, -0.48123253, -0.15180768,\n",
       "       -0.39067613, -0.12683352, -0.04241819, -0.25728584, -0.10086069,\n",
       "       -0.4038741 , -0.3159226 , -0.17259522, -0.22125698, -0.31915775,\n",
       "       -0.47887842, -0.06961714, -0.39746071, -0.20972674, -0.09461025,\n",
       "       -0.4021372 , -0.2055743 , -0.05705277, -0.14406615, -0.46694807,\n",
       "       -0.21094707, -0.35276247, -0.35698963, -0.1342247 , -0.10177303,\n",
       "       -0.20655247, -0.03811955, -0.37967329, -0.15673518, -0.13137315,\n",
       "       -0.42199461, -0.18332494, -0.2391027 , -0.3429186 , -0.40203937,\n",
       "       -0.01487548, -0.23901901, -0.34672504, -0.02833795, -0.28434776,\n",
       "       -0.46019339, -0.46408186, -0.25674057, -0.18751224, -0.24064596,\n",
       "       -0.17815705, -0.43645711, -0.43806944, -0.37393477, -0.02475899,\n",
       "       -0.34807379, -0.27736124, -0.15441787, -0.11229424, -0.30236967,\n",
       "       -0.08201587, -0.05298646, -0.27033162, -0.17819451, -0.43724124,\n",
       "       -0.44887334, -0.31564582, -0.01419921, -0.25752358, -0.1415844 ,\n",
       "       -0.2499835 , -0.32426619, -0.23436407, -0.30321068, -0.1338855 ,\n",
       "       -0.45454825, -0.16233786, -0.04848477, -0.36196344, -0.12543351,\n",
       "       -0.42077824, -0.48766399, -0.39872113, -0.14319473, -0.43251133,\n",
       "       -0.08989554, -0.22093794, -0.00844377, -0.19801864, -0.49505857,\n",
       "       -0.40221483, -0.47740724, -0.34155955, -0.03229559, -0.27484134,\n",
       "       -0.410632  , -0.187204  , -0.03825183, -0.07941513, -0.40565049,\n",
       "       -0.46782669, -0.27142921, -0.40060021, -0.04361663, -0.11360861,\n",
       "       -0.08132173, -0.2699997 , -0.21366351, -0.22371524, -0.21317332,\n",
       "       -0.23097972, -0.48588515, -0.05760055, -0.0626137 , -0.35118327,\n",
       "       -0.29738995, -0.36614344, -0.40535439, -0.45141728, -0.10261903,\n",
       "       -0.00264967, -0.2417315 , -0.21367508, -0.03978894, -0.04655755,\n",
       "       -0.27012052, -0.39036697, -0.17196473, -0.021159  , -0.27706399,\n",
       "       -0.05232985, -0.11663245, -0.19592438, -0.04033591, -0.26751779,\n",
       "       -0.16949206, -0.05051954, -0.48608887, -0.38748045, -0.3206415 ,\n",
       "       -0.38788808, -0.21864618, -0.27680809, -0.47843774, -0.29074341,\n",
       "       -0.32166931, -0.3065027 , -0.17788607, -0.38116433, -0.05618245,\n",
       "       -0.4114724 , -0.45493817, -0.27100324, -0.47283334, -0.17215078,\n",
       "       -0.31946546, -0.32885911, -0.15230749, -0.43049626, -0.14261272,\n",
       "       -0.23403724, -0.14409358, -0.40592499, -0.23111885, -0.02517466,\n",
       "       -0.48075812, -0.08103029, -0.32196745, -0.25012227, -0.31466599,\n",
       "       -0.21080897, -0.25256834, -0.31532085, -0.20780986, -0.33533421,\n",
       "       -0.37636298, -0.3318345 , -0.18068516, -0.36353465, -0.12019633,\n",
       "       -0.05780934, -0.07065833, -0.2245179 , -0.23232303, -0.24581491,\n",
       "       -0.08170962, -0.0544089 , -0.07063775, -0.18071642, -0.37044606,\n",
       "       -0.49425562, -0.26728191, -0.08340042, -0.17728334, -0.23977167,\n",
       "       -0.15778175, -0.43623987, -0.39298142, -0.1986056 , -0.19276302,\n",
       "       -0.41833712, -0.20560394, -0.30485415, -0.00652928, -0.00156965,\n",
       "       -0.14434445, -0.19217186, -0.13308449, -0.00633483, -0.45755171,\n",
       "       -0.12827762, -0.2219606 , -0.33220607, -0.13640035, -0.15205333,\n",
       "       -0.08574149, -0.20257652, -0.24108264, -0.09051186, -0.3166459 ,\n",
       "       -0.01627031, -0.35653047, -0.21671676, -0.04747966, -0.24670643,\n",
       "       -0.1937524 , -0.4541023 , -0.21003815, -0.26868703, -0.45191825,\n",
       "       -0.16209043, -0.0507907 , -0.31255224, -0.33213966, -0.08606401,\n",
       "       -0.27518836, -0.25776935, -0.21451063, -0.23238964, -0.30610812,\n",
       "       -0.46063241, -0.25162725, -0.16505444, -0.41440341, -0.44956187,\n",
       "       -0.22938484, -0.45856872, -0.4106339 , -0.13830686, -0.30464705,\n",
       "       -0.14607823, -0.16945052, -0.05285601, -0.31161013, -0.49470247,\n",
       "       -0.44692216, -0.36073381, -0.32019885, -0.10572366, -0.32704425,\n",
       "       -0.18029307, -0.31729155, -0.35600341, -0.27886333, -0.16989339,\n",
       "       -0.14247271, -0.17766605, -0.12988758, -0.48214748, -0.39617271,\n",
       "       -0.35671549, -0.48404387, -0.38139585, -0.3210255 , -0.18088535,\n",
       "       -0.08699566, -0.2808536 , -0.24643364, -0.42500227, -0.16528707,\n",
       "       -0.23835734, -0.01332587, -0.02726292, -0.33158107, -0.34314775,\n",
       "       -0.2103127 , -0.31584382, -0.1836346 , -0.46668937, -0.1983002 ,\n",
       "       -0.30240891, -0.01910628, -0.00947025, -0.09724276, -0.42924054,\n",
       "       -0.36033871, -0.43244018, -0.13999199, -0.04545613, -0.17637223,\n",
       "       -0.30449414, -0.01270462, -0.38480959, -0.21939986, -0.18394087,\n",
       "       -0.08191804, -0.42597253, -0.07037785, -0.14998653, -0.33247063,\n",
       "       -0.34447225, -0.02123915, -0.48055057, -0.48965792, -0.08098589,\n",
       "       -0.12340941, -0.06076675, -0.15462521, -0.16023582, -0.34414192,\n",
       "       -0.26728542, -0.15801838, -0.34036166, -0.37174954, -0.25355763,\n",
       "       -0.34114473, -0.21132083, -0.26952133, -0.01503088, -0.17460601,\n",
       "       -0.39533394, -0.06479581, -0.40820794, -0.46073826, -0.47838193,\n",
       "       -0.46904094, -0.30963386, -0.42382903, -0.03180114, -0.1770093 ,\n",
       "       -0.35780053, -0.4776541 , -0.12102172, -0.26097258, -0.32249374,\n",
       "       -0.35824674, -0.49534714, -0.48043631, -0.02950359, -0.23261617,\n",
       "       -0.28010099, -0.06064053, -0.27987984, -0.26806977, -0.03379735,\n",
       "       -0.15888236, -0.12007417, -0.27666485, -0.43676181, -0.40009998,\n",
       "       -0.4521677 , -0.07196765, -0.36453496, -0.13080923, -0.22577435,\n",
       "       -0.48926418, -0.001884  , -0.00162275, -0.38103615, -0.14304539,\n",
       "       -0.35622214, -0.0897166 , -0.44924892, -0.15974781, -0.2525339 ,\n",
       "       -0.15250718, -0.00795047, -0.03786593, -0.03558303, -0.02270504,\n",
       "       -0.02081604, -0.33782539, -0.43603591, -0.09385369, -0.23052235,\n",
       "       -0.22416028, -0.28679598, -0.32830185, -0.03534644, -0.09192835,\n",
       "       -0.18664284, -0.42319001, -0.01550917, -0.04528761, -0.24228101,\n",
       "       -0.38582872, -0.17799154, -0.18466426, -0.21592063, -0.0676273 ,\n",
       "       -0.03956082, -0.26068368, -0.11752054, -0.41909727, -0.12359819,\n",
       "       -0.35597425, -0.37870972, -0.18299861, -0.05022482, -0.09676783,\n",
       "       -0.42744356, -0.33986779, -0.35996222, -0.33420023, -0.48772949])"
      ]
     },
     "execution_count": 116,
     "metadata": {},
     "output_type": "execute_result"
    }
   ],
   "source": [
    "scale_free_distribution"
   ]
  },
  {
   "cell_type": "code",
   "execution_count": 113,
   "metadata": {},
   "outputs": [
    {
     "data": {
      "text/plain": [
       "24779391.0"
      ]
     },
     "execution_count": 113,
     "metadata": {},
     "output_type": "execute_result"
    }
   ],
   "source": [
    "2.47793910e+07"
   ]
  },
  {
   "cell_type": "code",
   "execution_count": null,
   "metadata": {},
   "outputs": [],
   "source": []
  },
  {
   "cell_type": "code",
   "execution_count": null,
   "metadata": {},
   "outputs": [],
   "source": []
  },
  {
   "cell_type": "code",
   "execution_count": null,
   "metadata": {},
   "outputs": [],
   "source": []
  },
  {
   "cell_type": "code",
   "execution_count": 161,
   "metadata": {},
   "outputs": [],
   "source": [
    "# Define function for calculating a power law\n",
    "powerlaw = lambda x, amp, index: amp * (x**index)\n",
    "\n",
    "##########\n",
    "# Generate data points with noise\n",
    "##########\n",
    "num_points = 19\n",
    "\n",
    "# Note: all positive, non-zero data\n",
    "xdata = np.linspace(1.0, 20.0, num_points)\n",
    "ydata = powerlaw(xdata, 10.0, -2.0)     # simulated perfect data\n",
    "#yerr = 0.2 * ydata                      # simulated errors (10%)\n",
    "\n",
    "#ydata += np.random.randn(num_points) * yerr       # simulated noisy data"
   ]
  },
  {
   "cell_type": "code",
   "execution_count": 162,
   "metadata": {},
   "outputs": [
    {
     "data": {
      "text/plain": [
       "[0.025,\n",
       " 0.02786353746527807,\n",
       " 0.03124879441379576,\n",
       " 0.03529065777864914,\n",
       " 0.040170601071216026,\n",
       " 0.0461374154503382,\n",
       " 0.05353955978584175,\n",
       " 0.06287721477226417,\n",
       " 0.07488905325443787,\n",
       " 0.09070294784580499,\n",
       " 0.11211072664359861,\n",
       " 0.14209903074426558,\n",
       " 0.18595041322314046,\n",
       " 0.25373952541310985,\n",
       " 0.36668175645088275,\n",
       " 0.576,\n",
       " 1.0331632653061225,\n",
       " 2.3666910153396645,\n",
       " 10.0]"
      ]
     },
     "execution_count": 162,
     "metadata": {},
     "output_type": "execute_result"
    }
   ],
   "source": [
    "sorted(ydata)"
   ]
  },
  {
   "cell_type": "code",
   "execution_count": 163,
   "metadata": {},
   "outputs": [
    {
     "data": {
      "text/plain": [
       "[<matplotlib.lines.Line2D at 0x1a1c9f8cc0>]"
      ]
     },
     "execution_count": 163,
     "metadata": {},
     "output_type": "execute_result"
    },
    {
     "data": {
      "image/png": "[encoded data removed]",
      "text/plain": [
       "<Figure size 432x288 with 1 Axes>"
      ]
     },
     "metadata": {},
     "output_type": "display_data"
    }
   ],
   "source": [
    "plt.plot(xdata, ydata)"
   ]
  },
  {
   "cell_type": "code",
   "execution_count": null,
   "metadata": {},
   "outputs": [],
   "source": []
  }
 ],
 "metadata": {
  "kernelspec": {
   "display_name": "Python 3",
   "language": "python",
   "name": "python3"
  },
  "language_info": {
   "codemirror_mode": {
    "name": "ipython",
    "version": 3
   },
   "file_extension": ".py",
   "mimetype": "text/x-python",
   "name": "python",
   "nbconvert_exporter": "python",
   "pygments_lexer": "ipython3",
   "version": "3.6.5"
  },
  "toc": {
   "base_numbering": 1,
   "nav_menu": {},
   "number_sections": false,
   "sideBar": false,
   "skip_h1_title": false,
   "title_cell": "Table of Contents",
   "title_sidebar": "Contents",
   "toc_cell": false,
   "toc_position": {},
   "toc_section_display": false,
   "toc_window_display": false
  }
 },
 "nbformat": 4,
 "nbformat_minor": 2
}
