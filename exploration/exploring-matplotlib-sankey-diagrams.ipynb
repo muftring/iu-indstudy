{
 "cells": [
  {
   "cell_type": "markdown",
   "metadata": {},
   "source": [
    "# Alluvial Diagrams"
   ]
  },
  {
   "cell_type": "code",
   "execution_count": 1,
   "metadata": {},
   "outputs": [],
   "source": [
    "# import matplotlib\n",
    "%matplotlib inline\n",
    "import matplotlib.pyplot as plt\n",
    "from matplotlib.sankey import Sankey"
   ]
  },
  {
   "cell_type": "code",
   "execution_count": 2,
   "metadata": {},
   "outputs": [
    {
     "data": {
      "text/plain": [
       "[Bunch(patch=Poly((-0.25, 0.5) ...), flows=[ 1 -1], angles=[0, 0], tips=[[0.16954982 0.        ]\n",
       "  [0.6947228  0.        ]], text=Text(0,0,''), texts=[Text(0.0195498,0,'input\\n1'), Text(0.844723,0,'output\\n1')])]"
      ]
     },
     "execution_count": 2,
     "metadata": {},
     "output_type": "execute_result"
    },
    {
     "data": {
      "image/png": "[encoded data removed]",
      "text/plain": [
       "<Figure size 432x288 with 1 Axes>"
      ]
     },
     "metadata": {},
     "output_type": "display_data"
    }
   ],
   "source": [
    "sankey = Sankey()\n",
    "sankey.add(flows=[1, -1],\n",
    "       labels=['input', 'output'])\n",
    "sankey.finish()"
   ]
  },
  {
   "cell_type": "code",
   "execution_count": 8,
   "metadata": {},
   "outputs": [
    {
     "data": {
      "application/javascript": [
       "\n",
       "      require(['https://www.gstatic.com/charts/loader.js']);\n",
       "      google.charts.load('current', {'packages':['sankey']});\n",
       "      google.charts.setOnLoadCallback(drawChart);\n",
       "\n",
       "      function drawChart() {\n",
       "        var data = new google.visualization.DataTable();\n",
       "        data.addColumn('string', 'From');\n",
       "        data.addColumn('string', 'To');\n",
       "        data.addColumn('number', 'Weight');\n",
       "        data.addRows([\n",
       "          [ 'A', 'X', 5 ],\n",
       "          [ 'A', 'Y', 7 ],\n",
       "          [ 'A', 'Z', 6 ],\n",
       "          [ 'B', 'X', 2 ],\n",
       "          [ 'B', 'Y', 9 ],\n",
       "          [ 'B', 'Z', 4 ]\n",
       "        ]);\n",
       "\n",
       "        // Sets chart options.\n",
       "        var options = {\n",
       "          width: 600,\n",
       "        };\n",
       "\n",
       "        // Instantiates and draws our chart, passing in some options.\n",
       "        var chart = new google.visualization.Sankey(document.getElementById('sankey_basic'));\n",
       "        chart.draw(data, options);\n",
       "      }\n",
       "\n",
       "      drawChart()"
      ],
      "text/plain": [
       "<IPython.core.display.Javascript object>"
      ]
     },
     "metadata": {},
     "output_type": "display_data"
    }
   ],
   "source": [
    "%%javascript\n",
    "\n",
    "      require(['https://www.gstatic.com/charts/loader.js']);\n",
    "      google.charts.load('current', {'packages':['sankey']});\n",
    "      google.charts.setOnLoadCallback(drawChart);\n",
    "\n",
    "      function drawChart() {\n",
    "        var data = new google.visualization.DataTable();\n",
    "        data.addColumn('string', 'From');\n",
    "        data.addColumn('string', 'To');\n",
    "        data.addColumn('number', 'Weight');\n",
    "        data.addRows([\n",
    "          [ 'A', 'X', 5 ],\n",
    "          [ 'A', 'Y', 7 ],\n",
    "          [ 'A', 'Z', 6 ],\n",
    "          [ 'B', 'X', 2 ],\n",
    "          [ 'B', 'Y', 9 ],\n",
    "          [ 'B', 'Z', 4 ]\n",
    "        ]);\n",
    "\n",
    "        // Sets chart options.\n",
    "        var options = {\n",
    "          width: 600,\n",
    "        };\n",
    "\n",
    "        // Instantiates and draws our chart, passing in some options.\n",
    "        var chart = new google.visualization.Sankey(document.getElementById('sankey_basic'));\n",
    "        chart.draw(data, options);\n",
    "      }\n",
    "\n",
    "      drawChart()"
   ]
  },
  {
   "cell_type": "code",
   "execution_count": null,
   "metadata": {},
   "outputs": [],
   "source": []
  },
  {
   "cell_type": "markdown",
   "metadata": {},
   "source": [
    "https://www.gstatic.com/charts/loader.js"
   ]
  },
  {
   "cell_type": "code",
   "execution_count": 10,
   "metadata": {},
   "outputs": [
    {
     "data": {
      "text/html": [
       "\n",
       "<script>\n",
       "    requirejs.config({\n",
       "        paths: {\n",
       "            d3: 'https://d3js.org/d3.v4'\n",
       "        }\n",
       "    });\n",
       "\n",
       "    require(['d3'], function(d3) {\n",
       "        window.d3 = d3;\n",
       "    });\n",
       "</script>\n"
      ],
      "text/plain": [
       "<IPython.core.display.HTML object>"
      ]
     },
     "execution_count": 10,
     "metadata": {},
     "output_type": "execute_result"
    }
   ],
   "source": [
    "from IPython.core.display import display, HTML\n",
    "HTML('''\n",
    "<script>\n",
    "    requirejs.config({\n",
    "        paths: {\n",
    "            d3: 'https://d3js.org/d3.v4'\n",
    "        }\n",
    "    });\n",
    "\n",
    "    require(['d3'], function(d3) {\n",
    "        window.d3 = d3;\n",
    "    });\n",
    "</script>\n",
    "''')"
   ]
  },
  {
   "cell_type": "code",
   "execution_count": null,
   "metadata": {},
   "outputs": [],
   "source": []
  }
 ],
 "metadata": {
  "kernelspec": {
   "display_name": "Python 3",
   "language": "python",
   "name": "python3"
  },
  "language_info": {
   "codemirror_mode": {
    "name": "ipython",
    "version": 3
   },
   "file_extension": ".py",
   "mimetype": "text/x-python",
   "name": "python",
   "nbconvert_exporter": "python",
   "pygments_lexer": "ipython3",
   "version": "3.6.5"
  },
  "toc": {
   "base_numbering": 1,
   "nav_menu": {},
   "number_sections": false,
   "sideBar": false,
   "skip_h1_title": false,
   "title_cell": "Table of Contents",
   "title_sidebar": "Contents",
   "toc_cell": false,
   "toc_position": {},
   "toc_section_display": false,
   "toc_window_display": false
  }
 },
 "nbformat": 4,
 "nbformat_minor": 2
}
