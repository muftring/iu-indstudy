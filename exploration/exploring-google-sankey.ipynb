{
 "cells": [
  {
   "cell_type": "markdown",
   "metadata": {},
   "source": [
    "# Exploring Google Sankey"
   ]
  },
  {
   "cell_type": "code",
   "execution_count": 5,
   "metadata": {},
   "outputs": [
    {
     "ename": "TypeError",
     "evalue": "Cannot read property 'load' of undefined",
     "output_type": "error",
     "traceback": [
      "evalmachine.<anonymous>:2",
      "google.charts.load('current', {'packages':['sankey']});",
      "              ^",
      "",
      "TypeError: Cannot read property 'load' of undefined",
      "    at evalmachine.<anonymous>:2:15",
      "    at ContextifyScript.Script.runInThisContext (vm.js:50:33)",
      "    at Object.runInThisContext (vm.js:152:38)",
      "    at run ([eval]:1002:15)",
      "    at onRunRequest ([eval]:829:18)",
      "    at onMessage ([eval]:789:13)",
      "    at process.emit (events.js:159:13)",
      "    at emit (internal/child_process.js:790:12)",
      "    at _combinedTickCallback (internal/process/next_tick.js:141:11)",
      "    at process._tickCallback (internal/process/next_tick.js:180:9)"
     ]
    }
   ],
   "source": [
    "const google = require('./loader.js');\n",
    "google.charts.load('current', {'packages':['sankey']});\n",
    "google.charts.setOnLoadCallback(drawChart);\n",
    "\n",
    "var data = new google.visualization.DataTable();\n",
    "data.addColumn('string', 'From');\n",
    "data.addColumn('string', 'To');\n",
    "data.addColumn('number', 'Weight');\n",
    "data.addRows([\n",
    "  [ 'A', 'X', 5 ],\n",
    "  [ 'A', 'Y', 7 ],\n",
    "  [ 'A', 'Z', 6 ],\n",
    "  [ 'B', 'X', 2 ],\n",
    "  [ 'B', 'Y', 9 ],\n",
    "  [ 'B', 'Z', 4 ]\n",
    "]);\n",
    "\n",
    "// Sets chart options.\n",
    "var options = {\n",
    "  width: 600,\n",
    "};\n",
    "\n",
    "// Instantiates and draws our chart, passing in some options.\n",
    "var chart = new google.visualization.Sankey(document.getElementById('sankey_basic'));\n",
    "chart.draw(data, options);\n"
   ]
  },
  {
   "cell_type": "code",
   "execution_count": null,
   "metadata": {},
   "outputs": [],
   "source": []
  }
 ],
 "metadata": {
  "kernelspec": {
   "display_name": "Javascript (Node.js)",
   "language": "javascript",
   "name": "javascript"
  },
  "language_info": {
   "file_extension": ".js",
   "mimetype": "application/javascript",
   "name": "javascript",
   "version": "9.2.0"
  }
 },
 "nbformat": 4,
 "nbformat_minor": 2
}
