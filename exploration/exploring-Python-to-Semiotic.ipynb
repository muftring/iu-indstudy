{
 "cells": [
  {
   "cell_type": "markdown",
   "metadata": {},
   "source": [
    "# Python to Semiotic: can it be done?\n",
    "\n",
    "- [Introducing Semiotic for Data Visualization](https://medium.com/@Elijah_Meeks/introducing-semiotic-for-data-visualization-88dc3c6b6926)"
   ]
  },
  {
   "cell_type": "markdown",
   "metadata": {},
   "source": [
    "```\n",
    "const or_data = [\n",
    "{\"id\":\"Agricultural 'waste'\",\n",
    " \"input\":0,\n",
    " \"output\":262.6972158,\n",
    " \"years\":[\n",
    "     9.282517755,\n",
    "     14.61107771,\n",
    "     30.99950457,\n",
    "     31.97585802,\n",
    "     32.98811297,\n",
    "     34.0375862,\n",
    "     35.12564273,\n",
    "     36.2536977,\n",
    "     37.42321811\n",
    " ],\n",
    " \"category\":\"Agriculture\",\n",
    " \"color\":\"#4d430c\"\n",
    " },\n",
    "  {\"id\":\"Wave\",\"input\":0,\"output\":0.95365274,\"years\":[0,0.003002055,0.158441781,0.396104452,0.396104452,0,0,0,0],\"category\":\"Alternative\",\"color\":\"#b3331d\"},\n",
    "  {\"id\":\"Tidal\",\"input\":0,\"output\":0.325222603,\"years\":[0.005003425,0.020013699,0.050034247,0.125085616,0.125085616,0,0,0,0],\"category\":\"Alternative\",\"color\":\"#b3331d\"}\n",
    "  ...]\n",
    "```"
   ]
  },
  {
   "cell_type": "markdown",
   "metadata": {},
   "source": [
    "```\n",
    "const network_data = [\n",
    "  {\"2010\":127.93,\n",
    "   \"2015\":127.93,\n",
    "   \"2020\":127.93,\n",
    "   \"2025\":127.93,\n",
    "   \"2030\":63.965,\n",
    "   \"2035\":63.965,\n",
    "   \"2040\":63.965,\n",
    "   \"2045\":63.965,\n",
    "   \"2050\":63.965,\n",
    "   \"source\":\"Coal reserves\",\n",
    "   \"target\":\"Coal\",\n",
    "   \"total\":831.545,\n",
    "   \"value\":831.545},\n",
    "  {\"2010\":349.7879708,\"2015\":296.3632186,\"2020\":211.2161187,\"2025\":77.82581145,\"2030\":35.20638477,\"2035\":19.10842823,\"2040\":22.86599313,\"2045\":26.79703903,\"2050\":31.37680448,\"source\":\"Coal imports\",\"target\":\"Coal\",\"total\":1070.547769,\"value\":1070.547769},\n",
    "  {\"2010\":802.5479528,\"2015\":646.8288435,\"2020\":501.7889501,\"2025\":388.2747242,\"2030\":300.4395801,\"2035\":232.47442,\"2040\":179.8842746,\"2045\":139.1910227,\"2050\":107.70336,\"source\":\"Oil reserves\",\"target\":\"Oil\",\"total\":3299.133128,\"value\":3299.133128},\n",
    "...]\n",
    "```"
   ]
  }
 ],
 "metadata": {
  "kernelspec": {
   "display_name": "Python 3",
   "language": "python",
   "name": "python3"
  },
  "language_info": {
   "codemirror_mode": {
    "name": "ipython",
    "version": 3
   },
   "file_extension": ".py",
   "mimetype": "text/x-python",
   "name": "python",
   "nbconvert_exporter": "python",
   "pygments_lexer": "ipython3",
   "version": "3.6.5"
  },
  "toc": {
   "base_numbering": 1,
   "nav_menu": {},
   "number_sections": false,
   "sideBar": false,
   "skip_h1_title": false,
   "title_cell": "Table of Contents",
   "title_sidebar": "Contents",
   "toc_cell": false,
   "toc_position": {},
   "toc_section_display": false,
   "toc_window_display": false
  }
 },
 "nbformat": 4,
 "nbformat_minor": 2
}
