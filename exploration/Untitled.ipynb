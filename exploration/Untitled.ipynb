{
 "cells": [
  {
   "cell_type": "code",
   "execution_count": 1,
   "metadata": {},
   "outputs": [],
   "source": [
    "from beakerx import beakerx"
   ]
  },
  {
   "cell_type": "code",
   "execution_count": 3,
   "metadata": {},
   "outputs": [
    {
     "data": {
      "application/javascript": [
       "require.config({\n",
       "  paths: {\n",
       "      d3: '//cdnjs.cloudflare.com/ajax/libs/d3/4.9.1/d3.min'\n",
       "  }});"
      ],
      "text/plain": [
       "<IPython.core.display.Javascript object>"
      ]
     },
     "metadata": {},
     "output_type": "display_data"
    }
   ],
   "source": [
    "%%javascript\n",
    "require.config({\n",
    "  paths: {\n",
    "      d3: '//cdnjs.cloudflare.com/ajax/libs/d3/4.9.1/d3.min'\n",
    "  }});"
   ]
  },
  {
   "cell_type": "code",
   "execution_count": null,
   "metadata": {},
   "outputs": [],
   "source": [
    "%%html\n",
    "<!DOCTYPE html><html lang='en' class=''>\n",
    "<head>\n",
    "\n",
    "<style class=\"cp-pen-styles\">\n",
    "#container {\n",
    "    min-width: 300px;\n",
    "    max-width: 800px;\n",
    "    height: 400px;\n",
    "    margin: 1em auto;\n",
    "    border: 1px solid silver;\n",
    "}\n",
    "\n",
    "#csv {\n",
    "  display: none;\n",
    "}\n",
    "</style>\n",
    "</head>\n",
    "<body>\n",
    "<script src=\"https://code.highcharts.com/highcharts.js\"></script>\n",
    "<script src=\"https://code.highcharts.com/modules/sankey.js\"></script>\n",
    "<script src=\"https://code.highcharts.com/modules/exporting.js\"></script>\n",
    "\n"
   ]
  },
  {
   "cell_type": "code",
   "execution_count": null,
   "metadata": {},
   "outputs": [],
   "source": [
    "%%javascript\n",
    "\n",
    "beakerx.displayHTML(this, '<div id=\"container\"></div>');\n",
    "\n",
    "Highcharts.chart('container', {\n",
    "\n",
    "  title: {\n",
    "    text: 'Highcharts Sankey Diagram' },\n",
    "\n",
    "\n",
    "  series: [{\n",
    "    keys: ['from', 'to', 'weight'],\n",
    "    data: [\n",
    "    ['Brazil', 'Portugal', 5],\n",
    "    ['Brazil', 'France', 1],\n",
    "    ['Brazil', 'Spain', 1],\n",
    "    ['Brazil', 'England', 1],\n",
    "    ['Canada', 'Portugal', 1],\n",
    "    ['Canada', 'France', 5],\n",
    "    ['Canada', 'England', 1],\n",
    "    ['Mexico', 'Portugal', 1],\n",
    "    ['Mexico', 'France', 1],\n",
    "    ['Mexico', 'Spain', 5],\n",
    "    ['Mexico', 'England', 1],\n",
    "    ['USA', 'Portugal', 1],\n",
    "    ['USA', 'France', 1],\n",
    "    ['USA', 'Spain', 1],\n",
    "    ['USA', 'England', 5],\n",
    "    ['Portugal', 'Angola', 2],\n",
    "    ['Portugal', 'Senegal', 1],\n",
    "    ['Portugal', 'Morocco', 1],\n",
    "    ['Portugal', 'South Africa', 3],\n",
    "    ['France', 'Angola', 1],\n",
    "    ['France', 'Senegal', 3],\n",
    "    ['France', 'Mali', 3],\n",
    "    ['France', 'Morocco', 3],\n",
    "    ['France', 'South Africa', 1],\n",
    "    ['Spain', 'Senegal', 1],\n",
    "    ['Spain', 'Morocco', 3],\n",
    "    ['Spain', 'South Africa', 1],\n",
    "    ['England', 'Angola', 1],\n",
    "    ['England', 'Senegal', 1],\n",
    "    ['England', 'Morocco', 2],\n",
    "    ['England', 'South Africa', 7],\n",
    "    ['South Africa', 'China', 5],\n",
    "    ['South Africa', 'India', 1],\n",
    "    ['South Africa', 'Japan', 3],\n",
    "    ['Angola', 'China', 5],\n",
    "    ['Angola', 'India', 1],\n",
    "    ['Angola', 'Japan', 3],\n",
    "    ['Senegal', 'China', 5],\n",
    "    ['Senegal', 'India', 1],\n",
    "    ['Senegal', 'Japan', 3],\n",
    "    ['Mali', 'China', 5],\n",
    "    ['Mali', 'India', 1],\n",
    "    ['Mali', 'Japan', 3],\n",
    "    ['Morocco', 'China', 5],\n",
    "    ['Morocco', 'India', 1],\n",
    "    ['Morocco', 'Japan', 3]],\n",
    "\n",
    "    type: 'sankey',\n",
    "    name: 'Sankey demo series' }] });"
   ]
  }
 ],
 "metadata": {
  "kernelspec": {
   "display_name": "Python 3",
   "language": "python",
   "name": "python3"
  },
  "language_info": {
   "codemirror_mode": {
    "name": "ipython",
    "version": 3
   },
   "file_extension": ".py",
   "mimetype": "text/x-python",
   "name": "python",
   "nbconvert_exporter": "python",
   "pygments_lexer": "ipython3",
   "version": "3.6.5"
  },
  "toc": {
   "base_numbering": 1,
   "nav_menu": {},
   "number_sections": false,
   "sideBar": false,
   "skip_h1_title": false,
   "title_cell": "Table of Contents",
   "title_sidebar": "Contents",
   "toc_cell": false,
   "toc_position": {},
   "toc_section_display": false,
   "toc_window_display": false
  }
 },
 "nbformat": 4,
 "nbformat_minor": 2
}
