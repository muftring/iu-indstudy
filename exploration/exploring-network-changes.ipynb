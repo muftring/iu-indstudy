{
 "cells": [
  {
   "cell_type": "markdown",
   "metadata": {},
   "source": [
    "# Exploring Network Changes"
   ]
  },
  {
   "cell_type": "markdown",
   "metadata": {},
   "source": [
    "Packages used:\n",
    "- [NetworkX](https://networkx.github.io)\n",
    "- [Matplotlib](https://matplotlib.org)\n",
    "- [Louvain Community Detection (python-louvain)](https://github.com/taynaud/python-louvain)\n",
    "- [CluSim: a package for calculating clustering similarity](https://github.com/Hoosier-Clusters/clusim)"
   ]
  },
  {
   "cell_type": "code",
   "execution_count": 1,
   "metadata": {},
   "outputs": [
    {
     "name": "stdout",
     "output_type": "stream",
     "text": [
      "DendroPY not supported.\n"
     ]
    }
   ],
   "source": [
    "import networkx as nx\n",
    "import community as louvain\n",
    "from clusim.clustering import Clustering, print_clustering\n",
    "import clusim.sim as sim\n",
    "from matplotlib import pyplot as plt\n",
    "\n",
    "%matplotlib inline"
   ]
  },
  {
   "cell_type": "code",
   "execution_count": 2,
   "metadata": {},
   "outputs": [],
   "source": [
    "def membership(d):\n",
    "    _membership = {}\n",
    "    for key in d.keys():\n",
    "        value = d[key]\n",
    "        _membership[key] = [value]\n",
    "    return _membership"
   ]
  },
  {
   "cell_type": "code",
   "execution_count": 3,
   "metadata": {},
   "outputs": [],
   "source": [
    "def summary(graph, communities, clustering):\n",
    "    print(\"membership:\", membership(communities))\n",
    "    print(\"clustering: \", end=\"\")\n",
    "    print_clustering(clustering)"
   ]
  },
  {
   "cell_type": "code",
   "execution_count": 4,
   "metadata": {},
   "outputs": [],
   "source": [
    "colors = {\n",
    "    0: \"red\",\n",
    "    1: \"blue\",\n",
    "    2: \"purple\",\n",
    "    3: \"green\",\n",
    "    4: \"black\"\n",
    "}\n",
    "\n",
    "def coloring(membership):\n",
    "    _coloring = []\n",
    "    for m in membership:\n",
    "        _coloring.append(colors[membership[m]])\n",
    "    return _coloring"
   ]
  },
  {
   "cell_type": "code",
   "execution_count": 5,
   "metadata": {},
   "outputs": [],
   "source": [
    "def plot(graph, membership):\n",
    "    plt.tick_params(\n",
    "        axis='both',\n",
    "        which='both',\n",
    "        bottom=False,\n",
    "        top=False,\n",
    "        left=False,\n",
    "        right=False,\n",
    "        labelbottom=False,\n",
    "        labeltop=False,\n",
    "        labelleft=False,\n",
    "        labelright=False)\n",
    "    nx.draw_networkx(graph, \n",
    "                     pos=nx.spring_layout(graph), \n",
    "                     node_color=coloring(membership), \n",
    "                     font_color=\"white\")"
   ]
  },
  {
   "cell_type": "code",
   "execution_count": 6,
   "metadata": {},
   "outputs": [],
   "source": [
    "def delta(z1, z2):\n",
    "    s1 = set(z1.keys())\n",
    "    s2 = set(z2.keys())\n",
    "    added = list(s2 - s1)\n",
    "    removed = list(s1 - s2)\n",
    "    print(\"nodes\")\n",
    "    print(\"\\tadded:   \", added)\n",
    "    print(\"\\tremoved: \", removed)\n",
    "    print(\"links\")\n",
    "    s3 = s1.intersection(s2)\n",
    "    for n in s3:\n",
    "        l1 = set(z1[n])\n",
    "        l2 = set(z2[n])\n",
    "        print(\"\\tnode\",n, \"removed\", list(l1 - l2), \"added\", list(l2 - l1))\n",
    "    if len(added) > 0:\n",
    "        print(\"new nodes\")\n",
    "        for n in s2 - s1:\n",
    "            print(\"\\tnode\",n,\"connected to\", t4[n])"
   ]
  },
  {
   "cell_type": "markdown",
   "metadata": {},
   "source": [
    "## Time 1\n",
    "Initial network with 10 nodes. There are two distinctly identifiable groups connected through a single link."
   ]
  },
  {
   "cell_type": "code",
   "execution_count": 7,
   "metadata": {},
   "outputs": [],
   "source": [
    "t1 = {\n",
    "    0: [1,2,3,4],\n",
    "    1: [0,2,4],\n",
    "    2: [0,1],\n",
    "    3: [0,4],\n",
    "    4: [0,2,3,5],\n",
    "    5: [4,6,8],\n",
    "    6: [5,7,8,9],\n",
    "    7: [6,8],\n",
    "    8: [5,6,7],\n",
    "    9: [6]\n",
    "}"
   ]
  },
  {
   "cell_type": "code",
   "execution_count": 8,
   "metadata": {},
   "outputs": [
    {
     "name": "stdout",
     "output_type": "stream",
     "text": [
      "membership: {0: [0], 1: [0], 2: [0], 3: [0], 4: [0], 5: [1], 6: [1], 7: [1], 8: [1], 9: [1]}\n",
      "clustering: 01234|56789\n"
     ]
    },
    {
     "data": {
      "image/png": "[encoded data removed]",
      "text/plain": [
       "<Figure size 432x288 with 1 Axes>"
      ]
     },
     "metadata": {},
     "output_type": "display_data"
    }
   ],
   "source": [
    "Gt1 = nx.from_dict_of_lists(t1)\n",
    "Mt1 = louvain.best_partition(Gt1)\n",
    "Ct1 = Clustering(elm2clu_dict = membership(Mt1))\n",
    "summary(Gt1, Mt1, Ct1)\n",
    "plot(Gt1, Mt1)"
   ]
  },
  {
   "cell_type": "markdown",
   "metadata": {},
   "source": [
    "## Time 2\n",
    "A third group emerges as node `4` forms new connections to `6` and `9`, and drops all but one previous connection."
   ]
  },
  {
   "cell_type": "code",
   "execution_count": 9,
   "metadata": {},
   "outputs": [],
   "source": [
    "t2 = {\n",
    "    0: [1,2,3,4],\n",
    "    1: [0,2],\n",
    "    2: [0,1,3],\n",
    "    3: [0,2],\n",
    "    4: [0,6,9],\n",
    "    5: [6,8],\n",
    "    6: [4,5,7,8,9],\n",
    "    7: [6,8],\n",
    "    8: [5,6,7],\n",
    "    9: [4,6]\n",
    "}"
   ]
  },
  {
   "cell_type": "code",
   "execution_count": 10,
   "metadata": {},
   "outputs": [
    {
     "name": "stdout",
     "output_type": "stream",
     "text": [
      "nodes\n",
      "\tadded:    []\n",
      "\tremoved:  []\n",
      "links\n",
      "\tnode 0 removed [] added []\n",
      "\tnode 1 removed [4] added []\n",
      "\tnode 2 removed [] added [3]\n",
      "\tnode 3 removed [4] added [2]\n",
      "\tnode 4 removed [2, 3, 5] added [9, 6]\n",
      "\tnode 5 removed [4] added []\n",
      "\tnode 6 removed [] added [4]\n",
      "\tnode 7 removed [] added []\n",
      "\tnode 8 removed [] added []\n",
      "\tnode 9 removed [] added [4]\n"
     ]
    }
   ],
   "source": [
    "delta(t1, t2)"
   ]
  },
  {
   "cell_type": "code",
   "execution_count": 11,
   "metadata": {},
   "outputs": [
    {
     "name": "stdout",
     "output_type": "stream",
     "text": [
      "membership: {0: [0], 1: [0], 2: [0], 3: [0], 4: [1], 5: [2], 6: [2], 7: [2], 8: [2], 9: [1]}\n",
      "clustering: 0123|94|8567\n"
     ]
    },
    {
     "data": {
      "image/png": "[encoded data removed]",
      "text/plain": [
       "<Figure size 432x288 with 1 Axes>"
      ]
     },
     "metadata": {},
     "output_type": "display_data"
    }
   ],
   "source": [
    "Gt2 = nx.from_dict_of_lists(t2)\n",
    "Mt2 = louvain.best_partition(Gt2)\n",
    "Ct2 = Clustering(elm2clu_dict = membership(Mt2))\n",
    "summary(Gt2, Mt2, Ct2)\n",
    "plot(Gt2, Mt2)"
   ]
  },
  {
   "cell_type": "markdown",
   "metadata": {},
   "source": [
    "## Time 3\n",
    "The third groups begins to expand, with nodes `3` and `6` moving away from their previous groups and forming more links within their own group."
   ]
  },
  {
   "cell_type": "code",
   "execution_count": 12,
   "metadata": {},
   "outputs": [],
   "source": [
    "t3 = {\n",
    "    0: [1,2,4],\n",
    "    1: [0,2],\n",
    "    2: [0,1],\n",
    "    3: [4,6,9],\n",
    "    4: [0,3,6,9],\n",
    "    5: [6,7,8],\n",
    "    6: [3,4,5,9],\n",
    "    7: [5,8],\n",
    "    8: [5,7],\n",
    "    9: [3,4,6]\n",
    "}"
   ]
  },
  {
   "cell_type": "code",
   "execution_count": 13,
   "metadata": {},
   "outputs": [
    {
     "name": "stdout",
     "output_type": "stream",
     "text": [
      "nodes\n",
      "\tadded:    []\n",
      "\tremoved:  []\n",
      "links\n",
      "\tnode 0 removed [3] added []\n",
      "\tnode 1 removed [] added []\n",
      "\tnode 2 removed [3] added []\n",
      "\tnode 3 removed [0, 2] added [9, 4, 6]\n",
      "\tnode 4 removed [] added [3]\n",
      "\tnode 5 removed [] added [7]\n",
      "\tnode 6 removed [8, 7] added [3]\n",
      "\tnode 7 removed [6] added [5]\n",
      "\tnode 8 removed [6] added []\n",
      "\tnode 9 removed [] added [3]\n"
     ]
    }
   ],
   "source": [
    "delta(t2, t3)"
   ]
  },
  {
   "cell_type": "code",
   "execution_count": 14,
   "metadata": {},
   "outputs": [
    {
     "name": "stdout",
     "output_type": "stream",
     "text": [
      "membership: {0: [0], 1: [0], 2: [0], 3: [1], 4: [1], 5: [2], 6: [1], 7: [2], 8: [2], 9: [1]}\n",
      "clustering: 012|9346|857\n"
     ]
    },
    {
     "data": {
      "image/png": "[encoded data removed]",
      "text/plain": [
       "<Figure size 432x288 with 1 Axes>"
      ]
     },
     "metadata": {},
     "output_type": "display_data"
    }
   ],
   "source": [
    "Gt3 = nx.from_dict_of_lists(t3)\n",
    "Mt3 = louvain.best_partition(Gt3)\n",
    "Ct3 = Clustering(elm2clu_dict = membership(Mt3))\n",
    "summary(Gt3, Mt3, Ct3)\n",
    "plot(Gt3, Mt3)"
   ]
  },
  {
   "cell_type": "markdown",
   "metadata": {},
   "source": [
    "## Time 4\n",
    "Two new nodes arrive, `10` and `11`, initially connecting to node `1` and each other."
   ]
  },
  {
   "cell_type": "code",
   "execution_count": 15,
   "metadata": {},
   "outputs": [],
   "source": [
    "t4 = {\n",
    "    0: [1,2,4],\n",
    "    1: [0,2,10,11],\n",
    "    2: [0,1],\n",
    "    3: [4,6,9],\n",
    "    4: [0,3,6,9],\n",
    "    5: [6,7,8],\n",
    "    6: [3,4,5,9],\n",
    "    7: [5,8],\n",
    "    8: [5,7],\n",
    "    9: [3,4,6],\n",
    "    10: [1,11],\n",
    "    11: [1,10]\n",
    "}"
   ]
  },
  {
   "cell_type": "code",
   "execution_count": 16,
   "metadata": {},
   "outputs": [
    {
     "name": "stdout",
     "output_type": "stream",
     "text": [
      "nodes\n",
      "\tadded:    [10, 11]\n",
      "\tremoved:  []\n",
      "links\n",
      "\tnode 0 removed [] added []\n",
      "\tnode 1 removed [] added [10, 11]\n",
      "\tnode 2 removed [] added []\n",
      "\tnode 3 removed [] added []\n",
      "\tnode 4 removed [] added []\n",
      "\tnode 5 removed [] added []\n",
      "\tnode 6 removed [] added []\n",
      "\tnode 7 removed [] added []\n",
      "\tnode 8 removed [] added []\n",
      "\tnode 9 removed [] added []\n",
      "new nodes\n",
      "\tnode 10 connected to [1, 11]\n",
      "\tnode 11 connected to [1, 10]\n"
     ]
    }
   ],
   "source": [
    "delta(t3, t4)"
   ]
  },
  {
   "cell_type": "code",
   "execution_count": 17,
   "metadata": {},
   "outputs": [
    {
     "name": "stdout",
     "output_type": "stream",
     "text": [
      "membership: {0: [0], 1: [0], 2: [0], 3: [1], 4: [1], 5: [2], 6: [1], 7: [2], 8: [2], 9: [1], 10: [0], 11: [0]}\n",
      "clustering: 0121011|9346|857\n"
     ]
    }
   ],
   "source": [
    "Gt4 = nx.from_dict_of_lists(t4)\n",
    "Mt4 = louvain.best_partition(Gt4)\n",
    "Ct4 = Clustering(elm2clu_dict = membership(Mt4))\n",
    "summary(Gt4, Mt4, Ct4)"
   ]
  },
  {
   "cell_type": "code",
   "execution_count": 18,
   "metadata": {},
   "outputs": [
    {
     "data": {
      "image/png": "[encoded data removed]",
      "text/plain": [
       "<Figure size 432x288 with 1 Axes>"
      ]
     },
     "metadata": {},
     "output_type": "display_data"
    }
   ],
   "source": [
    "plot(Gt4, Mt4)"
   ]
  },
  {
   "cell_type": "markdown",
   "metadata": {},
   "source": [
    "## Time 5\n",
    "A fourth group emerges with three nodes: `8`, `10`, and `11`. Additionally, with a few more link additions and removals the other groups also balance out to three nodes. "
   ]
  },
  {
   "cell_type": "code",
   "execution_count": 19,
   "metadata": {},
   "outputs": [],
   "source": [
    "t5 = {\n",
    "    0: [1,2,4],\n",
    "    1: [0,2,10,11],\n",
    "    2: [0,1],\n",
    "    3: [4,9],\n",
    "    4: [0,3,6,9],\n",
    "    5: [6,7,8],\n",
    "    6: [4,5,7,9],\n",
    "    7: [5,6],\n",
    "    8: [5,10,11],\n",
    "    9: [3,4,6],\n",
    "    10: [1,8,11],\n",
    "    11: [1,8,10]\n",
    "}"
   ]
  },
  {
   "cell_type": "code",
   "execution_count": 20,
   "metadata": {},
   "outputs": [
    {
     "name": "stdout",
     "output_type": "stream",
     "text": [
      "nodes\n",
      "\tadded:    []\n",
      "\tremoved:  []\n",
      "links\n",
      "\tnode 0 removed [] added []\n",
      "\tnode 1 removed [] added []\n",
      "\tnode 2 removed [] added []\n",
      "\tnode 3 removed [6] added []\n",
      "\tnode 4 removed [] added []\n",
      "\tnode 5 removed [] added []\n",
      "\tnode 6 removed [3] added [7]\n",
      "\tnode 7 removed [8] added [6]\n",
      "\tnode 8 removed [7] added [10, 11]\n",
      "\tnode 9 removed [] added []\n",
      "\tnode 10 removed [] added [8]\n",
      "\tnode 11 removed [] added [8]\n"
     ]
    }
   ],
   "source": [
    "delta(t4, t5)"
   ]
  },
  {
   "cell_type": "code",
   "execution_count": 21,
   "metadata": {},
   "outputs": [
    {
     "name": "stdout",
     "output_type": "stream",
     "text": [
      "membership: {0: [0], 1: [0], 2: [0], 3: [1], 4: [1], 5: [2], 6: [2], 7: [2], 8: [3], 9: [1], 10: [3], 11: [3]}\n",
      "clustering: 012|934|567|81011\n"
     ]
    },
    {
     "data": {
      "image/png": "[encoded data removed]",
      "text/plain": [
       "<Figure size 432x288 with 1 Axes>"
      ]
     },
     "metadata": {},
     "output_type": "display_data"
    }
   ],
   "source": [
    "Gt5 = nx.from_dict_of_lists(t5)\n",
    "Mt5 = louvain.best_partition(Gt5)\n",
    "Ct5 = Clustering(elm2clu_dict = membership(Mt5))\n",
    "summary(Gt5, Mt5, Ct5)\n",
    "plot(Gt5, Mt5)"
   ]
  },
  {
   "cell_type": "markdown",
   "metadata": {},
   "source": [
    "## Comparing Time 1 and Time 2"
   ]
  },
  {
   "cell_type": "code",
   "execution_count": 22,
   "metadata": {},
   "outputs": [],
   "source": [
    "elementScores, relabeled_elements = sim.element_sim_elscore(Ct1, Ct2, alpha = 0.9)"
   ]
  },
  {
   "cell_type": "code",
   "execution_count": 23,
   "metadata": {},
   "outputs": [
    {
     "name": "stdout",
     "output_type": "stream",
     "text": [
      "{0: 0, 1: 1, 2: 2, 3: 3, 4: 4, 5: 5, 6: 6, 7: 7, 8: 8, 9: 9}\n"
     ]
    }
   ],
   "source": [
    "print(relabeled_elements)"
   ]
  },
  {
   "cell_type": "code",
   "execution_count": 24,
   "metadata": {},
   "outputs": [
    {
     "name": "stdout",
     "output_type": "stream",
     "text": [
      "Node    Score \n",
      "------  ------\n",
      "     0  0.800\n",
      "     1  0.800\n",
      "     2  0.800\n",
      "     3  0.800\n",
      "     4  0.200\n",
      "     5  0.800\n",
      "     6  0.800\n",
      "     7  0.800\n",
      "     8  0.800\n",
      "     9  0.200\n"
     ]
    }
   ],
   "source": [
    "print(\"{0:6s}  {1:6s}\".format(\"Node\", \"Score\"))\n",
    "print(\"------  ------\")\n",
    "for e in relabeled_elements:\n",
    "    loc = relabeled_elements[e]\n",
    "    print(\"{0:6d}  {1:2.3f}\".format(e,elementScores[loc]))"
   ]
  },
  {
   "cell_type": "code",
   "execution_count": 25,
   "metadata": {},
   "outputs": [],
   "source": [
    "cont_table = sim.contingency_table(Ct1, Ct2)"
   ]
  },
  {
   "cell_type": "code",
   "execution_count": 26,
   "metadata": {},
   "outputs": [
    {
     "name": "stdout",
     "output_type": "stream",
     "text": [
      "[[4, 1, 0], [0, 1, 4]]\n"
     ]
    }
   ],
   "source": [
    "print(cont_table)"
   ]
  },
  {
   "cell_type": "code",
   "execution_count": 27,
   "metadata": {},
   "outputs": [
    {
     "name": "stdout",
     "output_type": "stream",
     "text": [
      "12.0 element pairs assigned to the same clusters in both clusterings\n",
      "8.0 element pairs assigned to the same clusters in clustering1, but different clusters in clustering2\n",
      "1.0 element pairs assigned to different clusters in clustering1, but the same clusters in clustering2\n",
      "24.0 element pairs assigned to different clusters in both clusterings\n"
     ]
    }
   ],
   "source": [
    "N11, N10, N01, N00 = sim.count_pairwise_cooccurence(Ct1, Ct2)\n",
    "print(N11,\n",
    "        \"element pairs assigned to the same clusters in both clusterings\")\n",
    "print(N10,\n",
    "        \"element pairs assigned to the same clusters in clustering1, but \"\n",
    "        \"different clusters in clustering2\")\n",
    "print(N01, \"element pairs assigned to different clusters in \"\n",
    "               \"clustering1, but the same clusters in clustering2\")\n",
    "print(N00, \"element pairs assigned to different clusters in both \"\n",
    "               \"clusterings\")"
   ]
  },
  {
   "cell_type": "code",
   "execution_count": null,
   "metadata": {},
   "outputs": [],
   "source": []
  }
 ],
 "metadata": {
  "kernelspec": {
   "display_name": "Python 3",
   "language": "python",
   "name": "python3"
  },
  "language_info": {
   "codemirror_mode": {
    "name": "ipython",
    "version": 3
   },
   "file_extension": ".py",
   "mimetype": "text/x-python",
   "name": "python",
   "nbconvert_exporter": "python",
   "pygments_lexer": "ipython3",
   "version": "3.6.5"
  },
  "toc": {
   "base_numbering": 1,
   "nav_menu": {},
   "number_sections": false,
   "sideBar": false,
   "skip_h1_title": false,
   "title_cell": "Table of Contents",
   "title_sidebar": "Contents",
   "toc_cell": false,
   "toc_position": {},
   "toc_section_display": false,
   "toc_window_display": false
  }
 },
 "nbformat": 4,
 "nbformat_minor": 2
}
