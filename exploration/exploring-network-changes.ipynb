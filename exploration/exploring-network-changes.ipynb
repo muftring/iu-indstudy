{
 "cells": [
  {
   "cell_type": "markdown",
   "metadata": {},
   "source": [
    "# Exploring Network Changes"
   ]
  },
  {
   "cell_type": "markdown",
   "metadata": {},
   "source": [
    "## Overview"
   ]
  },
  {
   "cell_type": "markdown",
   "metadata": {},
   "source": [
    "## Packages used\n",
    "- [NetworkX](https://networkx.github.io)\n",
    "- [Matplotlib](https://matplotlib.org)\n",
    "- [Louvain Community Detection (python-louvain)](https://github.com/taynaud/python-louvain)\n",
    "- [CluSim: a package for calculating clustering similarity](https://github.com/Hoosier-Clusters/clusim)\n",
    "- [qgrid](https://github.com/quantopian/qgrid) to view and edit DataFrame\n",
    "- pandas\n",
    "- numpy\n",
    "- [plotly](https://plot.ly/python/)"
   ]
  },
  {
   "cell_type": "markdown",
   "metadata": {},
   "source": [
    "## ToDo List\n",
    "\n",
    "- replace plotly with ... ???\n",
    "- utilize Alex's Python wrapper around Louvain\n",
    "- collapse time sequence into a series of function calls\n",
    "  - how to represent temporal slices efficiently\n",
    "  - how to edit/change temporal slices easily\n",
    "- plot temporal sequence of network as small multiples (or tiled plots in Matplotlib)\n",
    "- load network data from external source (CSV file)"
   ]
  },
  {
   "cell_type": "markdown",
   "metadata": {},
   "source": [
    "# The progression of time..."
   ]
  },
  {
   "cell_type": "code",
   "execution_count": 1,
   "metadata": {},
   "outputs": [
    {
     "name": "stdout",
     "output_type": "stream",
     "text": [
      "DendroPY not supported.\n"
     ]
    }
   ],
   "source": [
    "import networkx as nx\n",
    "import community as louvain\n",
    "from clusim.clustering import Clustering, print_clustering\n",
    "import clusim.sim as sim\n",
    "from matplotlib import pyplot as plt\n",
    "\n",
    "%matplotlib inline"
   ]
  },
  {
   "cell_type": "code",
   "execution_count": 2,
   "metadata": {},
   "outputs": [],
   "source": [
    "def membership(d):\n",
    "    _membership = {}\n",
    "    for key in d.keys():\n",
    "        value = d[key]\n",
    "        _membership[key] = [value]\n",
    "    return _membership"
   ]
  },
  {
   "cell_type": "code",
   "execution_count": 3,
   "metadata": {},
   "outputs": [],
   "source": [
    "def summary(graph, communities, clustering):\n",
    "    print(\"membership:\", membership(communities))\n",
    "    print(\"clustering: \", end=\"\")\n",
    "    print_clustering(clustering)"
   ]
  },
  {
   "cell_type": "code",
   "execution_count": 4,
   "metadata": {},
   "outputs": [],
   "source": [
    "colors = {\n",
    "    0: \"red\",\n",
    "    1: \"blue\",\n",
    "    2: \"purple\",\n",
    "    3: \"green\",\n",
    "    4: \"black\"\n",
    "}\n",
    "\n",
    "def coloring(membership):\n",
    "    _coloring = []\n",
    "    for m in membership:\n",
    "        _coloring.append(colors[membership[m]])\n",
    "    return _coloring"
   ]
  },
  {
   "cell_type": "code",
   "execution_count": 5,
   "metadata": {},
   "outputs": [],
   "source": [
    "def plot(graph, membership):\n",
    "    plt.tick_params(\n",
    "        axis='both',\n",
    "        which='both',\n",
    "        bottom=False,\n",
    "        top=False,\n",
    "        left=False,\n",
    "        right=False,\n",
    "        labelbottom=False,\n",
    "        labeltop=False,\n",
    "        labelleft=False,\n",
    "        labelright=False)\n",
    "    nx.draw_networkx(graph, \n",
    "                     pos=nx.spring_layout(graph), \n",
    "                     node_color=coloring(membership), \n",
    "                     font_color=\"white\")"
   ]
  },
  {
   "cell_type": "code",
   "execution_count": 6,
   "metadata": {},
   "outputs": [],
   "source": [
    "def delta(z1, z2):\n",
    "    s1 = set(z1.keys())\n",
    "    s2 = set(z2.keys())\n",
    "    added = list(s2 - s1)\n",
    "    removed = list(s1 - s2)\n",
    "    print(\"nodes\")\n",
    "    print(\"\\tadded:   \", added)\n",
    "    print(\"\\tremoved: \", removed)\n",
    "    print(\"links\")\n",
    "    s3 = s1.intersection(s2)\n",
    "    for n in s3:\n",
    "        l1 = set(z1[n])\n",
    "        l2 = set(z2[n])\n",
    "        print(\"\\tnode\",n, \"removed\", list(l1 - l2), \"added\", list(l2 - l1))\n",
    "    if len(added) > 0:\n",
    "        print(\"new nodes\")\n",
    "        for n in s2 - s1:\n",
    "            print(\"\\tnode\",n,\"connected to\", t4[n])"
   ]
  },
  {
   "cell_type": "code",
   "execution_count": 7,
   "metadata": {},
   "outputs": [],
   "source": [
    "class Counter():\n",
    "    count = 0\n",
    "    \n",
    "    def __init__(self, init=1):\n",
    "        self.count = init-1\n",
    "    \n",
    "    def __call__(self):\n",
    "        self.count += 1\n",
    "        return self.count"
   ]
  },
  {
   "cell_type": "markdown",
   "metadata": {},
   "source": [
    "## Time 1\n",
    "Initial network with 10 nodes. There are two distinctly identifiable groups connected through a single link."
   ]
  },
  {
   "cell_type": "code",
   "execution_count": 8,
   "metadata": {},
   "outputs": [],
   "source": [
    "t1 = {\n",
    "    0: [1,2,3,4],\n",
    "    1: [0,2,4],\n",
    "    2: [0,1],\n",
    "    3: [0,4],\n",
    "    4: [0,2,3,5],\n",
    "    5: [4,6,8],\n",
    "    6: [5,7,8,9],\n",
    "    7: [6,8],\n",
    "    8: [5,6,7],\n",
    "    9: [6]\n",
    "}"
   ]
  },
  {
   "cell_type": "code",
   "execution_count": 9,
   "metadata": {},
   "outputs": [
    {
     "name": "stdout",
     "output_type": "stream",
     "text": [
      "membership: {0: [0], 1: [0], 2: [0], 3: [0], 4: [0], 5: [1], 6: [1], 7: [1], 8: [1], 9: [1]}\n",
      "clustering: 01234|56789\n"
     ]
    },
    {
     "data": {
      "image/png": "[encoded data removed]",
      "text/plain": [
       "<Figure size 432x288 with 1 Axes>"
      ]
     },
     "metadata": {},
     "output_type": "display_data"
    }
   ],
   "source": [
    "Gt1 = nx.from_dict_of_lists(t1)\n",
    "Mt1 = louvain.best_partition(Gt1)\n",
    "Ct1 = Clustering(elm2clu_dict = membership(Mt1))\n",
    "summary(Gt1, Mt1, Ct1)\n",
    "plot(Gt1, Mt1)"
   ]
  },
  {
   "cell_type": "markdown",
   "metadata": {},
   "source": [
    "## Time 2\n",
    "A third group emerges as node `4` forms new connections to `6` and `9`, and drops all but one previous connection."
   ]
  },
  {
   "cell_type": "code",
   "execution_count": 10,
   "metadata": {},
   "outputs": [],
   "source": [
    "t2 = {\n",
    "    0: [1,2,3,4],\n",
    "    1: [0,2],\n",
    "    2: [0,1,3],\n",
    "    3: [0,2],\n",
    "    4: [0,6,9],\n",
    "    5: [6,8],\n",
    "    6: [4,5,7,8,9],\n",
    "    7: [6,8],\n",
    "    8: [5,6,7],\n",
    "    9: [4,6]\n",
    "}"
   ]
  },
  {
   "cell_type": "code",
   "execution_count": 11,
   "metadata": {},
   "outputs": [
    {
     "name": "stdout",
     "output_type": "stream",
     "text": [
      "nodes\n",
      "\tadded:    []\n",
      "\tremoved:  []\n",
      "links\n",
      "\tnode 0 removed [] added []\n",
      "\tnode 1 removed [4] added []\n",
      "\tnode 2 removed [] added [3]\n",
      "\tnode 3 removed [4] added [2]\n",
      "\tnode 4 removed [2, 3, 5] added [9, 6]\n",
      "\tnode 5 removed [4] added []\n",
      "\tnode 6 removed [] added [4]\n",
      "\tnode 7 removed [] added []\n",
      "\tnode 8 removed [] added []\n",
      "\tnode 9 removed [] added [4]\n"
     ]
    }
   ],
   "source": [
    "delta(t1, t2)"
   ]
  },
  {
   "cell_type": "code",
   "execution_count": 12,
   "metadata": {},
   "outputs": [
    {
     "name": "stdout",
     "output_type": "stream",
     "text": [
      "membership: {0: [0], 1: [0], 2: [0], 3: [0], 4: [1], 5: [2], 6: [2], 7: [2], 8: [2], 9: [1]}\n",
      "clustering: 0123|94|8567\n"
     ]
    },
    {
     "data": {
      "image/png": "[encoded data removed]",
      "text/plain": [
       "<Figure size 432x288 with 1 Axes>"
      ]
     },
     "metadata": {},
     "output_type": "display_data"
    }
   ],
   "source": [
    "Gt2 = nx.from_dict_of_lists(t2)\n",
    "Mt2 = louvain.best_partition(Gt2)\n",
    "Ct2 = Clustering(elm2clu_dict = membership(Mt2))\n",
    "summary(Gt2, Mt2, Ct2)\n",
    "plot(Gt2, Mt2)"
   ]
  },
  {
   "cell_type": "markdown",
   "metadata": {},
   "source": [
    "## Time 3\n",
    "The third groups begins to expand, with nodes `3` and `6` moving away from their previous groups and forming more links within their own group."
   ]
  },
  {
   "cell_type": "code",
   "execution_count": 13,
   "metadata": {},
   "outputs": [],
   "source": [
    "t3 = {\n",
    "    0: [1,2,4],\n",
    "    1: [0,2],\n",
    "    2: [0,1],\n",
    "    3: [4,6,9],\n",
    "    4: [0,3,6,9],\n",
    "    5: [6,7,8],\n",
    "    6: [3,4,5,9],\n",
    "    7: [5,8],\n",
    "    8: [5,7],\n",
    "    9: [3,4,6]\n",
    "}"
   ]
  },
  {
   "cell_type": "code",
   "execution_count": 14,
   "metadata": {},
   "outputs": [
    {
     "name": "stdout",
     "output_type": "stream",
     "text": [
      "nodes\n",
      "\tadded:    []\n",
      "\tremoved:  []\n",
      "links\n",
      "\tnode 0 removed [3] added []\n",
      "\tnode 1 removed [] added []\n",
      "\tnode 2 removed [3] added []\n",
      "\tnode 3 removed [0, 2] added [9, 4, 6]\n",
      "\tnode 4 removed [] added [3]\n",
      "\tnode 5 removed [] added [7]\n",
      "\tnode 6 removed [8, 7] added [3]\n",
      "\tnode 7 removed [6] added [5]\n",
      "\tnode 8 removed [6] added []\n",
      "\tnode 9 removed [] added [3]\n"
     ]
    }
   ],
   "source": [
    "delta(t2, t3)"
   ]
  },
  {
   "cell_type": "code",
   "execution_count": 15,
   "metadata": {},
   "outputs": [
    {
     "name": "stdout",
     "output_type": "stream",
     "text": [
      "membership: {0: [0], 1: [0], 2: [0], 3: [1], 4: [1], 5: [2], 6: [1], 7: [2], 8: [2], 9: [1]}\n",
      "clustering: 012|9346|857\n"
     ]
    },
    {
     "data": {
      "image/png": "[encoded data removed]",
      "text/plain": [
       "<Figure size 432x288 with 1 Axes>"
      ]
     },
     "metadata": {},
     "output_type": "display_data"
    }
   ],
   "source": [
    "Gt3 = nx.from_dict_of_lists(t3)\n",
    "Mt3 = louvain.best_partition(Gt3)\n",
    "Ct3 = Clustering(elm2clu_dict = membership(Mt3))\n",
    "summary(Gt3, Mt3, Ct3)\n",
    "plot(Gt3, Mt3)"
   ]
  },
  {
   "cell_type": "markdown",
   "metadata": {},
   "source": [
    "## Time 4\n",
    "Two new nodes arrive, `10` and `11`, initially connecting to node `1` and each other."
   ]
  },
  {
   "cell_type": "code",
   "execution_count": 16,
   "metadata": {},
   "outputs": [],
   "source": [
    "t4 = {\n",
    "    0: [1,2,4],\n",
    "    1: [0,2,10,11],\n",
    "    2: [0,1],\n",
    "    3: [4,6,9],\n",
    "    4: [0,3,6,9],\n",
    "    5: [6,7,8],\n",
    "    6: [3,4,5,9],\n",
    "    7: [5,8],\n",
    "    8: [5,7],\n",
    "    9: [3,4,6],\n",
    "    10: [1,11],\n",
    "    11: [1,10]\n",
    "}"
   ]
  },
  {
   "cell_type": "code",
   "execution_count": 17,
   "metadata": {},
   "outputs": [
    {
     "name": "stdout",
     "output_type": "stream",
     "text": [
      "nodes\n",
      "\tadded:    [10, 11]\n",
      "\tremoved:  []\n",
      "links\n",
      "\tnode 0 removed [] added []\n",
      "\tnode 1 removed [] added [10, 11]\n",
      "\tnode 2 removed [] added []\n",
      "\tnode 3 removed [] added []\n",
      "\tnode 4 removed [] added []\n",
      "\tnode 5 removed [] added []\n",
      "\tnode 6 removed [] added []\n",
      "\tnode 7 removed [] added []\n",
      "\tnode 8 removed [] added []\n",
      "\tnode 9 removed [] added []\n",
      "new nodes\n",
      "\tnode 10 connected to [1, 11]\n",
      "\tnode 11 connected to [1, 10]\n"
     ]
    }
   ],
   "source": [
    "delta(t3, t4)"
   ]
  },
  {
   "cell_type": "code",
   "execution_count": 18,
   "metadata": {},
   "outputs": [
    {
     "name": "stdout",
     "output_type": "stream",
     "text": [
      "membership: {0: [0], 1: [0], 2: [0], 3: [1], 4: [1], 5: [2], 6: [1], 7: [2], 8: [2], 9: [1], 10: [0], 11: [0]}\n",
      "clustering: 0121011|9346|857\n"
     ]
    },
    {
     "data": {
      "image/png": "[encoded data removed]",
      "text/plain": [
       "<Figure size 432x288 with 1 Axes>"
      ]
     },
     "metadata": {},
     "output_type": "display_data"
    }
   ],
   "source": [
    "Gt4 = nx.from_dict_of_lists(t4)\n",
    "Mt4 = louvain.best_partition(Gt4)\n",
    "Ct4 = Clustering(elm2clu_dict = membership(Mt4))\n",
    "summary(Gt4, Mt4, Ct4)\n",
    "plot(Gt4, Mt4)"
   ]
  },
  {
   "cell_type": "markdown",
   "metadata": {},
   "source": [
    "## Time 5\n",
    "A fourth group emerges with three nodes: `8`, `10`, and `11`. Additionally, with a few more link additions and removals the other groups also balance out to three nodes. "
   ]
  },
  {
   "cell_type": "code",
   "execution_count": 19,
   "metadata": {},
   "outputs": [],
   "source": [
    "t5 = {\n",
    "    0: [1,2,4],\n",
    "    1: [0,2,10,11],\n",
    "    2: [0,1],\n",
    "    3: [4,9],\n",
    "    4: [0,3,6,9],\n",
    "    5: [6,7,8],\n",
    "    6: [4,5,7,9],\n",
    "    7: [5,6],\n",
    "    8: [5,10,11],\n",
    "    9: [3,4,6],\n",
    "    10: [1,8,11],\n",
    "    11: [1,8,10]\n",
    "}"
   ]
  },
  {
   "cell_type": "code",
   "execution_count": 20,
   "metadata": {},
   "outputs": [
    {
     "name": "stdout",
     "output_type": "stream",
     "text": [
      "nodes\n",
      "\tadded:    []\n",
      "\tremoved:  []\n",
      "links\n",
      "\tnode 0 removed [] added []\n",
      "\tnode 1 removed [] added []\n",
      "\tnode 2 removed [] added []\n",
      "\tnode 3 removed [6] added []\n",
      "\tnode 4 removed [] added []\n",
      "\tnode 5 removed [] added []\n",
      "\tnode 6 removed [3] added [7]\n",
      "\tnode 7 removed [8] added [6]\n",
      "\tnode 8 removed [7] added [10, 11]\n",
      "\tnode 9 removed [] added []\n",
      "\tnode 10 removed [] added [8]\n",
      "\tnode 11 removed [] added [8]\n"
     ]
    }
   ],
   "source": [
    "delta(t4, t5)"
   ]
  },
  {
   "cell_type": "code",
   "execution_count": 21,
   "metadata": {},
   "outputs": [
    {
     "name": "stdout",
     "output_type": "stream",
     "text": [
      "membership: {0: [0], 1: [0], 2: [0], 3: [1], 4: [1], 5: [2], 6: [2], 7: [2], 8: [3], 9: [1], 10: [3], 11: [3]}\n",
      "clustering: 012|934|567|81011\n"
     ]
    },
    {
     "data": {
      "image/png": "[encoded data removed]",
      "text/plain": [
       "<Figure size 432x288 with 1 Axes>"
      ]
     },
     "metadata": {},
     "output_type": "display_data"
    }
   ],
   "source": [
    "Gt5 = nx.from_dict_of_lists(t5)\n",
    "Mt5 = louvain.best_partition(Gt5)\n",
    "Ct5 = Clustering(elm2clu_dict = membership(Mt5))\n",
    "summary(Gt5, Mt5, Ct5)\n",
    "plot(Gt5, Mt5)"
   ]
  },
  {
   "cell_type": "markdown",
   "metadata": {},
   "source": [
    "## Time 6\n",
    "a subtraction (remove a node)"
   ]
  },
  {
   "cell_type": "code",
   "execution_count": null,
   "metadata": {},
   "outputs": [],
   "source": []
  },
  {
   "cell_type": "markdown",
   "metadata": {},
   "source": [
    "# Comparing Clustering"
   ]
  },
  {
   "cell_type": "code",
   "execution_count": 22,
   "metadata": {},
   "outputs": [],
   "source": [
    "elementScores, relabeled_elements = sim.element_sim_elscore(Ct1, Ct2, alpha = 0.9)"
   ]
  },
  {
   "cell_type": "code",
   "execution_count": 23,
   "metadata": {},
   "outputs": [
    {
     "name": "stdout",
     "output_type": "stream",
     "text": [
      "{0: 0, 1: 1, 2: 2, 3: 3, 4: 4, 5: 5, 6: 6, 7: 7, 8: 8, 9: 9}\n"
     ]
    }
   ],
   "source": [
    "print(relabeled_elements)"
   ]
  },
  {
   "cell_type": "code",
   "execution_count": 24,
   "metadata": {},
   "outputs": [
    {
     "name": "stdout",
     "output_type": "stream",
     "text": [
      "Node    Score \n",
      "------  ------\n",
      "     0  0.800\n",
      "     1  0.800\n",
      "     2  0.800\n",
      "     3  0.800\n",
      "     4  0.200\n",
      "     5  0.800\n",
      "     6  0.800\n",
      "     7  0.800\n",
      "     8  0.800\n",
      "     9  0.200\n"
     ]
    }
   ],
   "source": [
    "print(\"{0:6s}  {1:6s}\".format(\"Node\", \"Score\"))\n",
    "print(\"------  ------\")\n",
    "for e in relabeled_elements:\n",
    "    loc = relabeled_elements[e]\n",
    "    print(\"{0:6d}  {1:2.3f}\".format(e,elementScores[loc]))"
   ]
  },
  {
   "cell_type": "code",
   "execution_count": 25,
   "metadata": {},
   "outputs": [],
   "source": [
    "cont_table = sim.contingency_table(Ct1, Ct2)"
   ]
  },
  {
   "cell_type": "code",
   "execution_count": 26,
   "metadata": {},
   "outputs": [
    {
     "name": "stdout",
     "output_type": "stream",
     "text": [
      "[[4, 1, 0], [0, 1, 4]]\n"
     ]
    }
   ],
   "source": [
    "print(cont_table)"
   ]
  },
  {
   "cell_type": "code",
   "execution_count": 27,
   "metadata": {},
   "outputs": [
    {
     "name": "stdout",
     "output_type": "stream",
     "text": [
      "12.0 element pairs assigned to the same clusters in both clusterings\n",
      "8.0 element pairs assigned to the same clusters in clustering1, but different clusters in clustering2\n",
      "1.0 element pairs assigned to different clusters in clustering1, but the same clusters in clustering2\n",
      "24.0 element pairs assigned to different clusters in both clusterings\n"
     ]
    }
   ],
   "source": [
    "N11, N10, N01, N00 = sim.count_pairwise_cooccurence(Ct1, Ct2)\n",
    "print(N11,\n",
    "        \"element pairs assigned to the same clusters in both clusterings\")\n",
    "print(N10,\n",
    "        \"element pairs assigned to the same clusters in clustering1, but \"\n",
    "        \"different clusters in clustering2\")\n",
    "print(N01, \"element pairs assigned to different clusters in \"\n",
    "               \"clustering1, but the same clusters in clustering2\")\n",
    "print(N00, \"element pairs assigned to different clusters in both \"\n",
    "               \"clusterings\")"
   ]
  },
  {
   "cell_type": "code",
   "execution_count": null,
   "metadata": {},
   "outputs": [],
   "source": []
  },
  {
   "cell_type": "markdown",
   "metadata": {},
   "source": [
    "# Viewing Change in Clustering"
   ]
  },
  {
   "cell_type": "markdown",
   "metadata": {},
   "source": [
    "## prepare the data"
   ]
  },
  {
   "cell_type": "code",
   "execution_count": 28,
   "metadata": {},
   "outputs": [],
   "source": [
    "import pandas as pd\n",
    "import numpy as np\n",
    "import qgrid"
   ]
  },
  {
   "cell_type": "markdown",
   "metadata": {},
   "source": [
    "### Build a DataFrame with cluster assignments"
   ]
  },
  {
   "cell_type": "code",
   "execution_count": 29,
   "metadata": {},
   "outputs": [],
   "source": [
    "# ToDo: smarter method for determining node list\n",
    "#  - need to be aware of adds and removes\n",
    "\n",
    "colNames = [\"Node\"]\n",
    "nodes = [0, 1, 2, 3, 4, 5, 6, 7, 8, 9, 10, 11]"
   ]
  },
  {
   "cell_type": "code",
   "execution_count": 30,
   "metadata": {},
   "outputs": [],
   "source": [
    "df = pd.DataFrame(columns=colNames)"
   ]
  },
  {
   "cell_type": "code",
   "execution_count": 31,
   "metadata": {},
   "outputs": [],
   "source": [
    "df.Node = nodes"
   ]
  },
  {
   "cell_type": "code",
   "execution_count": 32,
   "metadata": {},
   "outputs": [],
   "source": [
    "timex = Counter(1)\n",
    "missing = -1\n",
    "\n",
    "# ToDo: this needs to handle missing in terms of:\n",
    "#  - nodes missing because they were not present in the time slice\n",
    "#  - nodes that were presend, but are now deleted\n",
    "\n",
    "def addTimeSlice(ts, df):\n",
    "    time = \"T{}\".format(timex())\n",
    "    v = list(ts.values())\n",
    "    for i in range(len(df.Node) - len(v)):\n",
    "        v.append(missing)\n",
    "    print(time, v)\n",
    "    df[time] = v"
   ]
  },
  {
   "cell_type": "code",
   "execution_count": 33,
   "metadata": {},
   "outputs": [
    {
     "name": "stdout",
     "output_type": "stream",
     "text": [
      "T1 [0, 0, 0, 0, 0, 1, 1, 1, 1, 1, -1, -1]\n",
      "T2 [0, 0, 0, 0, 1, 2, 2, 2, 2, 1, -1, -1]\n",
      "T3 [0, 0, 0, 1, 1, 2, 1, 2, 2, 1, -1, -1]\n",
      "T4 [0, 0, 0, 1, 1, 2, 1, 2, 2, 1, 0, 0]\n",
      "T5 [0, 0, 0, 1, 1, 2, 2, 2, 3, 1, 3, 3]\n"
     ]
    }
   ],
   "source": [
    "for ts in [Mt1, Mt2, Mt3, Mt4, Mt5]:\n",
    "    addTimeSlice(ts, df)"
   ]
  },
  {
   "cell_type": "code",
   "execution_count": 34,
   "metadata": {},
   "outputs": [
    {
     "data": {
      "application/vnd.jupyter.widget-view+json": {
       "model_id": "44066acbc5864d2585a8d3022a42155d",
       "version_major": 2,
       "version_minor": 0
      },
      "text/plain": [
       "QgridWidget(grid_options={'fullWidthRows': True, 'syncColumnCellResize': True, 'forceFitColumns': True, 'defau…"
      ]
     },
     "metadata": {},
     "output_type": "display_data"
    }
   ],
   "source": [
    "w = qgrid.show_grid(df, show_toolbar=True)\n",
    "w"
   ]
  },
  {
   "cell_type": "code",
   "execution_count": 35,
   "metadata": {},
   "outputs": [
    {
     "data": {
      "application/vnd.jupyter.widget-view+json": {
       "model_id": "3dbe3339c10f498bbffac33d9a8b9a50",
       "version_major": 2,
       "version_minor": 0
      }
     },
     "metadata": {},
     "output_type": "display_data"
    }
   ],
   "source": [
    "df"
   ]
  },
  {
   "cell_type": "markdown",
   "metadata": {},
   "source": [
    "`computeFlows`\n",
    "\n",
    "- returns a `dict` that contains flow information between two time slices\n",
    "  - sources\n",
    "  - targets\n",
    "  - labels\n",
    "  - flows"
   ]
  },
  {
   "cell_type": "code",
   "execution_count": 145,
   "metadata": {},
   "outputs": [],
   "source": [
    "def computeFlows(d1, d2, data, index):\n",
    "    if len(data['targets']) > 0:\n",
    "        data['sources'] = data['targets']\n",
    "        data['targets'] = {}\n",
    "        data['labels'] = []\n",
    "        data['flows'] = {}\n",
    "    \n",
    "    for i in range(len(d1)):\n",
    "        source = d1[i]\n",
    "        target = d2[i]\n",
    "\n",
    "        if source < 0 or target < 0:\n",
    "            continue\n",
    "\n",
    "        if source in data['sources']:\n",
    "            source_index = data['sources'][source]['index']\n",
    "        else:\n",
    "            source_index = index()\n",
    "            data['sources'][source] = {'index': source_index, 'label': source}\n",
    "            data['labels'].append(source)\n",
    "\n",
    "        if target in data['targets']:\n",
    "            target_index = data['targets'][target]['index']\n",
    "        else:\n",
    "            target_index = index()\n",
    "            data['targets'][target] = {'index': target_index, 'label': target}\n",
    "            data['labels'].append(target)\n",
    "\n",
    "        flow = \"{} -> {}\".format(source_index, target_index)\n",
    "\n",
    "        print(\"source: {} target: {} flow: {}\".format(source, target, flow))\n",
    "\n",
    "        if flow in data['flows']:\n",
    "            data['flows'][flow] += 1\n",
    "        else:\n",
    "            data['flows'][flow] = 1"
   ]
  },
  {
   "cell_type": "markdown",
   "metadata": {},
   "source": [
    "`analyzeFlows`\n",
    "\n",
    "given **flow** information, produces separate arrays for labels, colors, sources, targets, values"
   ]
  },
  {
   "cell_type": "code",
   "execution_count": 37,
   "metadata": {},
   "outputs": [],
   "source": [
    "colorMap = {\n",
    "    0: \"red\",\n",
    "    1: \"yellow\",\n",
    "    2: \"blue\",\n",
    "    3: \"orange\",\n",
    "    4: \"green\",\n",
    "    5: \"purple\"\n",
    "}"
   ]
  },
  {
   "cell_type": "code",
   "execution_count": 119,
   "metadata": {},
   "outputs": [],
   "source": [
    "def analyzeFlows(data):\n",
    "    labels = data['labels']\n",
    "    colors = [colorMap[x] for x in data['labels']]\n",
    "    sources = []\n",
    "    targets = []\n",
    "    values = []\n",
    "    for flow in data['flows']:\n",
    "        src = flow.split()[0]\n",
    "        dst = flow.split()[2]\n",
    "        sources.append(src)\n",
    "        targets.append(dst)\n",
    "        values.append(data['flows'][flow])\n",
    "    return labels, colors, sources, targets, values"
   ]
  },
  {
   "cell_type": "markdown",
   "metadata": {},
   "source": [
    "process the temporal network data: compute and extract flow information"
   ]
  },
  {
   "cell_type": "code",
   "execution_count": 151,
   "metadata": {},
   "outputs": [],
   "source": [
    "data = {\n",
    "    'sources': {},\n",
    "    'targets': {},\n",
    "    'labels': [],\n",
    "    'flows': {}\n",
    "}"
   ]
  },
  {
   "cell_type": "code",
   "execution_count": 152,
   "metadata": {},
   "outputs": [],
   "source": [
    "index = Counter(0)"
   ]
  },
  {
   "cell_type": "code",
   "execution_count": 153,
   "metadata": {},
   "outputs": [],
   "source": [
    "labels = []\n",
    "colors = []\n",
    "sources = []\n",
    "targets = []\n",
    "values = []"
   ]
  },
  {
   "cell_type": "code",
   "execution_count": 154,
   "metadata": {},
   "outputs": [],
   "source": [
    "timeColumns = [\"T1\", \"T2\", \"T3\", \"T4\", \"T5\"]"
   ]
  },
  {
   "cell_type": "code",
   "execution_count": 155,
   "metadata": {},
   "outputs": [
    {
     "name": "stdout",
     "output_type": "stream",
     "text": [
      "Getting results for T1 -> T2\n",
      "T1 : [ 0  0  0  0  0  1  1  1  1  1 -1 -1]\n",
      "T2 : [ 0  0  0  0  1  2  2  2  2  1 -1 -1]\n",
      "source: 0 target: 0 flow: 0 -> 1\n",
      "source: 0 target: 0 flow: 0 -> 1\n",
      "source: 0 target: 0 flow: 0 -> 1\n",
      "source: 0 target: 0 flow: 0 -> 1\n",
      "source: 0 target: 1 flow: 0 -> 2\n",
      "source: 1 target: 2 flow: 3 -> 4\n",
      "source: 1 target: 2 flow: 3 -> 4\n",
      "source: 1 target: 2 flow: 3 -> 4\n",
      "source: 1 target: 2 flow: 3 -> 4\n",
      "source: 1 target: 1 flow: 3 -> 2\n",
      "computeFlows:\n",
      " sources: {0: {'index': 0, 'label': 0}, 1: {'index': 3, 'label': 1}}\n",
      " targets: {0: {'index': 1, 'label': 0}, 1: {'index': 2, 'label': 1}, 2: {'index': 4, 'label': 2}}\n",
      " labels: [0, 0, 1, 1, 2]\n",
      " flows: {'0 -> 1': 4, '0 -> 2': 1, '3 -> 4': 4, '3 -> 2': 1}\n",
      "analyzeFlows:\n",
      "  [0, 0, 1, 1, 2]\n",
      "  ['red', 'red', 'yellow', 'yellow', 'blue']\n",
      "  ['0', '0', '3', '3']\n",
      "  ['1', '2', '4', '2']\n",
      "  [4, 1, 4, 1]\n",
      "Getting results for T2 -> T3\n",
      "T2 : [ 0  0  0  0  1  2  2  2  2  1 -1 -1]\n",
      "T3 : [ 0  0  0  1  1  2  1  2  2  1 -1 -1]\n",
      "source: 0 target: 0 flow: 1 -> 5\n",
      "source: 0 target: 0 flow: 1 -> 5\n",
      "source: 0 target: 0 flow: 1 -> 5\n",
      "source: 0 target: 1 flow: 1 -> 6\n",
      "source: 1 target: 1 flow: 2 -> 6\n",
      "source: 2 target: 2 flow: 4 -> 7\n",
      "source: 2 target: 1 flow: 4 -> 6\n",
      "source: 2 target: 2 flow: 4 -> 7\n",
      "source: 2 target: 2 flow: 4 -> 7\n",
      "source: 1 target: 1 flow: 2 -> 6\n",
      "computeFlows:\n",
      " sources: {0: {'index': 1, 'label': 0}, 1: {'index': 2, 'label': 1}, 2: {'index': 4, 'label': 2}}\n",
      " targets: {0: {'index': 5, 'label': 0}, 1: {'index': 6, 'label': 1}, 2: {'index': 7, 'label': 2}}\n",
      " labels: [0, 1, 2]\n",
      " flows: {'1 -> 5': 3, '1 -> 6': 1, '2 -> 6': 2, '4 -> 7': 3, '4 -> 6': 1}\n",
      "analyzeFlows:\n",
      "  [0, 1, 2]\n",
      "  ['red', 'yellow', 'blue']\n",
      "  ['1', '1', '2', '4', '4']\n",
      "  ['5', '6', '6', '7', '6']\n",
      "  [3, 1, 2, 3, 1]\n",
      "Getting results for T3 -> T4\n",
      "T3 : [ 0  0  0  1  1  2  1  2  2  1 -1 -1]\n",
      "T4 : [0 0 0 1 1 2 1 2 2 1 0 0]\n",
      "source: 0 target: 0 flow: 5 -> 8\n",
      "source: 0 target: 0 flow: 5 -> 8\n",
      "source: 0 target: 0 flow: 5 -> 8\n",
      "source: 1 target: 1 flow: 6 -> 9\n",
      "source: 1 target: 1 flow: 6 -> 9\n",
      "source: 2 target: 2 flow: 7 -> 10\n",
      "source: 1 target: 1 flow: 6 -> 9\n",
      "source: 2 target: 2 flow: 7 -> 10\n",
      "source: 2 target: 2 flow: 7 -> 10\n",
      "source: 1 target: 1 flow: 6 -> 9\n",
      "computeFlows:\n",
      " sources: {0: {'index': 5, 'label': 0}, 1: {'index': 6, 'label': 1}, 2: {'index': 7, 'label': 2}}\n",
      " targets: {0: {'index': 8, 'label': 0}, 1: {'index': 9, 'label': 1}, 2: {'index': 10, 'label': 2}}\n",
      " labels: [0, 1, 2]\n",
      " flows: {'5 -> 8': 3, '6 -> 9': 4, '7 -> 10': 3}\n",
      "analyzeFlows:\n",
      "  [0, 1, 2]\n",
      "  ['red', 'yellow', 'blue']\n",
      "  ['5', '6', '7']\n",
      "  ['8', '9', '10']\n",
      "  [3, 4, 3]\n",
      "Getting results for T4 -> T5\n",
      "T4 : [0 0 0 1 1 2 1 2 2 1 0 0]\n",
      "T5 : [0 0 0 1 1 2 2 2 3 1 3 3]\n",
      "source: 0 target: 0 flow: 8 -> 11\n",
      "source: 0 target: 0 flow: 8 -> 11\n",
      "source: 0 target: 0 flow: 8 -> 11\n",
      "source: 1 target: 1 flow: 9 -> 12\n",
      "source: 1 target: 1 flow: 9 -> 12\n",
      "source: 2 target: 2 flow: 10 -> 13\n",
      "source: 1 target: 2 flow: 9 -> 13\n",
      "source: 2 target: 2 flow: 10 -> 13\n",
      "source: 2 target: 3 flow: 10 -> 14\n",
      "source: 1 target: 1 flow: 9 -> 12\n",
      "source: 0 target: 3 flow: 8 -> 14\n",
      "source: 0 target: 3 flow: 8 -> 14\n",
      "computeFlows:\n",
      " sources: {0: {'index': 8, 'label': 0}, 1: {'index': 9, 'label': 1}, 2: {'index': 10, 'label': 2}}\n",
      " targets: {0: {'index': 11, 'label': 0}, 1: {'index': 12, 'label': 1}, 2: {'index': 13, 'label': 2}, 3: {'index': 14, 'label': 3}}\n",
      " labels: [0, 1, 2, 3]\n",
      " flows: {'8 -> 11': 3, '9 -> 12': 3, '10 -> 13': 2, '9 -> 13': 1, '10 -> 14': 1, '8 -> 14': 2}\n",
      "analyzeFlows:\n",
      "  [0, 1, 2, 3]\n",
      "  ['red', 'yellow', 'blue', 'orange']\n",
      "  ['8', '9', '10', '9', '10', '8']\n",
      "  ['11', '12', '13', '13', '14', '14']\n",
      "  [3, 3, 2, 1, 1, 2]\n"
     ]
    }
   ],
   "source": [
    "for i in range(len(timeColumns) - 1):\n",
    "    j = i + 1\n",
    "    t1 = timeColumns[i]\n",
    "    t2 = timeColumns[j]\n",
    "    d1 = df[t1].values\n",
    "    d2 = df[t2].values\n",
    "    print(\"Getting results for {} -> {}\".format(t1,t2))\n",
    "    print(t1,\":\",d1)\n",
    "    print(t2,\":\",d2)\n",
    "    computeFlows(d1, d2, data, index)\n",
    "    print(\"computeFlows:\")\n",
    "    print(\" sources:\",data['sources'])\n",
    "    print(\" targets:\",data['targets'])\n",
    "    print(\" labels:\",data['labels'])\n",
    "    print(\" flows:\",data['flows'])\n",
    "\n",
    "    results = analyzeFlows(data)\n",
    "    print(\"analyzeFlows:\")\n",
    "    [print(\" \",x) for x in results]\n",
    "    labels += results[0]\n",
    "    colors += results[1]\n",
    "    sources += results[2]\n",
    "    targets += results[3]\n",
    "    values += results[4]"
   ]
  },
  {
   "cell_type": "code",
   "execution_count": 157,
   "metadata": {},
   "outputs": [
    {
     "name": "stdout",
     "output_type": "stream",
     "text": [
      "labels: [0, 0, 1, 1, 2, 0, 1, 2, 0, 1, 2, 0, 1, 2, 3]\n",
      "colors: ['red', 'red', 'yellow', 'yellow', 'blue', 'red', 'yellow', 'blue', 'red', 'yellow', 'blue', 'red', 'yellow', 'blue', 'orange']\n",
      "sources: ['0', '0', '3', '3', '1', '1', '2', '4', '4', '5', '6', '7', '8', '9', '10', '9', '10', '8']\n",
      "targets: ['1', '2', '4', '2', '5', '6', '6', '7', '6', '8', '9', '10', '11', '12', '13', '13', '14', '14']\n",
      "values: [4, 1, 4, 1, 3, 1, 2, 3, 1, 3, 4, 3, 3, 3, 2, 1, 1, 2]\n"
     ]
    }
   ],
   "source": [
    "print(\"labels:\", labels)\n",
    "print(\"colors:\", colors)\n",
    "print(\"sources:\", sources)\n",
    "print(\"targets:\", targets)\n",
    "print(\"values:\", values)"
   ]
  },
  {
   "cell_type": "markdown",
   "metadata": {},
   "source": [
    "`plotFlow`\n",
    "\n",
    "produce a *Sankey Diagram* from the flow information"
   ]
  },
  {
   "cell_type": "markdown",
   "metadata": {},
   "source": [
    "Note: using Plotly requires:\n",
    "1. signing up (there's a free option): https://plot.ly/api_signup\n",
    "2. generating an API key: https://plot.ly/settings/api#/\n",
    "   - which must be stored in `~/.plotly/.credentials`\n",
    "   \n",
    "```\n",
    "{\n",
    "    \"username\": \"muftring\",\n",
    "    \"api_key\": \"pLqC2SZPVIAuwyJQv3nS\",\n",
    "    \"stream_ids\": []\n",
    "}\n",
    "```"
   ]
  },
  {
   "cell_type": "code",
   "execution_count": 116,
   "metadata": {},
   "outputs": [],
   "source": [
    "import plotly\n",
    "plotly.tools.set_credentials_file(username='muftring', api_key='JZKR7bF7LAZWIYnSpXUQ')"
   ]
  },
  {
   "cell_type": "code",
   "execution_count": 113,
   "metadata": {},
   "outputs": [],
   "source": [
    "import plotly.plotly as py\n",
    "\n",
    "def plotFlow(labels, colors, sources, targets, values):\n",
    "    data = dict(\n",
    "        type='sankey',\n",
    "        node = dict(\n",
    "          pad = 15,\n",
    "          thickness = 20,\n",
    "          line = dict(\n",
    "            color = \"black\",\n",
    "            width = 0.5\n",
    "          ),\n",
    "          label = labels,\n",
    "          color = colors\n",
    "        ),\n",
    "        link = dict(\n",
    "          source = sources,\n",
    "          target = targets,\n",
    "          value = values\n",
    "      ))\n",
    "\n",
    "    layout =  dict(\n",
    "        title = \"Title\",\n",
    "        font = dict(\n",
    "          size = 10\n",
    "        )\n",
    "    )\n",
    "\n",
    "    fig = dict(data=[data], layout=layout)\n",
    "    return py.iplot(fig, validate=False)"
   ]
  },
  {
   "cell_type": "code",
   "execution_count": 158,
   "metadata": {},
   "outputs": [
    {
     "data": {
      "text/html": [
       "<iframe id=\"igraph\" scrolling=\"no\" style=\"border:none;\" seamless=\"seamless\" src=\"https://plot.ly/~muftring/56.embed\" height=\"525px\" width=\"100%\"></iframe>"
      ],
      "text/plain": [
       "<plotly.tools.PlotlyDisplay object>"
      ]
     },
     "execution_count": 158,
     "metadata": {},
     "output_type": "execute_result"
    }
   ],
   "source": [
    "plotFlow(labels, colors, sources, targets, values)"
   ]
  },
  {
   "cell_type": "code",
   "execution_count": null,
   "metadata": {},
   "outputs": [],
   "source": []
  },
  {
   "cell_type": "code",
   "execution_count": null,
   "metadata": {},
   "outputs": [],
   "source": []
  },
  {
   "cell_type": "markdown",
   "metadata": {},
   "source": [
    "### Manually construct Flow data"
   ]
  },
  {
   "cell_type": "markdown",
   "metadata": {},
   "source": [
    "The below creates an alluvial with a few undesired effects:\n",
    "- when nodes are added at the time marked `C`, a new origin appears aligned with time `A`"
   ]
  },
  {
   "cell_type": "code",
   "execution_count": null,
   "metadata": {},
   "outputs": [],
   "source": [
    "#.         0     1     2     3     4     5     6     7     8      9     10    11    12    13    14    15\n",
    "labels = [\"A0\", \"A1\", \"B0\", \"B1\", \"B2\", \"C0\", \"C1\", \"C2\", \"C-1\", \"D0\", \"D1\", \"D2\", \"E0\", \"E1\", \"E2\", \"E3\"]\n",
    "colors = [\"red\", \"blue\", \"red\", \"blue\", \"purple\", \"red\", \"blue\", \"purple\", \"green\", \"red\", \"blue\", \"purple\", \"red\", \"blue\", \"purple\", \"orange\"]\n",
    "sources = [0,0,1,1,   2,2,3,4,4,   5, 6, 7,8,    9, 9,10,10,11,11]\n",
    "targets = [2,3,3,4,   5,6,6,6,7,   9,10,11,9,   12,15,13,14,14,15]\n",
    "values =  [4,1,1,4,   3,1,2,1,3,   3, 4, 3,2,    3, 2, 3, 1, 2, 1]"
   ]
  },
  {
   "cell_type": "code",
   "execution_count": null,
   "metadata": {},
   "outputs": [],
   "source": [
    "plotFlow(labels, colors, sources, targets, values)"
   ]
  },
  {
   "cell_type": "markdown",
   "metadata": {},
   "source": [
    "Perhaps if we use proportions for the values (amount) instead of quantity, the flow might not present any undesired effects.\n",
    "\n",
    "We should also consider whether we can identify addition and subtraction by visually observing a difference in the size of an inbound and outbound flow from a node.\n",
    "\n",
    "Or, we might annotate the flows with their portion size or some other marker which indicates an increase or decrease in inbound and outbound flow."
   ]
  },
  {
   "cell_type": "code",
   "execution_count": null,
   "metadata": {},
   "outputs": [],
   "source": [
    "# The values must become proportions\n",
    "# Node C-1 (8) needs to be removed\n",
    "# \n",
    "\n",
    "#.          0      1       2      3       4         5      6       7      -8-   9     10    11    12    13    14    15\n",
    "labels =  [\"A0\",  \"A1\",   \"B0\",  \"B1\",   \"B2\",     \"C0\",  \"C1\",   \"C2\",        \"D0\", \"D1\", \"D2\", \"E0\", \"E1\", \"E2\", \"E3\"]\n",
    "colors =  [\"red\", \"blue\", \"red\", \"blue\", \"purple\", \"red\", \"blue\", \"purple\",    \"red\", \"blue\", \"purple\", \"red\", \"blue\", \"purple\", \"orange\"]\n",
    "sources = [0,0,1,1,   2,2,3,4,4,   5, 6, 7,      9, 9,10,10,11,11]\n",
    "targets = [2,3,3,4,   5,6,6,6,7,   9,10,11,     12,15,13,14,14,15]\n",
    "values =  [4,1,1,4,   3,1,2,1,3,   3, 4, 3,      3, 2, 3, 1, 2, 1]"
   ]
  },
  {
   "cell_type": "code",
   "execution_count": null,
   "metadata": {},
   "outputs": [],
   "source": [
    "plotFlow(labels, colors, sources, targets, values)"
   ]
  },
  {
   "cell_type": "code",
   "execution_count": null,
   "metadata": {},
   "outputs": [],
   "source": [
    "import pandas as pd\n",
    "\n",
    "nodeColNames = [\"Time\", \"Label\", \"Color\"]\n",
    "node_df = pd.DataFrame(columns=nodeColNames)\n",
    "\n",
    "flowColNames = [\"Time\", \"Source\", \"Target\", \"Value\", \"Proportion\"]\n",
    "flow_df = pd.DataFrame(columns=flowColNames)"
   ]
  },
  {
   "cell_type": "code",
   "execution_count": null,
   "metadata": {},
   "outputs": [],
   "source": [
    "flow_df.Time = [1,1,1,1, 2,2,2,2,2, 3,3,3, 4,4,4,4,4,4]\n",
    "flow_df.Source = sources\n",
    "flow_df.Target = targets\n",
    "flow_df.Value = values\n",
    "\n",
    "node_df.Label = labels\n",
    "node_df.Color = colors"
   ]
  },
  {
   "cell_type": "markdown",
   "metadata": {},
   "source": [
    "### compute the proportions"
   ]
  },
  {
   "cell_type": "code",
   "execution_count": null,
   "metadata": {},
   "outputs": [],
   "source": [
    "scaleFactor = 100\n",
    "values = []\n",
    "for i in flow_df.index:\n",
    "    time = flow_df['Time'][i]\n",
    "    value = flow_df['Value'][i]\n",
    "    total = sum(flow_df.loc[flow_df['Time'] == time]['Value'])\n",
    "    values.append(round(scaleFactor*(value/total), 3))"
   ]
  },
  {
   "cell_type": "code",
   "execution_count": null,
   "metadata": {},
   "outputs": [],
   "source": [
    "values"
   ]
  },
  {
   "cell_type": "code",
   "execution_count": null,
   "metadata": {},
   "outputs": [],
   "source": [
    "flow_df.Proportion = values"
   ]
  },
  {
   "cell_type": "markdown",
   "metadata": {},
   "source": [
    "### show the DataFrame"
   ]
  },
  {
   "cell_type": "code",
   "execution_count": null,
   "metadata": {},
   "outputs": [],
   "source": [
    "import qgrid\n",
    "flow_w = qgrid.show_grid(flow_df, show_toolbar=True)\n",
    "flow_w"
   ]
  },
  {
   "cell_type": "code",
   "execution_count": null,
   "metadata": {},
   "outputs": [],
   "source": [
    "flow_df = flow_w.get_changed_df()"
   ]
  },
  {
   "cell_type": "code",
   "execution_count": null,
   "metadata": {},
   "outputs": [],
   "source": [
    "node_w = qgrid.show_grid(node_df, show_toolbar=True)\n",
    "node_w"
   ]
  },
  {
   "cell_type": "code",
   "execution_count": null,
   "metadata": {},
   "outputs": [],
   "source": [
    "node_df = node_w.get_changed_df()"
   ]
  },
  {
   "cell_type": "code",
   "execution_count": null,
   "metadata": {},
   "outputs": [],
   "source": [
    "plotFlow(node_df.Label, node_df.Color, flow_df.Source, flow_df.Target, flow_df.Proportion)"
   ]
  },
  {
   "cell_type": "code",
   "execution_count": null,
   "metadata": {},
   "outputs": [],
   "source": [
    "index = 0\n",
    "for time in [\"T1\", \"T2\", \"T3\", \"T4\", \"T5\"]:\n",
    "    index += 1\n",
    "    clustering = df[time].values\n",
    "    clusters = set(list(filter(lambda x: x >= 0, clustering)))\n",
    "    flow = {}\n",
    "    for src in clusters:\n",
    "        flow[src] = {}\n",
    "        for dst in clusters:\n",
    "            flow[src][dst] = 0\n",
    "    print(time, index, clusters, values, flow)"
   ]
  },
  {
   "cell_type": "code",
   "execution_count": null,
   "metadata": {},
   "outputs": [],
   "source": [
    "def flow(source, target):\n",
    "    sources = set(list(filter(lambda x: x >= 0, source)))\n",
    "    targets = set(list(filter(lambda x: x >= 0, target)))\n",
    "    flows = {}\n",
    "    for src in sources:\n",
    "        flows[src] = {}\n",
    "        for dst in targets:\n",
    "            flows[src][dst] = 0\n",
    "    for i in range(10):\n",
    "        src = source[i]\n",
    "        dst = target[i]\n",
    "        flows[src][dst] += 1\n",
    "    return flows"
   ]
  },
  {
   "cell_type": "code",
   "execution_count": null,
   "metadata": {},
   "outputs": [],
   "source": [
    "F1 = flow(df.T1.values, df.T2.values)"
   ]
  },
  {
   "cell_type": "code",
   "execution_count": null,
   "metadata": {},
   "outputs": [],
   "source": [
    "F1"
   ]
  },
  {
   "cell_type": "code",
   "execution_count": null,
   "metadata": {},
   "outputs": [],
   "source": [
    "set(F1.keys())"
   ]
  },
  {
   "cell_type": "code",
   "execution_count": null,
   "metadata": {},
   "outputs": [],
   "source": [
    "F1.values()"
   ]
  },
  {
   "cell_type": "code",
   "execution_count": null,
   "metadata": {},
   "outputs": [],
   "source": [
    "d = []\n",
    "for x in F1.values():\n",
    "    for y in x.keys():\n",
    "        d.append(y)\n",
    "print(set(d))"
   ]
  },
  {
   "cell_type": "code",
   "execution_count": null,
   "metadata": {},
   "outputs": [],
   "source": [
    "F1"
   ]
  },
  {
   "cell_type": "code",
   "execution_count": null,
   "metadata": {},
   "outputs": [],
   "source": [
    "src_labels = set()\n",
    "dst_labels = set()\n",
    "\n",
    "for src in F1.keys():\n",
    "    src_labels.add(\"A{}\".format(src))\n",
    "    for dst in F1[src]:\n",
    "        dst_labels.add(\"B{}\".format(dst))"
   ]
  },
  {
   "cell_type": "code",
   "execution_count": null,
   "metadata": {},
   "outputs": [],
   "source": [
    "src_labels"
   ]
  },
  {
   "cell_type": "code",
   "execution_count": null,
   "metadata": {},
   "outputs": [],
   "source": [
    "dst_labels"
   ]
  },
  {
   "cell_type": "code",
   "execution_count": null,
   "metadata": {},
   "outputs": [],
   "source": [
    "f = set()"
   ]
  },
  {
   "cell_type": "code",
   "execution_count": null,
   "metadata": {},
   "outputs": [],
   "source": [
    "f"
   ]
  },
  {
   "cell_type": "code",
   "execution_count": null,
   "metadata": {},
   "outputs": [],
   "source": [
    "f.add(\"A1\")"
   ]
  },
  {
   "cell_type": "code",
   "execution_count": null,
   "metadata": {},
   "outputs": [],
   "source": [
    "f"
   ]
  },
  {
   "cell_type": "code",
   "execution_count": null,
   "metadata": {},
   "outputs": [],
   "source": []
  },
  {
   "cell_type": "markdown",
   "metadata": {},
   "source": [
    "**To Do:**\n",
    "- added nodes\n",
    "- removed nodes"
   ]
  },
  {
   "cell_type": "code",
   "execution_count": null,
   "metadata": {},
   "outputs": [],
   "source": []
  },
  {
   "cell_type": "code",
   "execution_count": null,
   "metadata": {},
   "outputs": [],
   "source": []
  },
  {
   "cell_type": "code",
   "execution_count": null,
   "metadata": {},
   "outputs": [],
   "source": []
  },
  {
   "cell_type": "markdown",
   "metadata": {},
   "source": [
    "# Show Change"
   ]
  },
  {
   "cell_type": "code",
   "execution_count": null,
   "metadata": {},
   "outputs": [],
   "source": [
    "labels = node_df.Label\n",
    "colors = node_df.Color\n",
    "sources = flow_df.Source\n",
    "targets = flow_df.Target\n",
    "values = flow_df.Value"
   ]
  },
  {
   "cell_type": "code",
   "execution_count": null,
   "metadata": {},
   "outputs": [],
   "source": []
  },
  {
   "cell_type": "code",
   "execution_count": null,
   "metadata": {},
   "outputs": [],
   "source": []
  },
  {
   "cell_type": "markdown",
   "metadata": {},
   "source": [
    "## Use `ipysankeywidget` and `floweaver`\n",
    "- [`ipysankeywidget`](https://github.com/ricklupton/ipysankeywidget)\n",
    "- [`floweaver`](https://github.com/ricklupton/floweaver)\n",
    "  - [docs](https://floweaver.readthedocs.io/en/latest/index.html)"
   ]
  },
  {
   "cell_type": "code",
   "execution_count": 166,
   "metadata": {},
   "outputs": [
    {
     "data": {
      "application/vnd.jupyter.widget-view+json": {
       "model_id": "945ed5a47b51488aac6853c468c52b58",
       "version_major": 2,
       "version_minor": 0
      }
     },
     "metadata": {},
     "output_type": "display_data"
    }
   ],
   "source": [
    "import pandas as pd\n",
    "from io import StringIO\n",
    "\n",
    "flows = pd.read_csv(StringIO(\"\"\"\n",
    "source,target,type,value\n",
    "a,b,main,2\n",
    "a,c,main,1\n",
    "c,d,main,3\n",
    "b,c,back,2\n",
    "\"\"\"))\n",
    "\n",
    "flows"
   ]
  },
  {
   "cell_type": "code",
   "execution_count": 167,
   "metadata": {},
   "outputs": [
    {
     "ename": "ModuleNotFoundError",
     "evalue": "No module named 'floweaver'",
     "output_type": "error",
     "traceback": [
      "\u001b[0;31m---------------------------------------------------------------------------\u001b[0m",
      "\u001b[0;31mModuleNotFoundError\u001b[0m                       Traceback (most recent call last)",
      "\u001b[0;32m<ipython-input-167-23adc9f6b5e4>\u001b[0m in \u001b[0;36m<module>\u001b[0;34m()\u001b[0m\n\u001b[0;32m----> 1\u001b[0;31m \u001b[0;32mfrom\u001b[0m \u001b[0mfloweaver\u001b[0m \u001b[0;32mimport\u001b[0m \u001b[0;34m*\u001b[0m\u001b[0;34m\u001b[0m\u001b[0m\n\u001b[0m\u001b[1;32m      2\u001b[0m \u001b[0;34m\u001b[0m\u001b[0m\n\u001b[1;32m      3\u001b[0m \u001b[0;31m# Set the default size to fit the documentation better.\u001b[0m\u001b[0;34m\u001b[0m\u001b[0;34m\u001b[0m\u001b[0m\n\u001b[1;32m      4\u001b[0m \u001b[0msize\u001b[0m \u001b[0;34m=\u001b[0m \u001b[0mdict\u001b[0m\u001b[0;34m(\u001b[0m\u001b[0mwidth\u001b[0m\u001b[0;34m=\u001b[0m\u001b[0;36m570\u001b[0m\u001b[0;34m,\u001b[0m \u001b[0mheight\u001b[0m\u001b[0;34m=\u001b[0m\u001b[0;36m300\u001b[0m\u001b[0;34m)\u001b[0m\u001b[0;34m\u001b[0m\u001b[0m\n\u001b[1;32m      5\u001b[0m \u001b[0;34m\u001b[0m\u001b[0m\n",
      "\u001b[0;31mModuleNotFoundError\u001b[0m: No module named 'floweaver'"
     ]
    }
   ],
   "source": [
    "from floweaver import *\n",
    "\n",
    "# Set the default size to fit the documentation better.\n",
    "size = dict(width=570, height=300)\n",
    "\n",
    "nodes = {\n",
    "    'a': ProcessGroup(['a']),\n",
    "    'b': ProcessGroup(['b']),\n",
    "    'c': ProcessGroup(['c']),\n",
    "    'd': ProcessGroup(['d']),\n",
    "    'back': Waypoint(direction='L'),\n",
    "}\n",
    "\n",
    "bundles = [\n",
    "    Bundle('a', 'b'),\n",
    "    Bundle('a', 'c'),\n",
    "    Bundle('b', 'c', waypoints=['back']),\n",
    "    Bundle('c', 'd'),\n",
    "    Bundle('c', 'b'),\n",
    "]\n",
    "\n",
    "ordering = [\n",
    "    [['a'], []],\n",
    "    [['b', 'c'], ['back']],\n",
    "    [['d'], []],\n",
    "]\n",
    "\n",
    "sdd = SankeyDefinition(nodes, bundles, ordering)\n",
    "\n",
    "weave(sdd, flows).to_widget(**size)"
   ]
  },
  {
   "cell_type": "code",
   "execution_count": 161,
   "metadata": {},
   "outputs": [
    {
     "data": {
      "text/plain": [
       "18"
      ]
     },
     "execution_count": 161,
     "metadata": {},
     "output_type": "execute_result"
    }
   ],
   "source": [
    "len(sources)"
   ]
  },
  {
   "cell_type": "code",
   "execution_count": 165,
   "metadata": {},
   "outputs": [
    {
     "name": "stdout",
     "output_type": "stream",
     "text": [
      "source,target,type,value\n",
      "0,1,main,4\n",
      "0,2,main,1\n",
      "3,4,main,4\n",
      "3,2,main,1\n",
      "1,5,main,3\n",
      "1,6,main,1\n",
      "2,6,main,2\n",
      "4,7,main,3\n",
      "4,6,main,1\n",
      "5,8,main,3\n",
      "6,9,main,4\n",
      "7,10,main,3\n",
      "8,11,main,3\n",
      "9,12,main,3\n",
      "10,13,main,2\n",
      "9,13,main,1\n",
      "10,14,main,1\n",
      "8,14,main,2\n"
     ]
    }
   ],
   "source": [
    "print(\"source,target,type,value\")\n",
    "for i in range(len(sources)):\n",
    "    print(\"{},{},{},{}\".format(sources[i],targets[i],\"main\",values[i]))"
   ]
  },
  {
   "cell_type": "code",
   "execution_count": null,
   "metadata": {},
   "outputs": [],
   "source": []
  },
  {
   "cell_type": "code",
   "execution_count": null,
   "metadata": {},
   "outputs": [],
   "source": []
  },
  {
   "cell_type": "code",
   "execution_count": null,
   "metadata": {},
   "outputs": [],
   "source": []
  },
  {
   "cell_type": "markdown",
   "metadata": {},
   "source": [
    "# Plotly Sankey example"
   ]
  },
  {
   "cell_type": "code",
   "execution_count": null,
   "metadata": {},
   "outputs": [],
   "source": [
    "import plotly.plotly as py\n",
    "\n",
    "data = dict(\n",
    "    type='sankey',\n",
    "    node = dict(\n",
    "      pad = 15,\n",
    "      thickness = 20,\n",
    "      line = dict(\n",
    "        color = \"black\",\n",
    "        width = 0.5\n",
    "      ),\n",
    "      label = [\"A1\", \"A2\", \"B1\", \"B2\", \"C1\", \"C2\"],\n",
    "      color = [\"blue\", \"blue\", \"blue\", \"blue\", \"blue\", \"blue\"]\n",
    "    ),\n",
    "    link = dict(\n",
    "      source = [0,1,0,2,3,3],\n",
    "      target = [2,3,3,4,4,5],\n",
    "      value = [8,4,2,8,4,2]\n",
    "  ))\n",
    "\n",
    "layout =  dict(\n",
    "    title = \"Basic Sankey Diagram\",\n",
    "    font = dict(\n",
    "      size = 10\n",
    "    )\n",
    ")\n",
    "\n",
    "fig = dict(data=[data], layout=layout)\n",
    "py.iplot(fig, validate=False)"
   ]
  },
  {
   "cell_type": "code",
   "execution_count": null,
   "metadata": {},
   "outputs": [],
   "source": []
  },
  {
   "cell_type": "code",
   "execution_count": null,
   "metadata": {},
   "outputs": [],
   "source": []
  },
  {
   "cell_type": "markdown",
   "metadata": {},
   "source": [
    "## See if we can use some external JavaScript library to build Sankey Graphs\n",
    "- Google\n",
    "- Semiotic"
   ]
  },
  {
   "cell_type": "markdown",
   "metadata": {},
   "source": [
    "[Autotranslation: Python to JavaScript and D3](http://nbviewer.jupyter.org/github/twosigma/beakerx/blob/master/doc/python/AutoTranslation.ipynb)"
   ]
  },
  {
   "cell_type": "code",
   "execution_count": 174,
   "metadata": {},
   "outputs": [],
   "source": [
    "from beakerx import beakerx"
   ]
  },
  {
   "cell_type": "code",
   "execution_count": 175,
   "metadata": {},
   "outputs": [],
   "source": [
    "from random import randrange\n",
    "import math\n",
    "\n",
    "nnodes = 100\n",
    "\n",
    "nodes = []\n",
    "links = []\n",
    "\n",
    "for i in range(0, nnodes):\n",
    "    nodes.append({\"name\": str(i), \"group\": int(i*7/nnodes)})\n",
    "\n",
    "for i in range(0, int(nnodes*1.15)):\n",
    "    source = i % nnodes\n",
    "    target = int(math.log(1 + randrange(nnodes), 1.3))\n",
    "    value = 10.0 / (1 + abs(source - target))\n",
    "    links.append({\"source\": source, \"target\": target, \"value\": value * value})\n",
    "\n",
    "beakerx.graph = {\"nodes\":nodes, \"links\":links}"
   ]
  },
  {
   "cell_type": "code",
   "execution_count": 177,
   "metadata": {},
   "outputs": [
    {
     "data": {
      "application/javascript": [
       "require.config({\n",
       "  paths: {\n",
       "      d3: '//cdnjs.cloudflare.com/ajax/libs/d3/4.9.1/d3.min'\n",
       "  }});"
      ],
      "text/plain": [
       "<IPython.core.display.Javascript object>"
      ]
     },
     "metadata": {},
     "output_type": "display_data"
    }
   ],
   "source": [
    "%%javascript\n",
    "require.config({\n",
    "  paths: {\n",
    "      d3: '//cdnjs.cloudflare.com/ajax/libs/d3/4.9.1/d3.min'\n",
    "  }});"
   ]
  },
  {
   "cell_type": "code",
   "execution_count": 178,
   "metadata": {},
   "outputs": [
    {
     "data": {
      "text/html": [
       "<style>\n",
       ".node {\n",
       "  stroke: #fff;\n",
       "  stroke-width: 1.5px;\n",
       "}\n",
       "\n",
       ".link {\n",
       "  stroke: #999;\n",
       "  stroke-opacity: .6;\n",
       "}\n",
       "</style>"
      ],
      "text/plain": [
       "<IPython.core.display.HTML object>"
      ]
     },
     "metadata": {},
     "output_type": "display_data"
    }
   ],
   "source": [
    "%%html\n",
    "<style>\n",
    ".node {\n",
    "  stroke: #fff;\n",
    "  stroke-width: 1.5px;\n",
    "}\n",
    "\n",
    ".link {\n",
    "  stroke: #999;\n",
    "  stroke-opacity: .6;\n",
    "}\n",
    "</style>"
   ]
  },
  {
   "cell_type": "code",
   "execution_count": 179,
   "metadata": {},
   "outputs": [
    {
     "data": {
      "application/javascript": [
       "\n",
       "beakerx.displayHTML(this, '<div id=\"fdg\"></div>');\n",
       "\n",
       "var graph = beakerx.graph\n",
       "\n",
       "var d3 = require(['d3'], function (d3) {\n",
       "    \n",
       "    var width = 600,\n",
       "        height = 500;\n",
       "\n",
       "    var color = d3.scaleOrdinal(d3.schemeCategory20);\n",
       "\n",
       "    var simulation = d3.forceSimulation()\n",
       "        .force(\"link\", d3.forceLink().distance(30))\n",
       "        .force(\"charge\", d3.forceManyBody().strength(-200))\n",
       "        .force(\"center\", d3.forceCenter(width / 2, height / 2))\n",
       "        .force(\"y\", d3.forceY(width / 2).strength(0.3))\n",
       "        .force(\"x\", d3.forceX(height / 2).strength(0.3));\n",
       "\n",
       "    var svg = d3.select(\"#fdg\")\n",
       "                .append(\"svg\")\n",
       "                .attr(\"width\", width)\n",
       "                .attr(\"height\", height)\n",
       "                .attr(\"transform\", \"translate(\"+[100, 0]+\")\");\n",
       "\n",
       "    simulation\n",
       "          .nodes(graph.nodes)\n",
       "          .force(\"link\")\n",
       "          .links(graph.links);\n",
       "\n",
       "    var link = svg.selectAll(\".link\")\n",
       "          .data(graph.links)\n",
       "          .enter().append(\"line\")\n",
       "          .attr(\"class\", \"link\")\n",
       "          .style(\"stroke-width\", function(d) { return Math.sqrt(d.value); });\n",
       "\n",
       "    var node = svg.selectAll(\".node\")\n",
       "          .data(graph.nodes)\n",
       "          .enter().append(\"circle\")\n",
       "          .attr(\"class\", \"node\")\n",
       "          .attr(\"r\", 10)\n",
       "          .style(\"fill\", function(d) { return color(d.group); });\n",
       "\n",
       "    node.append(\"title\")\n",
       "          .text(function(d) { return d.name; });\n",
       "\n",
       "    simulation.on(\"tick\", function() {\n",
       "        link.attr(\"x1\", function(d) { return d.source.x; })\n",
       "            .attr(\"y1\", function(d) { return d.source.y; })\n",
       "            .attr(\"x2\", function(d) { return d.target.x; })\n",
       "            .attr(\"y2\", function(d) { return d.target.y; });\n",
       "\n",
       "        node.attr(\"cx\", function(d) { return d.x; })\n",
       "            .attr(\"cy\", function(d) { return d.y; });\n",
       "    });\n",
       "    \n",
       "    node.call(d3.drag()\n",
       "        .on(\"start\", dragstarted)\n",
       "        .on(\"drag\", dragged)\n",
       "        .on(\"end\", dragended)\n",
       "    );\n",
       "    \n",
       "    function dragstarted(d) {\n",
       "        if (!d3.event.active) simulation.alphaTarget(0.3).restart();\n",
       "        d.fx = d.x;\n",
       "        d.fy = d.y;\n",
       "    }\n",
       "\n",
       "    function dragged(d) {\n",
       "        d.fx = d3.event.x;\n",
       "        d.fy = d3.event.y;\n",
       "    }\n",
       "\n",
       "    function dragended(d) {\n",
       "        if (!d3.event.active) simulation.alphaTarget(0);\n",
       "        d.fx = null;\n",
       "        d.fy = null;\n",
       "    }\n",
       "});"
      ],
      "text/plain": [
       "<IPython.core.display.Javascript object>"
      ]
     },
     "metadata": {},
     "output_type": "display_data"
    }
   ],
   "source": [
    "%%javascript\n",
    "\n",
    "beakerx.displayHTML(this, '<div id=\"fdg\"></div>');\n",
    "\n",
    "var graph = beakerx.graph\n",
    "\n",
    "var d3 = require(['d3'], function (d3) {\n",
    "    \n",
    "    var width = 600,\n",
    "        height = 500;\n",
    "\n",
    "    var color = d3.scaleOrdinal(d3.schemeCategory20);\n",
    "\n",
    "    var simulation = d3.forceSimulation()\n",
    "        .force(\"link\", d3.forceLink().distance(30))\n",
    "        .force(\"charge\", d3.forceManyBody().strength(-200))\n",
    "        .force(\"center\", d3.forceCenter(width / 2, height / 2))\n",
    "        .force(\"y\", d3.forceY(width / 2).strength(0.3))\n",
    "        .force(\"x\", d3.forceX(height / 2).strength(0.3));\n",
    "\n",
    "    var svg = d3.select(\"#fdg\")\n",
    "                .append(\"svg\")\n",
    "                .attr(\"width\", width)\n",
    "                .attr(\"height\", height)\n",
    "                .attr(\"transform\", \"translate(\"+[100, 0]+\")\");\n",
    "\n",
    "    simulation\n",
    "          .nodes(graph.nodes)\n",
    "          .force(\"link\")\n",
    "          .links(graph.links);\n",
    "\n",
    "    var link = svg.selectAll(\".link\")\n",
    "          .data(graph.links)\n",
    "          .enter().append(\"line\")\n",
    "          .attr(\"class\", \"link\")\n",
    "          .style(\"stroke-width\", function(d) { return Math.sqrt(d.value); });\n",
    "\n",
    "    var node = svg.selectAll(\".node\")\n",
    "          .data(graph.nodes)\n",
    "          .enter().append(\"circle\")\n",
    "          .attr(\"class\", \"node\")\n",
    "          .attr(\"r\", 10)\n",
    "          .style(\"fill\", function(d) { return color(d.group); });\n",
    "\n",
    "    node.append(\"title\")\n",
    "          .text(function(d) { return d.name; });\n",
    "\n",
    "    simulation.on(\"tick\", function() {\n",
    "        link.attr(\"x1\", function(d) { return d.source.x; })\n",
    "            .attr(\"y1\", function(d) { return d.source.y; })\n",
    "            .attr(\"x2\", function(d) { return d.target.x; })\n",
    "            .attr(\"y2\", function(d) { return d.target.y; });\n",
    "\n",
    "        node.attr(\"cx\", function(d) { return d.x; })\n",
    "            .attr(\"cy\", function(d) { return d.y; });\n",
    "    });\n",
    "    \n",
    "    node.call(d3.drag()\n",
    "        .on(\"start\", dragstarted)\n",
    "        .on(\"drag\", dragged)\n",
    "        .on(\"end\", dragended)\n",
    "    );\n",
    "    \n",
    "    function dragstarted(d) {\n",
    "        if (!d3.event.active) simulation.alphaTarget(0.3).restart();\n",
    "        d.fx = d.x;\n",
    "        d.fy = d.y;\n",
    "    }\n",
    "\n",
    "    function dragged(d) {\n",
    "        d.fx = d3.event.x;\n",
    "        d.fy = d3.event.y;\n",
    "    }\n",
    "\n",
    "    function dragended(d) {\n",
    "        if (!d3.event.active) simulation.alphaTarget(0);\n",
    "        d.fx = null;\n",
    "        d.fy = null;\n",
    "    }\n",
    "});"
   ]
  },
  {
   "cell_type": "code",
   "execution_count": null,
   "metadata": {},
   "outputs": [],
   "source": []
  },
  {
   "cell_type": "code",
   "execution_count": null,
   "metadata": {},
   "outputs": [],
   "source": []
  },
  {
   "cell_type": "code",
   "execution_count": null,
   "metadata": {},
   "outputs": [],
   "source": []
  },
  {
   "cell_type": "code",
   "execution_count": null,
   "metadata": {},
   "outputs": [],
   "source": []
  },
  {
   "cell_type": "code",
   "execution_count": null,
   "metadata": {},
   "outputs": [],
   "source": []
  },
  {
   "cell_type": "markdown",
   "metadata": {},
   "source": [
    "# Appendix\n",
    "\n",
    "## installing packages"
   ]
  },
  {
   "cell_type": "markdown",
   "metadata": {},
   "source": [
    "```\n",
    "pip install --upgrade pip\n",
    "pip install python-louvain\n",
    "\n",
    "# qgrid\n",
    "conda install qgrid\n",
    "jupyter nbextension enable --py --sys-prefix qgrid\n",
    "jupyter nbextension enable --py --sys-prefix widgetsnbextension\n",
    "\n",
    "conda install plotly\n",
    "```"
   ]
  },
  {
   "cell_type": "code",
   "execution_count": null,
   "metadata": {},
   "outputs": [],
   "source": []
  }
 ],
 "metadata": {
  "kernelspec": {
   "display_name": "Python 3",
   "language": "python",
   "name": "python3"
  },
  "language_info": {
   "codemirror_mode": {
    "name": "ipython",
    "version": 3
   },
   "file_extension": ".py",
   "mimetype": "text/x-python",
   "name": "python",
   "nbconvert_exporter": "python",
   "pygments_lexer": "ipython3",
   "version": "3.6.5"
  },
  "toc": {
   "base_numbering": 1,
   "nav_menu": {},
   "number_sections": false,
   "sideBar": false,
   "skip_h1_title": false,
   "title_cell": "Table of Contents",
   "title_sidebar": "Contents",
   "toc_cell": false,
   "toc_position": {},
   "toc_section_display": false,
   "toc_window_display": false
  }
 },
 "nbformat": 4,
 "nbformat_minor": 2
}
