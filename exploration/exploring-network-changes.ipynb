{
 "cells": [
  {
   "cell_type": "markdown",
   "metadata": {},
   "source": [
    "# Exploring Network Changes"
   ]
  },
  {
   "cell_type": "markdown",
   "metadata": {},
   "source": [
    "## Overview"
   ]
  },
  {
   "cell_type": "markdown",
   "metadata": {},
   "source": [
    "## Packages used\n",
    "- [NetworkX](https://networkx.github.io)\n",
    "- [Matplotlib](https://matplotlib.org)\n",
    "- [Louvain Community Detection (python-louvain)](https://github.com/taynaud/python-louvain)\n",
    "- [CluSim: a package for calculating clustering similarity](https://github.com/Hoosier-Clusters/clusim)\n",
    "- [qgrid](https://github.com/quantopian/qgrid) to view and edit DataFrame\n",
    "- pandas\n",
    "- numpy\n",
    "- [plotly](https://plot.ly/python/)"
   ]
  },
  {
   "cell_type": "markdown",
   "metadata": {},
   "source": [
    "## ToDo List\n",
    "\n",
    "- replace plotly with ... ???\n",
    "- utilize Alex's Python wrapper around Louvain\n",
    "- collapse time sequence into a series of function calls\n",
    "  - how to represent temporal slices efficiently\n",
    "  - how to edit/change temporal slices easily\n",
    "- plot temporal sequence of network as small multiples (or tiled plots in Matplotlib)\n",
    "- load network data from external source (CSV file)"
   ]
  },
  {
   "cell_type": "markdown",
   "metadata": {},
   "source": [
    "# The progression of time..."
   ]
  },
  {
   "cell_type": "code",
   "execution_count": 1,
   "metadata": {},
   "outputs": [
    {
     "name": "stdout",
     "output_type": "stream",
     "text": [
      "DendroPY not supported.\n"
     ]
    }
   ],
   "source": [
    "import networkx as nx\n",
    "import community as louvain\n",
    "from clusim.clustering import Clustering, print_clustering\n",
    "import clusim.sim as sim\n",
    "from matplotlib import pyplot as plt\n",
    "\n",
    "%matplotlib inline"
   ]
  },
  {
   "cell_type": "code",
   "execution_count": 2,
   "metadata": {},
   "outputs": [],
   "source": [
    "def membership(d):\n",
    "    _membership = {}\n",
    "    for key in d.keys():\n",
    "        value = d[key]\n",
    "        _membership[key] = [value]\n",
    "    return _membership"
   ]
  },
  {
   "cell_type": "code",
   "execution_count": 3,
   "metadata": {},
   "outputs": [],
   "source": [
    "def summary(graph, communities, clustering):\n",
    "    print(\"membership:\", membership(communities))\n",
    "    print(\"clustering: \", end=\"\")\n",
    "    print_clustering(clustering)"
   ]
  },
  {
   "cell_type": "markdown",
   "metadata": {},
   "source": [
    "some articles on coloring:\n",
    "- [Python NetworkX — set node color automatically based on number of attribute options](https://stackoverflow.com/questions/28910766/python-networkx-set-node-color-automatically-based-on-number-of-attribute-opt)\n",
    "- [Matplotlib discrete colorbar](https://stackoverflow.com/questions/14777066/matplotlib-discrete-colorbar)"
   ]
  },
  {
   "cell_type": "code",
   "execution_count": 4,
   "metadata": {},
   "outputs": [],
   "source": [
    "colors = {\n",
    "    0: \"red\",\n",
    "    1: \"blue\",\n",
    "    2: \"purple\",\n",
    "    3: \"green\",\n",
    "    4: \"black\"\n",
    "}\n",
    "\n",
    "def coloring(membership):\n",
    "    _coloring = []\n",
    "    for m in membership:\n",
    "        _coloring.append(colors[membership[m]])\n",
    "    return _coloring"
   ]
  },
  {
   "cell_type": "code",
   "execution_count": 5,
   "metadata": {},
   "outputs": [],
   "source": [
    "def plot(graph, membership):\n",
    "    plt.tick_params(\n",
    "        axis='both',\n",
    "        which='both',\n",
    "        bottom=False,\n",
    "        top=False,\n",
    "        left=False,\n",
    "        right=False,\n",
    "        labelbottom=False,\n",
    "        labeltop=False,\n",
    "        labelleft=False,\n",
    "        labelright=False)\n",
    "    nx.draw_networkx(graph, \n",
    "                     pos=nx.spring_layout(graph), \n",
    "                     node_color=coloring(membership), \n",
    "                     font_color=\"white\")"
   ]
  },
  {
   "cell_type": "code",
   "execution_count": 6,
   "metadata": {},
   "outputs": [],
   "source": [
    "def delta(z1, z2):\n",
    "    s1 = set(z1.keys())\n",
    "    s2 = set(z2.keys())\n",
    "    added = list(s2 - s1)\n",
    "    removed = list(s1 - s2)\n",
    "    print(\"nodes\")\n",
    "    print(\"\\tadded:   \", added)\n",
    "    print(\"\\tremoved: \", removed)\n",
    "    print(\"links\")\n",
    "    s3 = s1.intersection(s2)\n",
    "    for n in s3:\n",
    "        l1 = set(z1[n])\n",
    "        l2 = set(z2[n])\n",
    "        print(\"\\tnode\",n, \"removed\", list(l1 - l2), \"added\", list(l2 - l1))\n",
    "    if len(added) > 0:\n",
    "        print(\"new nodes\")\n",
    "        for n in s2 - s1:\n",
    "            print(\"\\tnode\",n,\"connected to\", t4[n])"
   ]
  },
  {
   "cell_type": "code",
   "execution_count": 7,
   "metadata": {},
   "outputs": [],
   "source": [
    "class Counter():\n",
    "    count = 0\n",
    "    \n",
    "    def __init__(self, init=1):\n",
    "        self.count = init-1\n",
    "    \n",
    "    def __call__(self):\n",
    "        self.count += 1\n",
    "        return self.count"
   ]
  },
  {
   "cell_type": "markdown",
   "metadata": {},
   "source": [
    "## Time 1\n",
    "Initial network with 10 nodes. There are two distinctly identifiable groups connected through a single link."
   ]
  },
  {
   "cell_type": "code",
   "execution_count": 8,
   "metadata": {},
   "outputs": [],
   "source": [
    "t1 = {\n",
    "    0: [1,2,3,4],\n",
    "    1: [0,2,4],\n",
    "    2: [0,1],\n",
    "    3: [0,4],\n",
    "    4: [0,2,3,5],\n",
    "    5: [4,6,8],\n",
    "    6: [5,7,8,9],\n",
    "    7: [6,8],\n",
    "    8: [5,6,7],\n",
    "    9: [6]\n",
    "}"
   ]
  },
  {
   "cell_type": "code",
   "execution_count": 9,
   "metadata": {},
   "outputs": [
    {
     "name": "stdout",
     "output_type": "stream",
     "text": [
      "membership: {0: [0], 1: [0], 2: [0], 3: [0], 4: [0], 5: [1], 6: [1], 7: [1], 8: [1], 9: [1]}\n",
      "clustering: 01234|56789\n"
     ]
    },
    {
     "data": {
      "image/png": "[encoded data removed]",
      "text/plain": [
       "<Figure size 432x288 with 1 Axes>"
      ]
     },
     "metadata": {},
     "output_type": "display_data"
    }
   ],
   "source": [
    "Gt1 = nx.from_dict_of_lists(t1)\n",
    "Mt1 = louvain.best_partition(Gt1)\n",
    "Ct1 = Clustering(elm2clu_dict = membership(Mt1))\n",
    "summary(Gt1, Mt1, Ct1)\n",
    "plot(Gt1, Mt1)"
   ]
  },
  {
   "cell_type": "markdown",
   "metadata": {},
   "source": [
    "## Time 2\n",
    "A third group emerges as node `4` forms new connections to `6` and `9`, and drops all but one previous connection."
   ]
  },
  {
   "cell_type": "code",
   "execution_count": 10,
   "metadata": {},
   "outputs": [],
   "source": [
    "t2 = {\n",
    "    0: [1,2,3,4],\n",
    "    1: [0,2],\n",
    "    2: [0,1,3],\n",
    "    3: [0,2],\n",
    "    4: [0,6,9],\n",
    "    5: [6,8],\n",
    "    6: [4,5,7,8,9],\n",
    "    7: [6,8],\n",
    "    8: [5,6,7],\n",
    "    9: [4,6]\n",
    "}"
   ]
  },
  {
   "cell_type": "code",
   "execution_count": 11,
   "metadata": {},
   "outputs": [
    {
     "name": "stdout",
     "output_type": "stream",
     "text": [
      "nodes\n",
      "\tadded:    []\n",
      "\tremoved:  []\n",
      "links\n",
      "\tnode 0 removed [] added []\n",
      "\tnode 1 removed [4] added []\n",
      "\tnode 2 removed [] added [3]\n",
      "\tnode 3 removed [4] added [2]\n",
      "\tnode 4 removed [2, 3, 5] added [9, 6]\n",
      "\tnode 5 removed [4] added []\n",
      "\tnode 6 removed [] added [4]\n",
      "\tnode 7 removed [] added []\n",
      "\tnode 8 removed [] added []\n",
      "\tnode 9 removed [] added [4]\n"
     ]
    }
   ],
   "source": [
    "delta(t1, t2)"
   ]
  },
  {
   "cell_type": "code",
   "execution_count": 12,
   "metadata": {},
   "outputs": [
    {
     "name": "stdout",
     "output_type": "stream",
     "text": [
      "membership: {0: [0], 1: [0], 2: [0], 3: [0], 4: [1], 5: [2], 6: [2], 7: [2], 8: [2], 9: [1]}\n",
      "clustering: 0123|94|8567\n"
     ]
    },
    {
     "data": {
      "image/png": "[encoded data removed]",
      "text/plain": [
       "<Figure size 432x288 with 1 Axes>"
      ]
     },
     "metadata": {},
     "output_type": "display_data"
    }
   ],
   "source": [
    "Gt2 = nx.from_dict_of_lists(t2)\n",
    "Mt2 = louvain.best_partition(Gt2)\n",
    "Ct2 = Clustering(elm2clu_dict = membership(Mt2))\n",
    "summary(Gt2, Mt2, Ct2)\n",
    "plot(Gt2, Mt2)"
   ]
  },
  {
   "cell_type": "markdown",
   "metadata": {},
   "source": [
    "## Time 3\n",
    "The third groups begins to expand, with nodes `3` and `6` moving away from their previous groups and forming more links within their own group."
   ]
  },
  {
   "cell_type": "code",
   "execution_count": 13,
   "metadata": {},
   "outputs": [],
   "source": [
    "t3 = {\n",
    "    0: [1,2,4],\n",
    "    1: [0,2],\n",
    "    2: [0,1],\n",
    "    3: [4,6,9],\n",
    "    4: [0,3,6,9],\n",
    "    5: [6,7,8],\n",
    "    6: [3,4,5,9],\n",
    "    7: [5,8],\n",
    "    8: [5,7],\n",
    "    9: [3,4,6]\n",
    "}"
   ]
  },
  {
   "cell_type": "code",
   "execution_count": 14,
   "metadata": {},
   "outputs": [
    {
     "name": "stdout",
     "output_type": "stream",
     "text": [
      "nodes\n",
      "\tadded:    []\n",
      "\tremoved:  []\n",
      "links\n",
      "\tnode 0 removed [3] added []\n",
      "\tnode 1 removed [] added []\n",
      "\tnode 2 removed [3] added []\n",
      "\tnode 3 removed [0, 2] added [9, 4, 6]\n",
      "\tnode 4 removed [] added [3]\n",
      "\tnode 5 removed [] added [7]\n",
      "\tnode 6 removed [8, 7] added [3]\n",
      "\tnode 7 removed [6] added [5]\n",
      "\tnode 8 removed [6] added []\n",
      "\tnode 9 removed [] added [3]\n"
     ]
    }
   ],
   "source": [
    "delta(t2, t3)"
   ]
  },
  {
   "cell_type": "code",
   "execution_count": 15,
   "metadata": {},
   "outputs": [
    {
     "name": "stdout",
     "output_type": "stream",
     "text": [
      "membership: {0: [0], 1: [0], 2: [0], 3: [1], 4: [1], 5: [2], 6: [1], 7: [2], 8: [2], 9: [1]}\n",
      "clustering: 012|9346|857\n"
     ]
    },
    {
     "data": {
      "image/png": "[encoded data removed]",
      "text/plain": [
       "<Figure size 432x288 with 1 Axes>"
      ]
     },
     "metadata": {},
     "output_type": "display_data"
    }
   ],
   "source": [
    "Gt3 = nx.from_dict_of_lists(t3)\n",
    "Mt3 = louvain.best_partition(Gt3)\n",
    "Ct3 = Clustering(elm2clu_dict = membership(Mt3))\n",
    "summary(Gt3, Mt3, Ct3)\n",
    "plot(Gt3, Mt3)"
   ]
  },
  {
   "cell_type": "markdown",
   "metadata": {},
   "source": [
    "## Time 4\n",
    "Two new nodes arrive, `10` and `11`, initially connecting to node `1` and each other."
   ]
  },
  {
   "cell_type": "code",
   "execution_count": 16,
   "metadata": {},
   "outputs": [],
   "source": [
    "t4 = {\n",
    "    0: [1,2,4],\n",
    "    1: [0,2,10,11],\n",
    "    2: [0,1],\n",
    "    3: [4,6,9],\n",
    "    4: [0,3,6,9],\n",
    "    5: [6,7,8],\n",
    "    6: [3,4,5,9],\n",
    "    7: [5,8],\n",
    "    8: [5,7],\n",
    "    9: [3,4,6],\n",
    "    10: [1,11],\n",
    "    11: [1,10]\n",
    "}"
   ]
  },
  {
   "cell_type": "code",
   "execution_count": 17,
   "metadata": {},
   "outputs": [
    {
     "name": "stdout",
     "output_type": "stream",
     "text": [
      "nodes\n",
      "\tadded:    [10, 11]\n",
      "\tremoved:  []\n",
      "links\n",
      "\tnode 0 removed [] added []\n",
      "\tnode 1 removed [] added [10, 11]\n",
      "\tnode 2 removed [] added []\n",
      "\tnode 3 removed [] added []\n",
      "\tnode 4 removed [] added []\n",
      "\tnode 5 removed [] added []\n",
      "\tnode 6 removed [] added []\n",
      "\tnode 7 removed [] added []\n",
      "\tnode 8 removed [] added []\n",
      "\tnode 9 removed [] added []\n",
      "new nodes\n",
      "\tnode 10 connected to [1, 11]\n",
      "\tnode 11 connected to [1, 10]\n"
     ]
    }
   ],
   "source": [
    "delta(t3, t4)"
   ]
  },
  {
   "cell_type": "code",
   "execution_count": 18,
   "metadata": {},
   "outputs": [
    {
     "name": "stdout",
     "output_type": "stream",
     "text": [
      "membership: {0: [0], 1: [0], 2: [0], 3: [1], 4: [1], 5: [2], 6: [1], 7: [2], 8: [2], 9: [1], 10: [0], 11: [0]}\n",
      "clustering: 0121011|9346|857\n"
     ]
    },
    {
     "data": {
      "image/png": "[encoded data removed]",
      "text/plain": [
       "<Figure size 432x288 with 1 Axes>"
      ]
     },
     "metadata": {},
     "output_type": "display_data"
    }
   ],
   "source": [
    "Gt4 = nx.from_dict_of_lists(t4)\n",
    "Mt4 = louvain.best_partition(Gt4)\n",
    "Ct4 = Clustering(elm2clu_dict = membership(Mt4))\n",
    "summary(Gt4, Mt4, Ct4)\n",
    "plot(Gt4, Mt4)"
   ]
  },
  {
   "cell_type": "markdown",
   "metadata": {},
   "source": [
    "## Time 5\n",
    "A fourth group emerges with three nodes: `8`, `10`, and `11`. Additionally, with a few more link additions and removals the other groups also balance out to three nodes. "
   ]
  },
  {
   "cell_type": "code",
   "execution_count": 19,
   "metadata": {},
   "outputs": [],
   "source": [
    "t5 = {\n",
    "    0: [1,2,4],\n",
    "    1: [0,2,10,11],\n",
    "    2: [0,1],\n",
    "    3: [4,9],\n",
    "    4: [0,3,6,9],\n",
    "    5: [6,7,8],\n",
    "    6: [4,5,7,9],\n",
    "    7: [5,6],\n",
    "    8: [5,10,11],\n",
    "    9: [3,4,6],\n",
    "    10: [1,8,11],\n",
    "    11: [1,8,10]\n",
    "}"
   ]
  },
  {
   "cell_type": "code",
   "execution_count": 20,
   "metadata": {},
   "outputs": [
    {
     "name": "stdout",
     "output_type": "stream",
     "text": [
      "nodes\n",
      "\tadded:    []\n",
      "\tremoved:  []\n",
      "links\n",
      "\tnode 0 removed [] added []\n",
      "\tnode 1 removed [] added []\n",
      "\tnode 2 removed [] added []\n",
      "\tnode 3 removed [6] added []\n",
      "\tnode 4 removed [] added []\n",
      "\tnode 5 removed [] added []\n",
      "\tnode 6 removed [3] added [7]\n",
      "\tnode 7 removed [8] added [6]\n",
      "\tnode 8 removed [7] added [10, 11]\n",
      "\tnode 9 removed [] added []\n",
      "\tnode 10 removed [] added [8]\n",
      "\tnode 11 removed [] added [8]\n"
     ]
    }
   ],
   "source": [
    "delta(t4, t5)"
   ]
  },
  {
   "cell_type": "code",
   "execution_count": 21,
   "metadata": {},
   "outputs": [
    {
     "name": "stdout",
     "output_type": "stream",
     "text": [
      "membership: {0: [0], 1: [0], 2: [0], 3: [1], 4: [1], 5: [2], 6: [2], 7: [2], 8: [3], 9: [1], 10: [3], 11: [3]}\n",
      "clustering: 012|934|567|81011\n"
     ]
    },
    {
     "data": {
      "image/png": "[encoded data removed]",
      "text/plain": [
       "<Figure size 432x288 with 1 Axes>"
      ]
     },
     "metadata": {},
     "output_type": "display_data"
    }
   ],
   "source": [
    "Gt5 = nx.from_dict_of_lists(t5)\n",
    "Mt5 = louvain.best_partition(Gt5)\n",
    "Ct5 = Clustering(elm2clu_dict = membership(Mt5))\n",
    "summary(Gt5, Mt5, Ct5)\n",
    "plot(Gt5, Mt5)"
   ]
  },
  {
   "cell_type": "markdown",
   "metadata": {},
   "source": [
    "## Time 6\n",
    "a subtraction (remove a node)"
   ]
  },
  {
   "cell_type": "code",
   "execution_count": 22,
   "metadata": {},
   "outputs": [],
   "source": [
    "t6 = {\n",
    "    0: [1,2,4],\n",
    "    1: [0,2,10,11],\n",
    "    2: [0,1],\n",
    "    3: [4,9],\n",
    "    4: [0,3,9],\n",
    "    5: [7,8],\n",
    "    7: [5],\n",
    "    8: [5,10,11],\n",
    "    9: [3,4],\n",
    "    10: [1,8,11],\n",
    "    11: [1,8,10]\n",
    "}"
   ]
  },
  {
   "cell_type": "code",
   "execution_count": 23,
   "metadata": {},
   "outputs": [
    {
     "name": "stdout",
     "output_type": "stream",
     "text": [
      "nodes\n",
      "\tadded:    []\n",
      "\tremoved:  [6]\n",
      "links\n",
      "\tnode 0 removed [] added []\n",
      "\tnode 1 removed [] added []\n",
      "\tnode 2 removed [] added []\n",
      "\tnode 3 removed [] added []\n",
      "\tnode 4 removed [6] added []\n",
      "\tnode 5 removed [6] added []\n",
      "\tnode 7 removed [6] added []\n",
      "\tnode 8 removed [] added []\n",
      "\tnode 9 removed [6] added []\n",
      "\tnode 10 removed [] added []\n",
      "\tnode 11 removed [] added []\n"
     ]
    }
   ],
   "source": [
    "delta(t5, t6)"
   ]
  },
  {
   "cell_type": "code",
   "execution_count": 24,
   "metadata": {},
   "outputs": [
    {
     "name": "stdout",
     "output_type": "stream",
     "text": [
      "membership: {0: [0], 1: [0], 2: [0], 3: [1], 4: [1], 5: [2], 7: [2], 8: [2], 9: [1], 10: [2], 11: [2]}\n",
      "clustering: 012|934|5781011\n"
     ]
    },
    {
     "data": {
      "image/png": "[encoded data removed]",
      "text/plain": [
       "<Figure size 432x288 with 1 Axes>"
      ]
     },
     "metadata": {},
     "output_type": "display_data"
    }
   ],
   "source": [
    "Gt6 = nx.from_dict_of_lists(t6)\n",
    "Mt6 = louvain.best_partition(Gt6)\n",
    "Ct6 = Clustering(elm2clu_dict = membership(Mt6))\n",
    "summary(Gt6, Mt6, Ct6)\n",
    "plot(Gt6, Mt6)"
   ]
  },
  {
   "cell_type": "markdown",
   "metadata": {},
   "source": [
    "# Comparing Clustering"
   ]
  },
  {
   "cell_type": "code",
   "execution_count": 25,
   "metadata": {},
   "outputs": [],
   "source": [
    "elementScores, relabeled_elements = sim.element_sim_elscore(Ct1, Ct2, alpha = 0.9)"
   ]
  },
  {
   "cell_type": "code",
   "execution_count": 26,
   "metadata": {},
   "outputs": [
    {
     "name": "stdout",
     "output_type": "stream",
     "text": [
      "{0: 0, 1: 1, 2: 2, 3: 3, 4: 4, 5: 5, 6: 6, 7: 7, 8: 8, 9: 9}\n"
     ]
    }
   ],
   "source": [
    "print(relabeled_elements)"
   ]
  },
  {
   "cell_type": "code",
   "execution_count": 27,
   "metadata": {},
   "outputs": [
    {
     "name": "stdout",
     "output_type": "stream",
     "text": [
      "Node    Score \n",
      "------  ------\n",
      "     0  0.800\n",
      "     1  0.800\n",
      "     2  0.800\n",
      "     3  0.800\n",
      "     4  0.200\n",
      "     5  0.800\n",
      "     6  0.800\n",
      "     7  0.800\n",
      "     8  0.800\n",
      "     9  0.200\n"
     ]
    }
   ],
   "source": [
    "print(\"{0:6s}  {1:6s}\".format(\"Node\", \"Score\"))\n",
    "print(\"------  ------\")\n",
    "for e in relabeled_elements:\n",
    "    loc = relabeled_elements[e]\n",
    "    print(\"{0:6d}  {1:2.3f}\".format(e,elementScores[loc]))"
   ]
  },
  {
   "cell_type": "code",
   "execution_count": 28,
   "metadata": {},
   "outputs": [],
   "source": [
    "cont_table = sim.contingency_table(Ct1, Ct2)"
   ]
  },
  {
   "cell_type": "code",
   "execution_count": 29,
   "metadata": {},
   "outputs": [
    {
     "name": "stdout",
     "output_type": "stream",
     "text": [
      "[[4, 1, 0], [0, 1, 4]]\n"
     ]
    }
   ],
   "source": [
    "print(cont_table)"
   ]
  },
  {
   "cell_type": "code",
   "execution_count": 30,
   "metadata": {},
   "outputs": [
    {
     "name": "stdout",
     "output_type": "stream",
     "text": [
      "12.0 element pairs assigned to the same clusters in both clusterings\n",
      "8.0 element pairs assigned to the same clusters in clustering1, but different clusters in clustering2\n",
      "1.0 element pairs assigned to different clusters in clustering1, but the same clusters in clustering2\n",
      "24.0 element pairs assigned to different clusters in both clusterings\n"
     ]
    }
   ],
   "source": [
    "N11, N10, N01, N00 = sim.count_pairwise_cooccurence(Ct1, Ct2)\n",
    "print(N11,\n",
    "        \"element pairs assigned to the same clusters in both clusterings\")\n",
    "print(N10,\n",
    "        \"element pairs assigned to the same clusters in clustering1, but \"\n",
    "        \"different clusters in clustering2\")\n",
    "print(N01, \"element pairs assigned to different clusters in \"\n",
    "               \"clustering1, but the same clusters in clustering2\")\n",
    "print(N00, \"element pairs assigned to different clusters in both \"\n",
    "               \"clusterings\")"
   ]
  },
  {
   "cell_type": "markdown",
   "metadata": {},
   "source": [
    "# Lists of Data"
   ]
  },
  {
   "cell_type": "code",
   "execution_count": 31,
   "metadata": {},
   "outputs": [],
   "source": [
    "graphs = [Gt1, Gt2, Gt3, Gt4, Gt5, Gt6]\n",
    "modularities = [Mt1, Mt2, Mt3, Mt4, Mt5, Mt6]\n",
    "clusterings = [Ct1, Ct2, Ct3, Ct4, Ct5, Ct6]"
   ]
  },
  {
   "cell_type": "markdown",
   "metadata": {},
   "source": [
    "# Viewing Change in Clustering"
   ]
  },
  {
   "cell_type": "markdown",
   "metadata": {},
   "source": [
    "## prepare the data"
   ]
  },
  {
   "cell_type": "code",
   "execution_count": 32,
   "metadata": {},
   "outputs": [],
   "source": [
    "import pandas as pd\n",
    "import numpy as np\n",
    "import qgrid"
   ]
  },
  {
   "cell_type": "markdown",
   "metadata": {},
   "source": [
    "### Build a DataFrame with cluster assignments"
   ]
  },
  {
   "cell_type": "code",
   "execution_count": 33,
   "metadata": {},
   "outputs": [],
   "source": [
    "import itertools\n",
    "\n",
    "colNames = [\"Node\"]\n",
    "nodes = sorted(set(itertools.chain.from_iterable([list(m.keys()) for m in modularities])))"
   ]
  },
  {
   "cell_type": "code",
   "execution_count": 34,
   "metadata": {},
   "outputs": [],
   "source": [
    "df = pd.DataFrame(columns=colNames)"
   ]
  },
  {
   "cell_type": "code",
   "execution_count": 35,
   "metadata": {},
   "outputs": [],
   "source": [
    "df.Node = nodes"
   ]
  },
  {
   "cell_type": "code",
   "execution_count": 36,
   "metadata": {},
   "outputs": [],
   "source": [
    "timex = Counter(1)\n",
    "missing = -1\n",
    "\n",
    "# ToDo: this needs to handle missing in terms of:\n",
    "#  - nodes missing because they were not present in the time slice\n",
    "#  - nodes that were presend, but are now deleted\n",
    "\n",
    "def addTimeSlice(ts, df):\n",
    "    time = \"T{}\".format(timex())\n",
    "    v = []\n",
    "    for i in df.Node:\n",
    "        if i in ts:\n",
    "            v.append(ts[i])\n",
    "        else:\n",
    "            v.append(missing)\n",
    "    print(time, v)\n",
    "    df[time] = v"
   ]
  },
  {
   "cell_type": "code",
   "execution_count": 37,
   "metadata": {},
   "outputs": [
    {
     "name": "stdout",
     "output_type": "stream",
     "text": [
      "T1 [0, 0, 0, 0, 0, 1, 1, 1, 1, 1, -1, -1]\n",
      "T2 [0, 0, 0, 0, 1, 2, 2, 2, 2, 1, -1, -1]\n",
      "T3 [0, 0, 0, 1, 1, 2, 1, 2, 2, 1, -1, -1]\n",
      "T4 [0, 0, 0, 1, 1, 2, 1, 2, 2, 1, 0, 0]\n",
      "T5 [0, 0, 0, 1, 1, 2, 2, 2, 3, 1, 3, 3]\n",
      "T6 [0, 0, 0, 1, 1, 2, -1, 2, 2, 1, 2, 2]\n"
     ]
    }
   ],
   "source": [
    "for ts in modularities:\n",
    "    addTimeSlice(ts, df)"
   ]
  },
  {
   "cell_type": "code",
   "execution_count": 38,
   "metadata": {},
   "outputs": [
    {
     "data": {
      "application/vnd.jupyter.widget-view+json": {
       "model_id": "84de9e5f25a44ab49fca5f0fcdf0743a",
       "version_major": 2,
       "version_minor": 0
      },
      "text/plain": [
       "QgridWidget(grid_options={'fullWidthRows': True, 'syncColumnCellResize': True, 'forceFitColumns': True, 'defau…"
      ]
     },
     "metadata": {},
     "output_type": "display_data"
    }
   ],
   "source": [
    "w = qgrid.show_grid(df, show_toolbar=True)\n",
    "w"
   ]
  },
  {
   "cell_type": "code",
   "execution_count": 39,
   "metadata": {},
   "outputs": [
    {
     "data": {
      "application/vnd.jupyter.widget-view+json": {
       "model_id": "68b74507b80b49019dfdf348ea9ba640",
       "version_major": 2,
       "version_minor": 0
      }
     },
     "metadata": {},
     "output_type": "display_data"
    }
   ],
   "source": [
    "df"
   ]
  },
  {
   "cell_type": "markdown",
   "metadata": {},
   "source": [
    "`computeFlows`\n",
    "\n",
    "- returns a `dict` that contains flow information between two time slices\n",
    "  - sources\n",
    "  - targets\n",
    "  - labels\n",
    "  - flows"
   ]
  },
  {
   "cell_type": "code",
   "execution_count": 40,
   "metadata": {},
   "outputs": [],
   "source": [
    "def computeFlows(d1, d2, data, index):\n",
    "    if len(data['targets']) > 0:\n",
    "        data['sources'] = data['targets']\n",
    "        data['targets'] = {}\n",
    "        data['labels'] = []\n",
    "        data['flows'] = {}\n",
    "    \n",
    "    for i in range(len(d1)):\n",
    "        source = d1[i]\n",
    "        target = d2[i]\n",
    "\n",
    "        if source < 0 or target < 0:\n",
    "            continue\n",
    "\n",
    "        if source in data['sources']:\n",
    "            source_index = data['sources'][source]['index']\n",
    "        else:\n",
    "            source_index = index()\n",
    "            data['sources'][source] = {'index': source_index, 'label': source}\n",
    "            data['labels'].append(source)\n",
    "\n",
    "        if target in data['targets']:\n",
    "            target_index = data['targets'][target]['index']\n",
    "        else:\n",
    "            target_index = index()\n",
    "            data['targets'][target] = {'index': target_index, 'label': target}\n",
    "            data['labels'].append(target)\n",
    "\n",
    "        flow = \"{} -> {}\".format(source_index, target_index)\n",
    "\n",
    "        print(\"source: {} target: {} flow: {}\".format(source, target, flow))\n",
    "\n",
    "        if flow in data['flows']:\n",
    "            data['flows'][flow] += 1\n",
    "        else:\n",
    "            data['flows'][flow] = 1"
   ]
  },
  {
   "cell_type": "markdown",
   "metadata": {},
   "source": [
    "`analyzeFlows`\n",
    "\n",
    "given **flow** information, produces separate arrays for labels, colors, sources, targets, values"
   ]
  },
  {
   "cell_type": "code",
   "execution_count": 41,
   "metadata": {},
   "outputs": [],
   "source": [
    "colorMap = {\n",
    "    0: \"red\",\n",
    "    1: \"blue\",\n",
    "    2: \"magenta\",\n",
    "    3: \"green\",\n",
    "    4: \"yellow\",\n",
    "    5: \"orange\"\n",
    "}"
   ]
  },
  {
   "cell_type": "code",
   "execution_count": 42,
   "metadata": {},
   "outputs": [],
   "source": [
    "def analyzeFlows(data):\n",
    "    labels = data['labels']\n",
    "    colors = [colorMap[x] for x in data['labels']]\n",
    "    sources = []\n",
    "    targets = []\n",
    "    values = []\n",
    "    for flow in data['flows']:\n",
    "        src = flow.split()[0]\n",
    "        dst = flow.split()[2]\n",
    "        sources.append(src)\n",
    "        targets.append(dst)\n",
    "        values.append(data['flows'][flow])\n",
    "    return labels, colors, sources, targets, values"
   ]
  },
  {
   "cell_type": "markdown",
   "metadata": {},
   "source": [
    "process the temporal network data: compute and extract flow information"
   ]
  },
  {
   "cell_type": "code",
   "execution_count": 43,
   "metadata": {},
   "outputs": [],
   "source": [
    "data = {\n",
    "    'sources': {},\n",
    "    'targets': {},\n",
    "    'labels': [],\n",
    "    'flows': {}\n",
    "}"
   ]
  },
  {
   "cell_type": "code",
   "execution_count": 44,
   "metadata": {},
   "outputs": [],
   "source": [
    "index = Counter(0)"
   ]
  },
  {
   "cell_type": "code",
   "execution_count": 45,
   "metadata": {},
   "outputs": [],
   "source": [
    "labels = []\n",
    "colors = []\n",
    "sources = []\n",
    "targets = []\n",
    "values = []"
   ]
  },
  {
   "cell_type": "code",
   "execution_count": 46,
   "metadata": {},
   "outputs": [],
   "source": [
    "timeColumns = list(filter(lambda x: x.startswith(\"T\"), df.columns))"
   ]
  },
  {
   "cell_type": "code",
   "execution_count": 47,
   "metadata": {},
   "outputs": [
    {
     "name": "stdout",
     "output_type": "stream",
     "text": [
      "Getting results for T1 -> T2\n",
      "T1 : [ 0  0  0  0  0  1  1  1  1  1 -1 -1]\n",
      "T2 : [ 0  0  0  0  1  2  2  2  2  1 -1 -1]\n",
      "source: 0 target: 0 flow: 0 -> 1\n",
      "source: 0 target: 0 flow: 0 -> 1\n",
      "source: 0 target: 0 flow: 0 -> 1\n",
      "source: 0 target: 0 flow: 0 -> 1\n",
      "source: 0 target: 1 flow: 0 -> 2\n",
      "source: 1 target: 2 flow: 3 -> 4\n",
      "source: 1 target: 2 flow: 3 -> 4\n",
      "source: 1 target: 2 flow: 3 -> 4\n",
      "source: 1 target: 2 flow: 3 -> 4\n",
      "source: 1 target: 1 flow: 3 -> 2\n",
      "computeFlows:\n",
      " sources: {0: {'index': 0, 'label': 0}, 1: {'index': 3, 'label': 1}}\n",
      " targets: {0: {'index': 1, 'label': 0}, 1: {'index': 2, 'label': 1}, 2: {'index': 4, 'label': 2}}\n",
      " labels: [0, 0, 1, 1, 2]\n",
      " flows: {'0 -> 1': 4, '0 -> 2': 1, '3 -> 4': 4, '3 -> 2': 1}\n",
      "analyzeFlows:\n",
      "  [0, 0, 1, 1, 2]\n",
      "  ['red', 'red', 'blue', 'blue', 'magenta']\n",
      "  ['0', '0', '3', '3']\n",
      "  ['1', '2', '4', '2']\n",
      "  [4, 1, 4, 1]\n",
      "Getting results for T2 -> T3\n",
      "T2 : [ 0  0  0  0  1  2  2  2  2  1 -1 -1]\n",
      "T3 : [ 0  0  0  1  1  2  1  2  2  1 -1 -1]\n",
      "source: 0 target: 0 flow: 1 -> 5\n",
      "source: 0 target: 0 flow: 1 -> 5\n",
      "source: 0 target: 0 flow: 1 -> 5\n",
      "source: 0 target: 1 flow: 1 -> 6\n",
      "source: 1 target: 1 flow: 2 -> 6\n",
      "source: 2 target: 2 flow: 4 -> 7\n",
      "source: 2 target: 1 flow: 4 -> 6\n",
      "source: 2 target: 2 flow: 4 -> 7\n",
      "source: 2 target: 2 flow: 4 -> 7\n",
      "source: 1 target: 1 flow: 2 -> 6\n",
      "computeFlows:\n",
      " sources: {0: {'index': 1, 'label': 0}, 1: {'index': 2, 'label': 1}, 2: {'index': 4, 'label': 2}}\n",
      " targets: {0: {'index': 5, 'label': 0}, 1: {'index': 6, 'label': 1}, 2: {'index': 7, 'label': 2}}\n",
      " labels: [0, 1, 2]\n",
      " flows: {'1 -> 5': 3, '1 -> 6': 1, '2 -> 6': 2, '4 -> 7': 3, '4 -> 6': 1}\n",
      "analyzeFlows:\n",
      "  [0, 1, 2]\n",
      "  ['red', 'blue', 'magenta']\n",
      "  ['1', '1', '2', '4', '4']\n",
      "  ['5', '6', '6', '7', '6']\n",
      "  [3, 1, 2, 3, 1]\n",
      "Getting results for T3 -> T4\n",
      "T3 : [ 0  0  0  1  1  2  1  2  2  1 -1 -1]\n",
      "T4 : [0 0 0 1 1 2 1 2 2 1 0 0]\n",
      "source: 0 target: 0 flow: 5 -> 8\n",
      "source: 0 target: 0 flow: 5 -> 8\n",
      "source: 0 target: 0 flow: 5 -> 8\n",
      "source: 1 target: 1 flow: 6 -> 9\n",
      "source: 1 target: 1 flow: 6 -> 9\n",
      "source: 2 target: 2 flow: 7 -> 10\n",
      "source: 1 target: 1 flow: 6 -> 9\n",
      "source: 2 target: 2 flow: 7 -> 10\n",
      "source: 2 target: 2 flow: 7 -> 10\n",
      "source: 1 target: 1 flow: 6 -> 9\n",
      "computeFlows:\n",
      " sources: {0: {'index': 5, 'label': 0}, 1: {'index': 6, 'label': 1}, 2: {'index': 7, 'label': 2}}\n",
      " targets: {0: {'index': 8, 'label': 0}, 1: {'index': 9, 'label': 1}, 2: {'index': 10, 'label': 2}}\n",
      " labels: [0, 1, 2]\n",
      " flows: {'5 -> 8': 3, '6 -> 9': 4, '7 -> 10': 3}\n",
      "analyzeFlows:\n",
      "  [0, 1, 2]\n",
      "  ['red', 'blue', 'magenta']\n",
      "  ['5', '6', '7']\n",
      "  ['8', '9', '10']\n",
      "  [3, 4, 3]\n",
      "Getting results for T4 -> T5\n",
      "T4 : [0 0 0 1 1 2 1 2 2 1 0 0]\n",
      "T5 : [0 0 0 1 1 2 2 2 3 1 3 3]\n",
      "source: 0 target: 0 flow: 8 -> 11\n",
      "source: 0 target: 0 flow: 8 -> 11\n",
      "source: 0 target: 0 flow: 8 -> 11\n",
      "source: 1 target: 1 flow: 9 -> 12\n",
      "source: 1 target: 1 flow: 9 -> 12\n",
      "source: 2 target: 2 flow: 10 -> 13\n",
      "source: 1 target: 2 flow: 9 -> 13\n",
      "source: 2 target: 2 flow: 10 -> 13\n",
      "source: 2 target: 3 flow: 10 -> 14\n",
      "source: 1 target: 1 flow: 9 -> 12\n",
      "source: 0 target: 3 flow: 8 -> 14\n",
      "source: 0 target: 3 flow: 8 -> 14\n",
      "computeFlows:\n",
      " sources: {0: {'index': 8, 'label': 0}, 1: {'index': 9, 'label': 1}, 2: {'index': 10, 'label': 2}}\n",
      " targets: {0: {'index': 11, 'label': 0}, 1: {'index': 12, 'label': 1}, 2: {'index': 13, 'label': 2}, 3: {'index': 14, 'label': 3}}\n",
      " labels: [0, 1, 2, 3]\n",
      " flows: {'8 -> 11': 3, '9 -> 12': 3, '10 -> 13': 2, '9 -> 13': 1, '10 -> 14': 1, '8 -> 14': 2}\n",
      "analyzeFlows:\n",
      "  [0, 1, 2, 3]\n",
      "  ['red', 'blue', 'magenta', 'green']\n",
      "  ['8', '9', '10', '9', '10', '8']\n",
      "  ['11', '12', '13', '13', '14', '14']\n",
      "  [3, 3, 2, 1, 1, 2]\n",
      "Getting results for T5 -> T6\n",
      "T5 : [0 0 0 1 1 2 2 2 3 1 3 3]\n",
      "T6 : [ 0  0  0  1  1  2 -1  2  2  1  2  2]\n",
      "source: 0 target: 0 flow: 11 -> 15\n",
      "source: 0 target: 0 flow: 11 -> 15\n",
      "source: 0 target: 0 flow: 11 -> 15\n",
      "source: 1 target: 1 flow: 12 -> 16\n",
      "source: 1 target: 1 flow: 12 -> 16\n",
      "source: 2 target: 2 flow: 13 -> 17\n",
      "source: 2 target: 2 flow: 13 -> 17\n",
      "source: 3 target: 2 flow: 14 -> 17\n",
      "source: 1 target: 1 flow: 12 -> 16\n",
      "source: 3 target: 2 flow: 14 -> 17\n",
      "source: 3 target: 2 flow: 14 -> 17\n",
      "computeFlows:\n",
      " sources: {0: {'index': 11, 'label': 0}, 1: {'index': 12, 'label': 1}, 2: {'index': 13, 'label': 2}, 3: {'index': 14, 'label': 3}}\n",
      " targets: {0: {'index': 15, 'label': 0}, 1: {'index': 16, 'label': 1}, 2: {'index': 17, 'label': 2}}\n",
      " labels: [0, 1, 2]\n",
      " flows: {'11 -> 15': 3, '12 -> 16': 3, '13 -> 17': 2, '14 -> 17': 3}\n",
      "analyzeFlows:\n",
      "  [0, 1, 2]\n",
      "  ['red', 'blue', 'magenta']\n",
      "  ['11', '12', '13', '14']\n",
      "  ['15', '16', '17', '17']\n",
      "  [3, 3, 2, 3]\n"
     ]
    }
   ],
   "source": [
    "for i in range(len(timeColumns) - 1):\n",
    "    j = i + 1\n",
    "    t1 = timeColumns[i]\n",
    "    t2 = timeColumns[j]\n",
    "    d1 = df[t1].values\n",
    "    d2 = df[t2].values\n",
    "    print(\"Getting results for {} -> {}\".format(t1,t2))\n",
    "    print(t1,\":\",d1)\n",
    "    print(t2,\":\",d2)\n",
    "    computeFlows(d1, d2, data, index)\n",
    "    print(\"computeFlows:\")\n",
    "    print(\" sources:\",data['sources'])\n",
    "    print(\" targets:\",data['targets'])\n",
    "    print(\" labels:\",data['labels'])\n",
    "    print(\" flows:\",data['flows'])\n",
    "\n",
    "    results = analyzeFlows(data)\n",
    "    print(\"analyzeFlows:\")\n",
    "    [print(\" \",x) for x in results]\n",
    "    labels += results[0]\n",
    "    colors += results[1]\n",
    "    sources += results[2]\n",
    "    targets += results[3]\n",
    "    values += results[4]"
   ]
  },
  {
   "cell_type": "code",
   "execution_count": 48,
   "metadata": {},
   "outputs": [
    {
     "name": "stdout",
     "output_type": "stream",
     "text": [
      "labels: [0, 0, 1, 1, 2, 0, 1, 2, 0, 1, 2, 0, 1, 2, 3, 0, 1, 2]\n",
      "colors: ['red', 'red', 'blue', 'blue', 'magenta', 'red', 'blue', 'magenta', 'red', 'blue', 'magenta', 'red', 'blue', 'magenta', 'green', 'red', 'blue', 'magenta']\n",
      "sources: ['0', '0', '3', '3', '1', '1', '2', '4', '4', '5', '6', '7', '8', '9', '10', '9', '10', '8', '11', '12', '13', '14']\n",
      "targets: ['1', '2', '4', '2', '5', '6', '6', '7', '6', '8', '9', '10', '11', '12', '13', '13', '14', '14', '15', '16', '17', '17']\n",
      "values: [4, 1, 4, 1, 3, 1, 2, 3, 1, 3, 4, 3, 3, 3, 2, 1, 1, 2, 3, 3, 2, 3]\n"
     ]
    }
   ],
   "source": [
    "print(\"labels:\", labels)\n",
    "print(\"colors:\", colors)\n",
    "print(\"sources:\", sources)\n",
    "print(\"targets:\", targets)\n",
    "print(\"values:\", values)"
   ]
  },
  {
   "cell_type": "markdown",
   "metadata": {},
   "source": [
    "`plotFlow`\n",
    "\n",
    "produce a *Sankey Diagram* from the flow information"
   ]
  },
  {
   "cell_type": "markdown",
   "metadata": {},
   "source": [
    "Note: using Plotly requires:\n",
    "1. signing up (there's a free option): https://plot.ly/api_signup\n",
    "2. generating an API key: https://plot.ly/settings/api#/\n",
    "   - which must be stored in `~/.plotly/.credentials`\n",
    "   \n",
    "```\n",
    "{\n",
    "    \"username\": \"muftring\",\n",
    "    \"api_key\": \"pLqC2SZPVIAuwyJQv3nS\",\n",
    "    \"stream_ids\": []\n",
    "}\n",
    "```"
   ]
  },
  {
   "cell_type": "code",
   "execution_count": 49,
   "metadata": {},
   "outputs": [],
   "source": [
    "import plotly\n",
    "plotly.tools.set_credentials_file(username='muftring', api_key='JZKR7bF7LAZWIYnSpXUQ')"
   ]
  },
  {
   "cell_type": "code",
   "execution_count": 50,
   "metadata": {},
   "outputs": [],
   "source": [
    "import plotly.plotly as py\n",
    "\n",
    "def plotFlow(labels, colors, sources, targets, values):\n",
    "    data = dict(\n",
    "        type='sankey',\n",
    "        node = dict(\n",
    "          pad = 15,\n",
    "          thickness = 20,\n",
    "          line = dict(\n",
    "            color = \"black\",\n",
    "            width = 0.5\n",
    "          ),\n",
    "          label = labels,\n",
    "          color = colors\n",
    "        ),\n",
    "        link = dict(\n",
    "          source = sources,\n",
    "          target = targets,\n",
    "          value = values\n",
    "      ))\n",
    "\n",
    "    layout =  dict(\n",
    "        title = \"Title\",\n",
    "        font = dict(\n",
    "          size = 10\n",
    "        )\n",
    "    )\n",
    "\n",
    "    fig = dict(data=[data], layout=layout)\n",
    "    return py.iplot(fig, validate=False)"
   ]
  },
  {
   "cell_type": "code",
   "execution_count": 51,
   "metadata": {},
   "outputs": [
    {
     "data": {
      "text/html": [
       "<iframe id=\"igraph\" scrolling=\"no\" style=\"border:none;\" seamless=\"seamless\" src=\"https://plot.ly/~muftring/64.embed\" height=\"525px\" width=\"100%\"></iframe>"
      ],
      "text/plain": [
       "<plotly.tools.PlotlyDisplay object>"
      ]
     },
     "execution_count": 51,
     "metadata": {},
     "output_type": "execute_result"
    }
   ],
   "source": [
    "plotFlow(labels, colors, sources, targets, values)"
   ]
  },
  {
   "cell_type": "markdown",
   "metadata": {},
   "source": [
    "# Use `ipysankeywidget` and `floweaver`\n",
    "- [`ipysankeywidget`](https://github.com/ricklupton/ipysankeywidget)\n",
    "- [`floweaver`](https://github.com/ricklupton/floweaver)\n",
    "  - [docs](https://floweaver.readthedocs.io/en/latest/index.html)"
   ]
  },
  {
   "cell_type": "markdown",
   "metadata": {},
   "source": [
    "## ipysankeywidget"
   ]
  },
  {
   "cell_type": "markdown",
   "metadata": {},
   "source": [
    "convenience function to produce diagram"
   ]
  },
  {
   "cell_type": "code",
   "execution_count": 70,
   "metadata": {},
   "outputs": [],
   "source": [
    "from ipysankeywidget import SankeyWidget\n",
    "from ipywidgets import Layout"
   ]
  },
  {
   "cell_type": "code",
   "execution_count": 71,
   "metadata": {},
   "outputs": [],
   "source": [
    "layout = Layout(width=\"800\", height=\"600\")\n",
    "def sankey(margin_top=10, **value):\n",
    "    \"\"\"Show SankeyWidget with default values for size and margins\"\"\"\n",
    "    return SankeyWidget(layout=layout,\n",
    "                        margins=dict(top=margin_top, bottom=0, left=30, right=60),\n",
    "                        **value)"
   ]
  },
  {
   "cell_type": "code",
   "execution_count": null,
   "metadata": {},
   "outputs": [],
   "source": []
  },
  {
   "cell_type": "code",
   "execution_count": 72,
   "metadata": {},
   "outputs": [
    {
     "name": "stdout",
     "output_type": "stream",
     "text": [
      "labels: [0, 0, 1, 1, 2, 0, 1, 2, 0, 1, 2, 0, 1, 2, 3, 0, 1, 2]\n",
      "colors: ['red', 'red', 'blue', 'blue', 'magenta', 'red', 'blue', 'magenta', 'red', 'blue', 'magenta', 'red', 'blue', 'magenta', 'green', 'red', 'blue', 'magenta']\n",
      "sources: ['0', '0', '3', '3', '1', '1', '2', '4', '4', '5', '6', '7', '8', '9', '10', '9', '10', '8', '11', '12', '13', '14']\n",
      "targets: ['1', '2', '4', '2', '5', '6', '6', '7', '6', '8', '9', '10', '11', '12', '13', '13', '14', '14', '15', '16', '17', '17']\n",
      "values: [4, 1, 4, 1, 3, 1, 2, 3, 1, 3, 4, 3, 3, 3, 2, 1, 1, 2, 3, 3, 2, 3]\n"
     ]
    }
   ],
   "source": [
    "print(\"labels:\", labels)\n",
    "print(\"colors:\", colors)\n",
    "print(\"sources:\", sources)\n",
    "print(\"targets:\", targets)\n",
    "print(\"values:\", values)"
   ]
  },
  {
   "cell_type": "code",
   "execution_count": 73,
   "metadata": {},
   "outputs": [],
   "source": [
    "types = ['w','x', 'y', 'z']"
   ]
  },
  {
   "cell_type": "code",
   "execution_count": 74,
   "metadata": {},
   "outputs": [],
   "source": [
    "type2Color = {\n",
    "    'w': 'red',\n",
    "    'x': 'blue',\n",
    "    'y': 'magenta',\n",
    "    'z': 'green'\n",
    "}"
   ]
  },
  {
   "cell_type": "code",
   "execution_count": 75,
   "metadata": {},
   "outputs": [],
   "source": [
    "nodes = []"
   ]
  },
  {
   "cell_type": "code",
   "execution_count": 76,
   "metadata": {},
   "outputs": [],
   "source": [
    "for i in range(len(labels)):\n",
    "    nodes.append({'id': str(i), 'title': str(labels[i])})"
   ]
  },
  {
   "cell_type": "code",
   "execution_count": 77,
   "metadata": {},
   "outputs": [
    {
     "data": {
      "text/plain": [
       "[{'id': '0', 'title': '0'},\n",
       " {'id': '1', 'title': '0'},\n",
       " {'id': '2', 'title': '1'},\n",
       " {'id': '3', 'title': '1'},\n",
       " {'id': '4', 'title': '2'},\n",
       " {'id': '5', 'title': '0'},\n",
       " {'id': '6', 'title': '1'},\n",
       " {'id': '7', 'title': '2'},\n",
       " {'id': '8', 'title': '0'},\n",
       " {'id': '9', 'title': '1'},\n",
       " {'id': '10', 'title': '2'},\n",
       " {'id': '11', 'title': '0'},\n",
       " {'id': '12', 'title': '1'},\n",
       " {'id': '13', 'title': '2'},\n",
       " {'id': '14', 'title': '3'},\n",
       " {'id': '15', 'title': '0'},\n",
       " {'id': '16', 'title': '1'},\n",
       " {'id': '17', 'title': '2'}]"
      ]
     },
     "execution_count": 77,
     "metadata": {},
     "output_type": "execute_result"
    }
   ],
   "source": [
    "nodes"
   ]
  },
  {
   "cell_type": "code",
   "execution_count": 78,
   "metadata": {},
   "outputs": [],
   "source": [
    "links = []"
   ]
  },
  {
   "cell_type": "code",
   "execution_count": 79,
   "metadata": {},
   "outputs": [],
   "source": [
    "for i in range(len(sources)):\n",
    "    t = types[labels[int(sources[i])]]\n",
    "    links.append({'source': sources[i], 'target': targets[i], 'value': values[i], 'type': t})"
   ]
  },
  {
   "cell_type": "code",
   "execution_count": 80,
   "metadata": {},
   "outputs": [
    {
     "data": {
      "text/plain": [
       "[{'source': '0', 'target': '1', 'value': 4, 'type': 'w'},\n",
       " {'source': '0', 'target': '2', 'value': 1, 'type': 'w'},\n",
       " {'source': '3', 'target': '4', 'value': 4, 'type': 'x'},\n",
       " {'source': '3', 'target': '2', 'value': 1, 'type': 'x'},\n",
       " {'source': '1', 'target': '5', 'value': 3, 'type': 'w'},\n",
       " {'source': '1', 'target': '6', 'value': 1, 'type': 'w'},\n",
       " {'source': '2', 'target': '6', 'value': 2, 'type': 'x'},\n",
       " {'source': '4', 'target': '7', 'value': 3, 'type': 'y'},\n",
       " {'source': '4', 'target': '6', 'value': 1, 'type': 'y'},\n",
       " {'source': '5', 'target': '8', 'value': 3, 'type': 'w'},\n",
       " {'source': '6', 'target': '9', 'value': 4, 'type': 'x'},\n",
       " {'source': '7', 'target': '10', 'value': 3, 'type': 'y'},\n",
       " {'source': '8', 'target': '11', 'value': 3, 'type': 'w'},\n",
       " {'source': '9', 'target': '12', 'value': 3, 'type': 'x'},\n",
       " {'source': '10', 'target': '13', 'value': 2, 'type': 'y'},\n",
       " {'source': '9', 'target': '13', 'value': 1, 'type': 'x'},\n",
       " {'source': '10', 'target': '14', 'value': 1, 'type': 'y'},\n",
       " {'source': '8', 'target': '14', 'value': 2, 'type': 'w'},\n",
       " {'source': '11', 'target': '15', 'value': 3, 'type': 'w'},\n",
       " {'source': '12', 'target': '16', 'value': 3, 'type': 'x'},\n",
       " {'source': '13', 'target': '17', 'value': 2, 'type': 'y'},\n",
       " {'source': '14', 'target': '17', 'value': 3, 'type': 'z'}]"
      ]
     },
     "execution_count": 80,
     "metadata": {},
     "output_type": "execute_result"
    }
   ],
   "source": [
    "links"
   ]
  },
  {
   "cell_type": "code",
   "execution_count": 81,
   "metadata": {},
   "outputs": [
    {
     "data": {
      "text/html": [
       "<style>\n",
       ".sankey .node {\n",
       "    font-family: \"sans-serif\";\n",
       "    font-size: 24px;\n",
       "    font-style: normal;\n",
       "    font-weight: bold;\n",
       "}\n",
       "</style>"
      ],
      "text/plain": [
       "<IPython.core.display.HTML object>"
      ]
     },
     "metadata": {},
     "output_type": "display_data"
    }
   ],
   "source": [
    "%%html\n",
    "<style>\n",
    ".sankey .node {\n",
    "    font-family: \"sans-serif\";\n",
    "    font-size: 24px;\n",
    "    font-style: normal;\n",
    "    font-weight: bold;\n",
    "}\n",
    "</style>"
   ]
  },
  {
   "cell_type": "code",
   "execution_count": 82,
   "metadata": {},
   "outputs": [
    {
     "data": {
      "application/vnd.jupyter.widget-view+json": {
       "model_id": "b90ae39ef7b943f0aa99a85d76d5366a",
       "version_major": 2,
       "version_minor": 0
      },
      "text/plain": [
       "SankeyWidget(align_link_types=True, layout=Layout(height='600', width='800'), links=[{'source': '0', 'target':…"
      ]
     },
     "metadata": {},
     "output_type": "display_data"
    }
   ],
   "source": [
    "sankey(links=links, nodes=nodes, align_link_types=True)"
   ]
  },
  {
   "cell_type": "code",
   "execution_count": null,
   "metadata": {},
   "outputs": [],
   "source": []
  },
  {
   "cell_type": "code",
   "execution_count": null,
   "metadata": {},
   "outputs": [],
   "source": []
  },
  {
   "cell_type": "markdown",
   "metadata": {},
   "source": [
    "# floweaver"
   ]
  },
  {
   "cell_type": "code",
   "execution_count": 83,
   "metadata": {},
   "outputs": [],
   "source": [
    "flow_df = pd.DataFrame(columns=['source','target','type','value'])"
   ]
  },
  {
   "cell_type": "code",
   "execution_count": 84,
   "metadata": {},
   "outputs": [],
   "source": [
    "flow_df.source = [link['source'] for link in links]\n",
    "flow_df.target = [link['target'] for link in links]\n",
    "flow_df.type = [link['type'] for link in links]\n",
    "flow_df.value = [link['value'] for link in links]"
   ]
  },
  {
   "cell_type": "code",
   "execution_count": 85,
   "metadata": {},
   "outputs": [
    {
     "data": {
      "application/vnd.jupyter.widget-view+json": {
       "model_id": "93bf12819cf44b5f94a78b09f017a334",
       "version_major": 2,
       "version_minor": 0
      },
      "text/plain": [
       "QgridWidget(grid_options={'fullWidthRows': True, 'syncColumnCellResize': True, 'forceFitColumns': True, 'defau…"
      ]
     },
     "metadata": {},
     "output_type": "display_data"
    }
   ],
   "source": [
    "flow_df_w = qgrid.show_grid(flow_df, show_toolbar=True)\n",
    "flow_df_w"
   ]
  },
  {
   "cell_type": "code",
   "execution_count": 86,
   "metadata": {},
   "outputs": [
    {
     "data": {
      "application/vnd.jupyter.widget-view+json": {
       "model_id": "9d0d3f5638a44d5c8deaf21619df16d1",
       "version_major": 2,
       "version_minor": 0
      },
      "text/plain": [
       "SankeyWidget(links=[{'source': '0', 'target': '1', 'type': 'w', 'value': 4}, {'source': '0', 'target': '2', 't…"
      ]
     },
     "metadata": {},
     "output_type": "display_data"
    }
   ],
   "source": [
    "from ipysankeywidget import SankeyWidget\n",
    "SankeyWidget(links=flow_df.to_dict('records'))"
   ]
  },
  {
   "cell_type": "code",
   "execution_count": 87,
   "metadata": {},
   "outputs": [],
   "source": [
    "from floweaver import *"
   ]
  },
  {
   "cell_type": "code",
   "execution_count": 88,
   "metadata": {},
   "outputs": [],
   "source": [
    "# Set the default size to fit the documentation better.\n",
    "size = dict(width=570, height=300)\n",
    "\n",
    "nodes = {\n",
    "    't1': ProcessGroup(['0','3']),\n",
    "    't2': ProcessGroup(['1','2','4']),\n",
    "    't3': ProcessGroup(['5','6','7']),\n",
    "    't4': ProcessGroup(['8','9','10']),\n",
    "    't5': ProcessGroup(['11','12','13','14']),\n",
    "    't6': ProcessGroup(['15','16','17']),\n",
    "}"
   ]
  },
  {
   "cell_type": "code",
   "execution_count": 89,
   "metadata": {},
   "outputs": [],
   "source": [
    "ordering = [\n",
    "    ['t1'],['t2'],['t3'],['t4'],['t5'],['t6'],\n",
    "]"
   ]
  },
  {
   "cell_type": "code",
   "execution_count": 90,
   "metadata": {},
   "outputs": [],
   "source": [
    "bundles = [\n",
    "    Bundle('t1','t2','t3','t4','t5','t6'),\n",
    "]"
   ]
  },
  {
   "cell_type": "code",
   "execution_count": 91,
   "metadata": {},
   "outputs": [
    {
     "ename": "ValueError",
     "evalue": "Unknown waypoint \"t\" in bundle 0",
     "output_type": "error",
     "traceback": [
      "\u001b[0;31m---------------------------------------------------------------------------\u001b[0m",
      "\u001b[0;31mValueError\u001b[0m                                Traceback (most recent call last)",
      "\u001b[0;32m<ipython-input-91-cdd520c8a344>\u001b[0m in \u001b[0;36m<module>\u001b[0;34m()\u001b[0m\n\u001b[0;32m----> 1\u001b[0;31m \u001b[0msdd\u001b[0m \u001b[0;34m=\u001b[0m \u001b[0mSankeyDefinition\u001b[0m\u001b[0;34m(\u001b[0m\u001b[0mnodes\u001b[0m\u001b[0;34m,\u001b[0m \u001b[0mbundles\u001b[0m\u001b[0;34m,\u001b[0m \u001b[0mordering\u001b[0m\u001b[0;34m)\u001b[0m\u001b[0;34m\u001b[0m\u001b[0m\n\u001b[0m\u001b[1;32m      2\u001b[0m \u001b[0mweave\u001b[0m\u001b[0;34m(\u001b[0m\u001b[0msdd\u001b[0m\u001b[0;34m,\u001b[0m \u001b[0mflow_df\u001b[0m\u001b[0;34m)\u001b[0m\u001b[0;34m.\u001b[0m\u001b[0mto_widget\u001b[0m\u001b[0;34m(\u001b[0m\u001b[0;34m**\u001b[0m\u001b[0msize\u001b[0m\u001b[0;34m)\u001b[0m\u001b[0;34m\u001b[0m\u001b[0m\n",
      "\u001b[0;32m<attrs generated init 753a135e34cf487d04b68ec9a1edeea6b1be8eb8>\u001b[0m in \u001b[0;36m__init__\u001b[0;34m(self, nodes, bundles, ordering, flow_selection, flow_partition, time_partition)\u001b[0m\n\u001b[1;32m      8\u001b[0m     \u001b[0m_setattr\u001b[0m\u001b[0;34m(\u001b[0m\u001b[0;34m'time_partition'\u001b[0m\u001b[0;34m,\u001b[0m \u001b[0mtime_partition\u001b[0m\u001b[0;34m)\u001b[0m\u001b[0;34m\u001b[0m\u001b[0m\n\u001b[1;32m      9\u001b[0m     \u001b[0;32mif\u001b[0m \u001b[0m_config\u001b[0m\u001b[0;34m.\u001b[0m\u001b[0m_run_validators\u001b[0m \u001b[0;32mis\u001b[0m \u001b[0;32mTrue\u001b[0m\u001b[0;34m:\u001b[0m\u001b[0;34m\u001b[0m\u001b[0m\n\u001b[0;32m---> 10\u001b[0;31m         \u001b[0m__attr_validator_bundles\u001b[0m\u001b[0;34m(\u001b[0m\u001b[0mself\u001b[0m\u001b[0;34m,\u001b[0m \u001b[0m__attr_bundles\u001b[0m\u001b[0;34m,\u001b[0m \u001b[0mself\u001b[0m\u001b[0;34m.\u001b[0m\u001b[0mbundles\u001b[0m\u001b[0;34m)\u001b[0m\u001b[0;34m\u001b[0m\u001b[0m\n\u001b[0m\u001b[1;32m     11\u001b[0m         \u001b[0m__attr_validator_ordering\u001b[0m\u001b[0;34m(\u001b[0m\u001b[0mself\u001b[0m\u001b[0;34m,\u001b[0m \u001b[0m__attr_ordering\u001b[0m\u001b[0;34m,\u001b[0m \u001b[0mself\u001b[0m\u001b[0;34m.\u001b[0m\u001b[0mordering\u001b[0m\u001b[0;34m)\u001b[0m\u001b[0;34m\u001b[0m\u001b[0m\n",
      "\u001b[0;32m/opt/anaconda3/lib/python3.6/site-packages/floweaver/sankey_definition.py\u001b[0m in \u001b[0;36m_validate_bundles\u001b[0;34m(instance, attribute, bundles)\u001b[0m\n\u001b[1;32m     40\u001b[0m             \u001b[0;32mif\u001b[0m \u001b[0mu\u001b[0m \u001b[0;32mnot\u001b[0m \u001b[0;32min\u001b[0m \u001b[0minstance\u001b[0m\u001b[0;34m.\u001b[0m\u001b[0mnodes\u001b[0m\u001b[0;34m:\u001b[0m\u001b[0;34m\u001b[0m\u001b[0m\n\u001b[1;32m     41\u001b[0m                 raise ValueError('Unknown waypoint \"{}\" in bundle {}'.format(\n\u001b[0;32m---> 42\u001b[0;31m                     u, k))\n\u001b[0m\u001b[1;32m     43\u001b[0m             \u001b[0;32mif\u001b[0m \u001b[0;32mnot\u001b[0m \u001b[0misinstance\u001b[0m\u001b[0;34m(\u001b[0m\u001b[0minstance\u001b[0m\u001b[0;34m.\u001b[0m\u001b[0mnodes\u001b[0m\u001b[0;34m[\u001b[0m\u001b[0mu\u001b[0m\u001b[0;34m]\u001b[0m\u001b[0;34m,\u001b[0m \u001b[0mWaypoint\u001b[0m\u001b[0;34m)\u001b[0m\u001b[0;34m:\u001b[0m\u001b[0;34m\u001b[0m\u001b[0m\n\u001b[1;32m     44\u001b[0m                 raise ValueError(\n",
      "\u001b[0;31mValueError\u001b[0m: Unknown waypoint \"t\" in bundle 0"
     ]
    }
   ],
   "source": [
    "sdd = SankeyDefinition(nodes, bundles, ordering)\n",
    "weave(sdd, flow_df).to_widget(**size)"
   ]
  },
  {
   "cell_type": "code",
   "execution_count": null,
   "metadata": {},
   "outputs": [],
   "source": []
  },
  {
   "cell_type": "markdown",
   "metadata": {},
   "source": [
    "# Sankey Diagram: Semiotic\n",
    "- [Semiotic](https://emeeks.github.io/semiotic/#/)\n",
    "- [Sankey](https://emeeks.github.io/semiotic/#/semiotic/sankey)"
   ]
  },
  {
   "cell_type": "markdown",
   "metadata": {},
   "source": [
    "ToDo:\n",
    "- improve the colors of the flows\n",
    "  - within the same community, should be slightly lighter shade\n",
    "  - from one community to another should be a blended color\n",
    "- interaction\n",
    "  - add hover information on the nodes and flows\n",
    "  - click to do ???"
   ]
  },
  {
   "cell_type": "markdown",
   "metadata": {},
   "source": [
    "generate an HTML file, and then display it in the notebook"
   ]
  },
  {
   "cell_type": "code",
   "execution_count": 404,
   "metadata": {},
   "outputs": [],
   "source": [
    "htmlFileName = 'sankey-diagram-semiotic.html'"
   ]
  },
  {
   "cell_type": "code",
   "execution_count": 405,
   "metadata": {},
   "outputs": [],
   "source": [
    "htmlFile = open(htmlFileName, mode=\"w\")"
   ]
  },
  {
   "cell_type": "code",
   "execution_count": 406,
   "metadata": {},
   "outputs": [
    {
     "data": {
      "text/plain": [
       "52"
      ]
     },
     "execution_count": 406,
     "metadata": {},
     "output_type": "execute_result"
    }
   ],
   "source": [
    "# header\n",
    "htmlFile.write(\"\"\"\n",
    "<html>\n",
    "<head>\n",
    "</head>\n",
    "<body>\n",
    "<div id='main'></div>\n",
    "\"\"\")"
   ]
  },
  {
   "cell_type": "code",
   "execution_count": 407,
   "metadata": {},
   "outputs": [
    {
     "data": {
      "text/plain": [
       "247"
      ]
     },
     "execution_count": 407,
     "metadata": {},
     "output_type": "execute_result"
    }
   ],
   "source": [
    "# script imports\n",
    "htmlFile.write(\"\"\"\n",
    "<script src='https://cdnjs.cloudflare.com/ajax/libs/react/15.6.1/react.js'></script>\n",
    "<script src='https://cdnjs.cloudflare.com/ajax/libs/react/15.6.1/react-dom.js'></script>\n",
    "<script src='https://unpkg.com/semiotic/dist/semiotic.min.js'></script>\n",
    "\"\"\")"
   ]
  },
  {
   "cell_type": "code",
   "execution_count": 408,
   "metadata": {},
   "outputs": [
    {
     "data": {
      "text/plain": [
       "75"
      ]
     },
     "execution_count": 408,
     "metadata": {},
     "output_type": "execute_result"
    }
   ],
   "source": [
    "# begin script\n",
    "htmlFile.write(\"\"\"\n",
    "<script >\n",
    "var _Semiotic = Semiotic,NetworkFrame = _Semiotic.NetworkFrame;\n",
    "\"\"\")"
   ]
  },
  {
   "cell_type": "code",
   "execution_count": 409,
   "metadata": {},
   "outputs": [
    {
     "data": {
      "text/plain": [
       "911"
      ]
     },
     "execution_count": 409,
     "metadata": {},
     "output_type": "execute_result"
    }
   ],
   "source": [
    "# Code from 'Generating a series of colors between two colors' (StackExchange)\n",
    "htmlFile.write(\"\"\"\n",
    "// Returns a single rgb color interpolation between given rgb color\n",
    "// based on the factor given; via https://codepen.io/njmcode/pen/axoyD?editors=0010\n",
    "function interpolateColor(color1, color2, factor) {\n",
    "    if (arguments.length < 3) { \n",
    "        factor = 0.5; \n",
    "    }\n",
    "    var result = color1.slice();\n",
    "    for (var i = 0; i < 3; i++) {\n",
    "        result[i] = Math.round(result[i] + factor * (color2[i] - color1[i]));\n",
    "    }\n",
    "    return result;\n",
    "};\n",
    "// My function to interpolate between two colors completely, returning an array\n",
    "function interpolateColors(color1, color2, steps) {\n",
    "    var stepFactor = 1 / (steps - 1),\n",
    "        interpolatedColorArray = [];\n",
    "\n",
    "    color1 = color1.match(/\\d+/g).map(Number);\n",
    "    color2 = color2.match(/\\d+/g).map(Number);\n",
    "\n",
    "    for(var i = 0; i < steps; i++) {\n",
    "        interpolatedColorArray.push(interpolateColor(color1, color2, stepFactor * i));\n",
    "    }\n",
    "\n",
    "    return interpolatedColorArray;\n",
    "}\n",
    "\"\"\")"
   ]
  },
  {
   "cell_type": "code",
   "execution_count": 410,
   "metadata": {},
   "outputs": [
    {
     "data": {
      "text/plain": [
       "319"
      ]
     },
     "execution_count": 410,
     "metadata": {},
     "output_type": "execute_result"
    }
   ],
   "source": [
    "htmlFile.write(\"\"\"\n",
    "const colorDefinition = {\n",
    "    'red':     'rgb(255,20,20)',\n",
    "    'green':   'rgb(0,179,0)',\n",
    "    'blue':    'rgb(0,0,179)',\n",
    "    'magenta': 'rgb(139,0,139)'\n",
    "}\n",
    "\n",
    "const colorDefinitionLight = {\n",
    "    'red':     'rgb(255,99,99)',\n",
    "    'green':   'rgb(0,179,0)',\n",
    "    'blue':    'rgb(81,81,255)',\n",
    "    'magenta': 'rgb(198,0,198)'\n",
    "}\n",
    "\"\"\")"
   ]
  },
  {
   "cell_type": "code",
   "execution_count": 411,
   "metadata": {},
   "outputs": [
    {
     "data": {
      "text/plain": [
       "91"
      ]
     },
     "execution_count": 411,
     "metadata": {},
     "output_type": "execute_result"
    }
   ],
   "source": [
    "htmlFile.write(\"\"\"\n",
    "const colorMap = {\n",
    "    '0': 'red',\n",
    "    '1': 'blue',\n",
    "    '2': 'magenta',\n",
    "    '3': 'green'}\n",
    "\"\"\")"
   ]
  },
  {
   "cell_type": "code",
   "execution_count": 412,
   "metadata": {},
   "outputs": [
    {
     "data": {
      "text/plain": [
       "68"
      ]
     },
     "execution_count": 412,
     "metadata": {},
     "output_type": "execute_result"
    }
   ],
   "source": [
    "htmlFile.write(\"\"\"\n",
    "function colorForNode(n) {\n",
    "  return colorDefinition[colorMap[n]]\n",
    "}\n",
    "\"\"\")"
   ]
  },
  {
   "cell_type": "code",
   "execution_count": 413,
   "metadata": {},
   "outputs": [
    {
     "data": {
      "text/plain": [
       "586"
      ]
     },
     "execution_count": 413,
     "metadata": {},
     "output_type": "execute_result"
    }
   ],
   "source": [
    "htmlFile.write(\"\"\"\n",
    "\n",
    "function linkTransition(s,d) {\n",
    "  const steps = 5;\n",
    "  const factor = 0.75;\n",
    "  const index = Math.round((steps-1)*factor);\n",
    "  var color_s = colorDefinition[colorMap[s]];\n",
    "  var color_d = colorDefinition[colorMap[d]];\n",
    "  console.log(s, color_s);\n",
    "  console.log(d, color_d);\n",
    "  var gradient = interpolateColors(color_s, color_d, steps);\n",
    "  var choice = gradient[index];\n",
    "  var color = 'rgb('+choice[0]+','+choice[1]+','+choice[2]+')';\n",
    "  return color;\n",
    "}\n",
    "\n",
    "function colorForLink(s,d) {\n",
    "  if (s == d) {\n",
    "    return colorDefinitionLight[colorMap[s]];\n",
    "  }\n",
    "  else {\n",
    "    return linkTransition(s,d);\n",
    "  }\n",
    "}\n",
    "\n",
    "\"\"\")"
   ]
  },
  {
   "cell_type": "code",
   "execution_count": 414,
   "metadata": {},
   "outputs": [
    {
     "data": {
      "text/plain": [
       "4"
      ]
     },
     "execution_count": 414,
     "metadata": {},
     "output_type": "execute_result"
    }
   ],
   "source": [
    "htmlFile.write(\"var nodes = [\\n\")\n",
    "for i in range(len(labels)):\n",
    "    if i > 0: htmlFile.write(\",\\n\")\n",
    "    htmlFile.write(\"{\\n\")\n",
    "    htmlFile.write(\"  id: '{}',\\n\".format(i))\n",
    "    htmlFile.write(\"  label: '{}',\\n\".format(labels[i]))\n",
    "    htmlFile.write(\"  community: '{}'\\n\".format(labels[i]))\n",
    "    htmlFile.write(\"}\")\n",
    "htmlFile.write(\"\\n];\\n\")"
   ]
  },
  {
   "cell_type": "code",
   "execution_count": 415,
   "metadata": {},
   "outputs": [
    {
     "data": {
      "text/plain": [
       "3"
      ]
     },
     "execution_count": 415,
     "metadata": {},
     "output_type": "execute_result"
    }
   ],
   "source": [
    "# edges\n",
    "htmlFile.write(\"var edges = [\\n\")\n",
    "for i in range(len(sources)):\n",
    "    if i > 0: htmlFile.write(\",\\n\")\n",
    "    htmlFile.write(\"{ \\n\")\n",
    "    htmlFile.write(\"  source: '{}',\\n\".format(sources[i]))\n",
    "    htmlFile.write(\"  target: '{}',\\n\".format(targets[i]))\n",
    "    htmlFile.write(\"  value: {},\\n\".format(values[i]))\n",
    "    htmlFile.write(\"  flow: '{}->{}',\\n\".format(labels[int(sources[i])], labels[int(targets[i])]))\n",
    "    htmlFile.write(\"  origin: '{}',\\n\".format(labels[int(sources[i])]))\n",
    "    htmlFile.write(\"  destination: '{}'\\n\".format(labels[int(targets[i])]))\n",
    "    htmlFile.write(\"}\")\n",
    "htmlFile.write(\"\\n];\")"
   ]
  },
  {
   "cell_type": "code",
   "execution_count": 416,
   "metadata": {},
   "outputs": [
    {
     "data": {
      "text/plain": [
       "59"
      ]
     },
     "execution_count": 416,
     "metadata": {},
     "output_type": "execute_result"
    }
   ],
   "source": [
    "# log nodes and edges\n",
    "htmlFile.write(\"\"\"\n",
    "console.log('nodes', nodes);\n",
    "console.log('edges', edges);\n",
    "\"\"\")"
   ]
  },
  {
   "cell_type": "code",
   "execution_count": 417,
   "metadata": {},
   "outputs": [
    {
     "data": {
      "text/plain": [
       "457"
      ]
     },
     "execution_count": 417,
     "metadata": {},
     "output_type": "execute_result"
    }
   ],
   "source": [
    "# render diagram\n",
    "htmlFile.write(\"\"\"\n",
    "ReactDOM.render(\n",
    "React.createElement(NetworkFrame, {\n",
    "  size: [1000, 600],\n",
    "  nodes: nodes,\n",
    "  edges: edges,\n",
    "  networkType: { type: 'sankey' },\n",
    "  nodeStyle: function(d) { return { fill: colorForNode(d.community), stroke: 'black' } },\n",
    "  nodeLabels: function(d) { return d.label},\n",
    "  edgeStyle: function(d) { return { stroke: 'black', fill: colorForLink(d.origin, d.destination) } },\n",
    "  margin: 31,\n",
    "  hoverAnnotation: {true}}),\n",
    "\n",
    "document.getElementById('main'));\n",
    "\"\"\")"
   ]
  },
  {
   "cell_type": "code",
   "execution_count": 418,
   "metadata": {},
   "outputs": [
    {
     "data": {
      "text/plain": [
       "11"
      ]
     },
     "execution_count": 418,
     "metadata": {},
     "output_type": "execute_result"
    }
   ],
   "source": [
    "# end script\n",
    "htmlFile.write(\"\"\"\n",
    "</script>\n",
    "\"\"\")"
   ]
  },
  {
   "cell_type": "code",
   "execution_count": 419,
   "metadata": {},
   "outputs": [
    {
     "data": {
      "text/plain": [
       "17"
      ]
     },
     "execution_count": 419,
     "metadata": {},
     "output_type": "execute_result"
    }
   ],
   "source": [
    "# end of HTML\n",
    "htmlFile.write(\"\"\"\n",
    "</body>\n",
    "</html>\n",
    "\"\"\")"
   ]
  },
  {
   "cell_type": "code",
   "execution_count": 420,
   "metadata": {},
   "outputs": [],
   "source": [
    "htmlFile.close()"
   ]
  },
  {
   "cell_type": "markdown",
   "metadata": {},
   "source": [
    "try to display the diagram in the generated HTML file..."
   ]
  },
  {
   "cell_type": "code",
   "execution_count": 125,
   "metadata": {},
   "outputs": [
    {
     "data": {
      "text/html": [
       "\n",
       "<html>\n",
       "<head>\n",
       "</head>\n",
       "<body>\n",
       "<div id='main'></div>\n",
       "\n",
       "<script src='https://cdnjs.cloudflare.com/ajax/libs/react/15.6.1/react.js'></script>\n",
       "<script src='https://cdnjs.cloudflare.com/ajax/libs/react/15.6.1/react-dom.js'></script>\n",
       "<script src='https://unpkg.com/semiotic/dist/semiotic.min.js'></script>\n",
       "\n",
       "<script >\n",
       "var _Semiotic = Semiotic,NetworkFrame = _Semiotic.NetworkFrame;\n",
       "\n",
       "const colorMap = {\n",
       "    'red':         '#ff0000',\n",
       "    'green':       '#00ff00',\n",
       "    'blue':        '#0000ff',\n",
       "    'magenta':     '#8b008b',\n",
       "    'lightgray':   '#d3d3d3'\n",
       "}\n",
       "\n",
       "const nodeColors = {\n",
       "  w: colorMap['red'],\n",
       "  x: colorMap['blue'],\n",
       "  y: colorMap['magenta'],\n",
       "  z: colorMap['green']\n",
       "}\n",
       "\n",
       "const flowColors = {\n",
       "    '0->0': colorMap['red'],\n",
       "    '0->1': colorMap['lightgray'],\n",
       "    '0->2': colorMap['lightgray'],\n",
       "    '0->3': colorMap['lightgray'],\n",
       "    '1->0': colorMap['lightgray'],\n",
       "    '1->1': colorMap['blue'],\n",
       "    '1->2': colorMap['lightgray'],\n",
       "    '1->3': colorMap['lightgray'],\n",
       "    '2->0': colorMap['lightgray'],\n",
       "    '2->1': colorMap['lightgray'],\n",
       "    '2->2': colorMap['magenta'],\n",
       "    '2->3': colorMap['lightgray'],\n",
       "    '3->0': colorMap['lightgray'],\n",
       "    '3->1': colorMap['lightgray'],\n",
       "    '3->2': colorMap['lightgray'],\n",
       "    '3->3': colorMap['green']\n",
       "}\n",
       "var nodes = [\n",
       "{\n",
       "  id: '0',\n",
       "  label: '0',\n",
       "  category: 'w'\n",
       "},\n",
       "{\n",
       "  id: '1',\n",
       "  label: '0',\n",
       "  category: 'w'\n",
       "},\n",
       "{\n",
       "  id: '2',\n",
       "  label: '1',\n",
       "  category: 'x'\n",
       "},\n",
       "{\n",
       "  id: '3',\n",
       "  label: '1',\n",
       "  category: 'x'\n",
       "},\n",
       "{\n",
       "  id: '4',\n",
       "  label: '2',\n",
       "  category: 'y'\n",
       "},\n",
       "{\n",
       "  id: '5',\n",
       "  label: '0',\n",
       "  category: 'w'\n",
       "},\n",
       "{\n",
       "  id: '6',\n",
       "  label: '1',\n",
       "  category: 'x'\n",
       "},\n",
       "{\n",
       "  id: '7',\n",
       "  label: '2',\n",
       "  category: 'y'\n",
       "},\n",
       "{\n",
       "  id: '8',\n",
       "  label: '0',\n",
       "  category: 'w'\n",
       "},\n",
       "{\n",
       "  id: '9',\n",
       "  label: '1',\n",
       "  category: 'x'\n",
       "},\n",
       "{\n",
       "  id: '10',\n",
       "  label: '2',\n",
       "  category: 'y'\n",
       "},\n",
       "{\n",
       "  id: '11',\n",
       "  label: '0',\n",
       "  category: 'w'\n",
       "},\n",
       "{\n",
       "  id: '12',\n",
       "  label: '1',\n",
       "  category: 'x'\n",
       "},\n",
       "{\n",
       "  id: '13',\n",
       "  label: '2',\n",
       "  category: 'y'\n",
       "},\n",
       "{\n",
       "  id: '14',\n",
       "  label: '3',\n",
       "  category: 'z'\n",
       "},\n",
       "{\n",
       "  id: '15',\n",
       "  label: '0',\n",
       "  category: 'w'\n",
       "},\n",
       "{\n",
       "  id: '16',\n",
       "  label: '1',\n",
       "  category: 'x'\n",
       "},\n",
       "{\n",
       "  id: '17',\n",
       "  label: '2',\n",
       "  category: 'y'\n",
       "}\n",
       "];\n",
       "var edges = [\n",
       "{ \n",
       "  source: '0',\n",
       "  target: '1',\n",
       "  value: 4,\n",
       "  flow: '0->0'\n",
       "},\n",
       "{ \n",
       "  source: '0',\n",
       "  target: '2',\n",
       "  value: 1,\n",
       "  flow: '0->1'\n",
       "},\n",
       "{ \n",
       "  source: '3',\n",
       "  target: '4',\n",
       "  value: 4,\n",
       "  flow: '1->2'\n",
       "},\n",
       "{ \n",
       "  source: '3',\n",
       "  target: '2',\n",
       "  value: 1,\n",
       "  flow: '1->1'\n",
       "},\n",
       "{ \n",
       "  source: '1',\n",
       "  target: '5',\n",
       "  value: 3,\n",
       "  flow: '0->0'\n",
       "},\n",
       "{ \n",
       "  source: '1',\n",
       "  target: '6',\n",
       "  value: 1,\n",
       "  flow: '0->1'\n",
       "},\n",
       "{ \n",
       "  source: '2',\n",
       "  target: '6',\n",
       "  value: 2,\n",
       "  flow: '1->1'\n",
       "},\n",
       "{ \n",
       "  source: '4',\n",
       "  target: '7',\n",
       "  value: 3,\n",
       "  flow: '2->2'\n",
       "},\n",
       "{ \n",
       "  source: '4',\n",
       "  target: '6',\n",
       "  value: 1,\n",
       "  flow: '2->1'\n",
       "},\n",
       "{ \n",
       "  source: '5',\n",
       "  target: '8',\n",
       "  value: 3,\n",
       "  flow: '0->0'\n",
       "},\n",
       "{ \n",
       "  source: '6',\n",
       "  target: '9',\n",
       "  value: 4,\n",
       "  flow: '1->1'\n",
       "},\n",
       "{ \n",
       "  source: '7',\n",
       "  target: '10',\n",
       "  value: 3,\n",
       "  flow: '2->2'\n",
       "},\n",
       "{ \n",
       "  source: '8',\n",
       "  target: '11',\n",
       "  value: 3,\n",
       "  flow: '0->0'\n",
       "},\n",
       "{ \n",
       "  source: '9',\n",
       "  target: '12',\n",
       "  value: 3,\n",
       "  flow: '1->1'\n",
       "},\n",
       "{ \n",
       "  source: '10',\n",
       "  target: '13',\n",
       "  value: 2,\n",
       "  flow: '2->2'\n",
       "},\n",
       "{ \n",
       "  source: '9',\n",
       "  target: '13',\n",
       "  value: 1,\n",
       "  flow: '1->2'\n",
       "},\n",
       "{ \n",
       "  source: '10',\n",
       "  target: '14',\n",
       "  value: 1,\n",
       "  flow: '2->3'\n",
       "},\n",
       "{ \n",
       "  source: '8',\n",
       "  target: '14',\n",
       "  value: 2,\n",
       "  flow: '0->3'\n",
       "},\n",
       "{ \n",
       "  source: '11',\n",
       "  target: '15',\n",
       "  value: 3,\n",
       "  flow: '0->0'\n",
       "},\n",
       "{ \n",
       "  source: '12',\n",
       "  target: '16',\n",
       "  value: 3,\n",
       "  flow: '1->1'\n",
       "},\n",
       "{ \n",
       "  source: '13',\n",
       "  target: '17',\n",
       "  value: 2,\n",
       "  flow: '2->2'\n",
       "},\n",
       "{ \n",
       "  source: '14',\n",
       "  target: '17',\n",
       "  value: 3,\n",
       "  flow: '3->2'\n",
       "}\n",
       "];\n",
       "console.log('nodes', nodes);\n",
       "console.log('edges', edges);\n",
       "\n",
       "ReactDOM.render(\n",
       "React.createElement(NetworkFrame, {\n",
       "  size: [1000, 600],\n",
       "  nodes: nodes,\n",
       "  edges: edges,\n",
       "  networkType: { type: 'sankey' },\n",
       "  nodeStyle: function(d) { return { fill: nodeColors[d.category], stroke: 'black' } },\n",
       "  nodeLabels: function(d) { return d.label},\n",
       "  edgeStyle: function(d) { return { stroke: 'black', fill: flowColors[d.flow] } },\n",
       "  margin: 31 }),\n",
       "\n",
       "document.getElementById('main'));\n",
       "\n",
       "</script>\n",
       "\n",
       "</body>\n",
       "</html>\n"
      ],
      "text/plain": [
       "<IPython.core.display.HTML object>"
      ]
     },
     "execution_count": 125,
     "metadata": {},
     "output_type": "execute_result"
    }
   ],
   "source": [
    "from IPython.display import HTML\n",
    "HTML(filename=htmlFileName)"
   ]
  },
  {
   "cell_type": "code",
   "execution_count": null,
   "metadata": {},
   "outputs": [],
   "source": []
  },
  {
   "cell_type": "markdown",
   "metadata": {},
   "source": [
    "# Sankey Diagram: Google Charts\n",
    "[Sankey Diagram](https://developers.google.com/chart/interactive/docs/gallery/sankey)"
   ]
  },
  {
   "cell_type": "code",
   "execution_count": 199,
   "metadata": {},
   "outputs": [],
   "source": [
    "htmlFileName = 'sankey-diagram-google-charts.html'"
   ]
  },
  {
   "cell_type": "code",
   "execution_count": 200,
   "metadata": {},
   "outputs": [],
   "source": [
    "htmlFile = open(htmlFileName, \"w\")"
   ]
  },
  {
   "cell_type": "code",
   "execution_count": 201,
   "metadata": {},
   "outputs": [
    {
     "data": {
      "text/plain": [
       "838"
      ]
     },
     "execution_count": 201,
     "metadata": {},
     "output_type": "execute_result"
    }
   ],
   "source": [
    "# the top\n",
    "htmlFile.write(\"\"\"\n",
    "<html>\n",
    "<body>\n",
    " <script type='text/javascript' src='https://www.gstatic.com/charts/loader.js'></script>\n",
    "\n",
    "<div id='sankey_multiple' style='width: 900px; height: 300px;'></div>\n",
    "\n",
    "<script type='text/javascript'>\n",
    "  google.charts.load('current', {packages:['sankey']});\n",
    "  google.charts.setOnLoadCallback(drawChart);\n",
    "   function drawChart() {\n",
    "    var data = new google.visualization.DataTable();\n",
    "    //data.addColumn('string', 'From');\n",
    "    //data.addColumn('string', 'To');\n",
    "    //data.addColumn('number', 'Weight');\n",
    "    data.addColumn({type: 'string', label: 'From', id: 'source', role: 'domain'})\n",
    "    data.addColumn({type: 'string', label: 'To', id: 'target', role: 'domain'})\n",
    "    data.addColumn({type: 'number', label: 'Weight', id: 'value', role: 'data'})\n",
    "    data.addColumn({type: 'string', label: 'Label', id: 'label', role: 'annotation'})\n",
    "\"\"\")"
   ]
  },
  {
   "cell_type": "code",
   "execution_count": 202,
   "metadata": {},
   "outputs": [
    {
     "data": {
      "text/plain": [
       "20"
      ]
     },
     "execution_count": 202,
     "metadata": {},
     "output_type": "execute_result"
    }
   ],
   "source": [
    "# the middle: the data part\n",
    "htmlFile.write(\"\"\"\n",
    "    data.addRows([\n",
    "\"\"\")"
   ]
  },
  {
   "cell_type": "code",
   "execution_count": 203,
   "metadata": {},
   "outputs": [],
   "source": [
    "for i in range(len(sources)):\n",
    "    if i > 0: htmlFile.write(\",\\n\")\n",
    "    htmlFile.write(\"       [ '{}', '{}', {}, '{}' ]\".format(sources[i], \n",
    "                                                          targets[i], \n",
    "                                                          values[i],\n",
    "                                                          labels[int(sources[i])]))"
   ]
  },
  {
   "cell_type": "code",
   "execution_count": 204,
   "metadata": {},
   "outputs": [
    {
     "data": {
      "text/plain": [
       "9"
      ]
     },
     "execution_count": 204,
     "metadata": {},
     "output_type": "execute_result"
    }
   ],
   "source": [
    "htmlFile.write(\"\"\"\n",
    "    ]);\n",
    "\"\"\")"
   ]
  },
  {
   "cell_type": "code",
   "execution_count": 205,
   "metadata": {},
   "outputs": [
    {
     "data": {
      "text/plain": [
       "126"
      ]
     },
     "execution_count": 205,
     "metadata": {},
     "output_type": "execute_result"
    }
   ],
   "source": [
    "# colors\n",
    "htmlFile.write(\"\"\"\n",
    "    var colors = ['#a6cee3', '#b2df8a', '#fb9a99', '#fdbf6f',\n",
    "                  '#cab2d6', '#ffff99', '#1f78b4', '#33a02c'];\n",
    "\"\"\")"
   ]
  },
  {
   "cell_type": "code",
   "execution_count": 206,
   "metadata": {},
   "outputs": [
    {
     "data": {
      "text/plain": [
       "525"
      ]
     },
     "execution_count": 206,
     "metadata": {},
     "output_type": "execute_result"
    }
   ],
   "source": [
    "# the bottom\n",
    "htmlFile.write(\"\"\"\n",
    "    // Set chart options\n",
    "    var options = {\n",
    "      width:  800,\n",
    "      height: 600,\n",
    "      sankey: {\n",
    "        node: {\n",
    "          colors: colors,\n",
    "          color: { stroke: 'black', strokeWidth: 1 }\n",
    "        },\n",
    "        link: {\n",
    "          colorMode: 'gradient',\n",
    "          colors: colors\n",
    "        }\n",
    "      }\n",
    "    };\n",
    "\n",
    "    // Instantiate and draw our chart, passing in some options.\n",
    "    var chart = new google.visualization.Sankey(document.getElementById('sankey_multiple'));\n",
    "    chart.draw(data, options);\n",
    "   }\n",
    "</script>\n",
    "</body>\n",
    "</html>\n",
    "\"\"\")"
   ]
  },
  {
   "cell_type": "code",
   "execution_count": 207,
   "metadata": {},
   "outputs": [],
   "source": [
    "htmlFile.close()"
   ]
  },
  {
   "cell_type": "markdown",
   "metadata": {},
   "source": [
    "can we show the generated diagram here?"
   ]
  },
  {
   "cell_type": "code",
   "execution_count": 153,
   "metadata": {},
   "outputs": [
    {
     "data": {
      "text/html": [
       "\n",
       "<html>\n",
       "<body>\n",
       " <script type='text/javascript' src='https://www.gstatic.com/charts/loader.js'></script>\n",
       "\n",
       "<div id='sankey_multiple' style='width: 900px; height: 300px;'></div>\n",
       "\n",
       "<script type='text/javascript'>\n",
       "  google.charts.load('current', {packages:['sankey']});\n",
       "  google.charts.setOnLoadCallback(drawChart);\n",
       "   function drawChart() {\n",
       "    var data = new google.visualization.DataTable();\n",
       "    data.addColumn('string', 'From');\n",
       "    data.addColumn('string', 'To');\n",
       "    data.addColumn('number', 'Weight');\n",
       "\n",
       "    data.addRows([\n",
       "       [ '0', '1', 4 ],\n",
       "       [ '0', '2', 1 ],\n",
       "       [ '3', '4', 4 ],\n",
       "       [ '3', '2', 1 ],\n",
       "       [ '1', '5', 3 ],\n",
       "       [ '1', '6', 1 ],\n",
       "       [ '2', '6', 2 ],\n",
       "       [ '4', '7', 3 ],\n",
       "       [ '4', '6', 1 ],\n",
       "       [ '5', '8', 3 ],\n",
       "       [ '6', '9', 4 ],\n",
       "       [ '7', '10', 3 ],\n",
       "       [ '8', '11', 3 ],\n",
       "       [ '9', '12', 3 ],\n",
       "       [ '10', '13', 2 ],\n",
       "       [ '9', '13', 1 ],\n",
       "       [ '10', '14', 1 ],\n",
       "       [ '8', '14', 2 ],\n",
       "       [ '11', '15', 3 ],\n",
       "       [ '12', '16', 3 ],\n",
       "       [ '13', '17', 2 ],\n",
       "       [ '14', '17', 3 ]\n",
       "    ]);\n",
       "\n",
       "    // Set chart options\n",
       "    var options = {\n",
       "      width: 600,\n",
       "    };\n",
       "\n",
       "    // Instantiate and draw our chart, passing in some options.\n",
       "    var chart = new google.visualization.Sankey(document.getElementById('sankey_multiple'));\n",
       "    chart.draw(data, options);\n",
       "   }\n",
       "</script>\n",
       "</body>\n",
       "</html>\n"
      ],
      "text/plain": [
       "<IPython.core.display.HTML object>"
      ]
     },
     "execution_count": 153,
     "metadata": {},
     "output_type": "execute_result"
    }
   ],
   "source": [
    "from IPython.display import HTML\n",
    "HTML(filename=htmlFileName)"
   ]
  },
  {
   "cell_type": "markdown",
   "metadata": {},
   "source": [
    "# Appendix\n",
    "\n",
    "## installing packages"
   ]
  },
  {
   "cell_type": "markdown",
   "metadata": {},
   "source": [
    "```\n",
    "pip install --upgrade pip\n",
    "pip install python-louvain\n",
    "\n",
    "# qgrid\n",
    "conda install qgrid\n",
    "jupyter nbextension enable --py --sys-prefix qgrid\n",
    "jupyter nbextension enable --py --sys-prefix widgetsnbextension\n",
    "\n",
    "conda install plotly\n",
    "```"
   ]
  },
  {
   "cell_type": "markdown",
   "metadata": {},
   "source": [
    "## Color\n",
    "- [COLORBREWER 2.0, color advice for cartography](http://colorbrewer2.org)\n",
    "- [ColorHexa](https://www.colorhexa.com/)\n",
    "- [RGB Color Gradient Maker](http://www.perbang.dk/rgbgradient/)\n",
    "- [How to average RGB colors together?](https://medium.com/@kevinsimper/how-to-average-rgb-colors-together-6cd3ef1ff1e5)\n",
    "- [Generating a series of colors between two colors](https://graphicdesign.stackexchange.com/a/83867) (StackExchange)\n",
    "- [VB.Net: Generate Color Sequences Using RGB Color Cube](https://social.technet.microsoft.com/wiki/contents/articles/20990.vb-net-generate-color-sequences-using-rgb-color-cube.aspx)"
   ]
  },
  {
   "cell_type": "code",
   "execution_count": null,
   "metadata": {},
   "outputs": [],
   "source": []
  }
 ],
 "metadata": {
  "kernelspec": {
   "display_name": "Python 3",
   "language": "python",
   "name": "python3"
  },
  "language_info": {
   "codemirror_mode": {
    "name": "ipython",
    "version": 3
   },
   "file_extension": ".py",
   "mimetype": "text/x-python",
   "name": "python",
   "nbconvert_exporter": "python",
   "pygments_lexer": "ipython3",
   "version": "3.6.5"
  },
  "toc": {
   "base_numbering": 1,
   "nav_menu": {},
   "number_sections": false,
   "sideBar": false,
   "skip_h1_title": false,
   "title_cell": "Table of Contents",
   "title_sidebar": "Contents",
   "toc_cell": false,
   "toc_position": {},
   "toc_section_display": false,
   "toc_window_display": false
  }
 },
 "nbformat": 4,
 "nbformat_minor": 2
}
